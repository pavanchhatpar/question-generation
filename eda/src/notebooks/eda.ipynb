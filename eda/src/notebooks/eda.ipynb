{
 "cells": [
  {
   "cell_type": "code",
   "execution_count": 6,
   "metadata": {},
   "outputs": [],
   "source": [
    "from text_gan import cfg\n",
    "from text_gan.features import GloVe, NERTagger, PosTagger\n",
    "from text_gan.utils import MapReduce\n",
    "\n",
    "import en_core_web_sm\n",
    "import tensorflow_datasets as tfds\n",
    "import tensorflow as tf\n",
    "import numpy as np\n",
    "import logging\n",
    "import os\n",
    "import gc"
   ]
  },
  {
   "cell_type": "code",
   "execution_count": 2,
   "metadata": {},
   "outputs": [],
   "source": [
    "cembs = GloVe(cfg.EMBS_FILE, cfg.CSEQ_LEN)\n",
    "qembs = GloVe(cfg.EMBS_FILE, cfg.QSEQ_LEN, cembs.data)"
   ]
  },
  {
   "cell_type": "code",
   "execution_count": 3,
   "metadata": {},
   "outputs": [],
   "source": [
    "ner = NERTagger(cfg.NER_TAGS_FILE, cfg.CSEQ_LEN)\n",
    "pos = PosTagger(cfg.POS_TAGS_FILE, cfg.CSEQ_LEN)\n",
    "nlp = en_core_web_sm.load()"
   ]
  },
  {
   "cell_type": "code",
   "execution_count": 4,
   "metadata": {},
   "outputs": [],
   "source": [
    "train = tfds.load(\"squad\", data_dir=\"/tf/data/tf_data\", split='train')"
   ]
  },
  {
   "cell_type": "code",
   "execution_count": 5,
   "metadata": {},
   "outputs": [],
   "source": [
    "def tokenize_example(x):\n",
    "    context, question, ans = list(nlp.pipe([\n",
    "        x['context'].decode('utf-8'),\n",
    "        x['question'].decode('utf-8'),\n",
    "        x['answers']['text'][0].decode('utf-8')\n",
    "    ]))\n",
    "    del x\n",
    "    return (context, question, ans)\n",
    "\n",
    "def substrSearch(ans, context):\n",
    "    i = 0\n",
    "    j = 0\n",
    "    s = -1\n",
    "    while i < len(context) and j < len(ans):\n",
    "        if context[i].text == ans[j].text:\n",
    "            s = i\n",
    "            i += 1\n",
    "            j += 1\n",
    "        else:\n",
    "            i += 1\n",
    "            j = 0\n",
    "            s = -1\n",
    "    return s, j"
   ]
  },
  {
   "cell_type": "code",
   "execution_count": 6,
   "metadata": {},
   "outputs": [],
   "source": [
    "mr = MapReduce()\n",
    "train_iter = train.as_numpy_iterator()\n",
    "train_tokenized = mr.process(tokenize_context, train_iter)"
   ]
  },
  {
   "cell_type": "code",
   "execution_count": 7,
   "metadata": {},
   "outputs": [
    {
     "output_type": "execute_result",
     "data": {
      "text/plain": "(83433, 83433, 83433)"
     },
     "metadata": {},
     "execution_count": 7
    }
   ],
   "source": [
    "train_context = []\n",
    "train_question = []\n",
    "train_ans = []\n",
    "for context, ques, ans in train_tokenized:\n",
    "    ans_start, l = substrSearch(ans, context)\n",
    "    if len(ques) >= 20 or ans_start == -1 or ans_start + l >= 250:\n",
    "        continue\n",
    "    train_context.append(context)\n",
    "    train_question.append(ques)\n",
    "    train_ans.append((ans_start, l))\n",
    "len(train_context), len(train_question), len(train_ans)"
   ]
  },
  {
   "cell_type": "code",
   "execution_count": 8,
   "metadata": {},
   "outputs": [],
   "source": [
    "cembs.fit(train_context)\n",
    "qembs.fit(train_question)\n",
    "train_cidx = cembs.transform(train_context)\n",
    "train_ner = ner.transform(train_context)\n",
    "train_pos = ner.transform(train_context)\n",
    "train_qidx = qembs.transform(train_question)\n"
   ]
  },
  {
   "cell_type": "code",
   "execution_count": 10,
   "metadata": {},
   "outputs": [],
   "source": [
    "cseq = cfg.CSEQ_LEN\n",
    "qseq = cfg.QSEQ_LEN\n",
    "\n",
    "def gen():\n",
    "    for cidx, ner, pos, qidx, ans in zip(\n",
    "            train_cidx, train_ner, train_pos,\n",
    "            train_qidx, train_ans):\n",
    "        yield (cidx, ans, qidx, ner, pos)\n",
    "\n",
    "train_dataset = tf.data.Dataset.from_generator(\n",
    "    gen,\n",
    "    (tf.int32, tf.int32, tf.int32, tf.uint8, tf.uint8),\n",
    "    (\n",
    "        tf.TensorShape([cseq]), tf.TensorShape([2]),\n",
    "        tf.TensorShape([qseq]), tf.TensorShape([cseq]), tf.TensorShape([cseq]))\n",
    ")"
   ]
  },
  {
   "cell_type": "code",
   "execution_count": 12,
   "metadata": {},
   "outputs": [
    {
     "output_type": "stream",
     "name": "stdout",
     "text": "Total 83433\n"
    }
   ],
   "source": [
    "i = 0\n",
    "for cidx, ans, qidx, ner, pos in train_dataset:\n",
    "    i += 1\n",
    "print(\"Total\", i)"
   ]
  }
 ],
 "metadata": {
  "language_info": {
   "name": "python",
   "codemirror_mode": {
    "name": "ipython",
    "version": 3
   },
   "version": "3.6.9-final"
  },
  "orig_nbformat": 2,
  "file_extension": ".py",
  "mimetype": "text/x-python",
  "name": "python",
  "npconvert_exporter": "python",
  "pygments_lexer": "ipython3",
  "version": 3,
  "kernelspec": {
   "name": "python3",
   "display_name": "Python 3"
  }
 },
 "nbformat": 4,
 "nbformat_minor": 2
}