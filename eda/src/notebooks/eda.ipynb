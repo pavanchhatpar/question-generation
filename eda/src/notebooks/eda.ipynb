{
 "cells": [
  {
   "cell_type": "code",
   "execution_count": 1,
   "metadata": {},
   "outputs": [],
   "source": [
    "from text_gan import cfg\n",
    "from text_gan.features import GloVe, NERTagger, PosTagger\n",
    "from text_gan.utils import MapReduce\n",
    "\n",
    "import en_core_web_sm\n",
    "import tensorflow_datasets as tfds\n",
    "import tensorflow as tf\n",
    "import numpy as np\n",
    "import logging\n",
    "import os\n",
    "import gc"
   ]
  },
  {
   "cell_type": "code",
   "execution_count": 22,
   "metadata": {},
   "outputs": [],
   "source": [
    "cfg.CSEQ_LEN = 100\n",
    "cfg.QSEQ_LEN = 10"
   ]
  },
  {
   "cell_type": "code",
   "execution_count": 23,
   "metadata": {},
   "outputs": [],
   "source": [
    "cembs = GloVe(cfg.EMBS_FILE, cfg.CSEQ_LEN)\n",
    "qembs = GloVe(cfg.EMBS_FILE, cfg.QSEQ_LEN, cembs.data)"
   ]
  },
  {
   "cell_type": "code",
   "execution_count": 24,
   "metadata": {},
   "outputs": [],
   "source": [
    "ner = NERTagger(cfg.NER_TAGS_FILE, cfg.CSEQ_LEN)\n",
    "pos = PosTagger(cfg.POS_TAGS_FILE, cfg.CSEQ_LEN)\n",
    "nlp = en_core_web_sm.load()"
   ]
  },
  {
   "cell_type": "code",
   "execution_count": 25,
   "metadata": {},
   "outputs": [],
   "source": [
    "train = tfds.load(\"squad\", data_dir=\"/tf/data/tf_data\", split='train').take(10)"
   ]
  },
  {
   "cell_type": "code",
   "execution_count": 26,
   "metadata": {},
   "outputs": [],
   "source": [
    "def tokenize_context(x):\n",
    "    ret = nlp(x['context'].decode('utf-8'))\n",
    "    del x\n",
    "    return ret\n",
    "\n",
    "def tokenize_question(x):\n",
    "    ret = nlp(x['question'].decode('utf-8'))\n",
    "    del x\n",
    "    return ret\n",
    "\n",
    "def tokenize_answer(x):\n",
    "    ret = nlp(x['answers']['text'][0].decode('utf-8'))\n",
    "    del x\n",
    "    return ret\n",
    "\n",
    "def tag_answer(inp):\n",
    "    cidx, aidx = inp\n",
    "    aidx = np.array(aidx, dtype=np.uint8)\n",
    "    if aidx.shape[0] == 0:\n",
    "        return np.zeros(cidx.shape, dtype=np.int32)\n",
    "    size = aidx.shape[0]\n",
    "    shape = cidx.shape[:-1] + (cidx.shape[-1] - size + 1, size)\n",
    "    strides = cidx.strides + (cidx.strides[-1],)\n",
    "    windows = np.lib.stride_tricks.as_strided(\n",
    "        cidx, shape=shape, strides=strides)\n",
    "    answer = np.all(windows == aidx, axis=1)\n",
    "    aidx = np.zeros(cidx.shape, dtype=np.int32)\n",
    "    if answer.nonzero()[0].shape[0] != 0:\n",
    "        start_index = answer.nonzero()[0][0]\n",
    "        for i in range(size):\n",
    "            aidx[start_index+i] = 1\n",
    "    return aidx"
   ]
  },
  {
   "cell_type": "code",
   "execution_count": 18,
   "metadata": {},
   "outputs": [],
   "source": [
    "mr = MapReduce()\n",
    "train_context = train.as_numpy_iterator()\n",
    "train_context = mr.process(tokenize_context, train_context)\n",
    "cembs.fit(train_context, min_freq=None)\n",
    "train_cembs = cembs.transform(train_context)"
   ]
  },
  {
   "cell_type": "code",
   "execution_count": 19,
   "metadata": {},
   "outputs": [],
   "source": [
    "train_answer = train.as_numpy_iterator()\n",
    "train_answer = mr.process(tokenize_answer, train_answer)\n",
    "train_aembs = cembs.transform(train_answer, pad=False, end=False)\n",
    "train_aembs = mr.process(\n",
    "    tag_answer, zip(train_cembs, train_aembs))\n",
    "train_aembs = np.array(train_aembs, dtype=np.uint8)"
   ]
  },
  {
   "cell_type": "code",
   "execution_count": 32,
   "metadata": {},
   "outputs": [],
   "source": [
    "train_question = train.as_numpy_iterator()\n",
    "train_question = mr.process(tokenize_question, train_question)\n",
    "qembs.fit(train_question, min_freq=None)\n",
    "train_qembs = qembs.transform(train_question)"
   ]
  },
  {
   "cell_type": "code",
   "execution_count": 34,
   "metadata": {},
   "outputs": [
    {
     "output_type": "execute_result",
     "data": {
      "text/plain": "[What is one use that would require an antenna to receive signals in various ways at once?,\n About how many counts existed in the Carolingian Empire?,\n How can climate changes be determined from soil?,\n What is Tucson's Fox station?,\n What is the size of New York City in square miles?,\n Who wrote William Tell Overture?,\n How do asset prices generally move in relation to interest rates?,\n When did the Cubs announce a move of their top class A affiliate from Daytona to Myrtle Beach?,\n What was Schleiden's profession?,\n What is :74 used for?]"
     },
     "metadata": {},
     "execution_count": 34
    }
   ],
   "source": [
    "train_question"
   ]
  },
  {
   "cell_type": "code",
   "execution_count": 35,
   "metadata": {},
   "outputs": [
    {
     "output_type": "execute_result",
     "data": {
      "text/plain": "array([ 4,  5, 38, 39, 40, 41, 21,  3,  0,  0], dtype=int32)"
     },
     "metadata": {},
     "execution_count": 35
    }
   ],
   "source": [
    "train_qembs[3]"
   ]
  },
  {
   "cell_type": "code",
   "execution_count": 36,
   "metadata": {},
   "outputs": [
    {
     "output_type": "execute_result",
     "data": {
      "text/plain": "array([0, 0, 0, 0, 0, 0, 0, 0, 0, 0, 0, 0, 0, 0, 0, 0, 0, 0, 0, 0, 0, 0,\n       0, 0, 0, 0, 0, 0, 0, 0, 0, 0, 0, 0, 0, 0, 0, 0, 0, 0, 0, 0, 0, 0,\n       0, 0, 0, 0, 0, 0], dtype=uint8)"
     },
     "metadata": {},
     "execution_count": 36
    }
   ],
   "source": [
    "train_aembs[3]"
   ]
  },
  {
   "cell_type": "code",
   "execution_count": 37,
   "metadata": {},
   "outputs": [
    {
     "output_type": "execute_result",
     "data": {
      "text/plain": "array([  4, 266, 267,  97,  14, 175, 100, 268, 173, 269, 270,  69,  14,\n         7, 271, 272, 273, 274,  97,  19, 275,  23,   6,   7, 276,  67,\n       277, 278,  19, 279, 280,  12,   7, 281, 276,  23,  27, 103,  14,\n       282, 117,   7, 283, 167,  12, 284, 285,  19, 286,   3], dtype=int32)"
     },
     "metadata": {},
     "execution_count": 37
    }
   ],
   "source": [
    "train_cembs[3]"
   ]
  },
  {
   "cell_type": "code",
   "execution_count": null,
   "metadata": {},
   "outputs": [],
   "source": []
  }
 ],
 "metadata": {
  "language_info": {
   "name": "python",
   "codemirror_mode": {
    "name": "ipython",
    "version": 3
   },
   "version": "3.6.9-final"
  },
  "orig_nbformat": 2,
  "file_extension": ".py",
  "mimetype": "text/x-python",
  "name": "python",
  "npconvert_exporter": "python",
  "pygments_lexer": "ipython3",
  "version": 3,
  "kernelspec": {
   "name": "python3",
   "display_name": "Python 3"
  }
 },
 "nbformat": 4,
 "nbformat_minor": 2
}