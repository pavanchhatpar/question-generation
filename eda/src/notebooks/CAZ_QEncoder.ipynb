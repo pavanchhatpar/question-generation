{
 "nbformat": 4,
 "nbformat_minor": 2,
 "metadata": {
  "language_info": {
   "name": "python",
   "codemirror_mode": {
    "name": "ipython",
    "version": 3
   },
   "version": "3.6.9-final"
  },
  "orig_nbformat": 2,
  "file_extension": ".py",
  "mimetype": "text/x-python",
  "name": "python",
  "npconvert_exporter": "python",
  "pygments_lexer": "ipython3",
  "version": 3,
  "kernelspec": {
   "name": "python3",
   "display_name": "Python 3"
  }
 },
 "cells": [
  {
   "cell_type": "code",
   "execution_count": 1,
   "metadata": {},
   "outputs": [],
   "source": [
    "from text_gan.layers import CAZ_Q_Encoder\n",
    "from text_gan.data.qgen_ca_q import CA_QPair, CA_Qcfg\n",
    "import tensorflow as tf\n",
    "gpus = tf.config.experimental.list_physical_devices('GPU')\n",
    "if gpus:\n",
    "    try:\n",
    "        tf.config.experimental.set_memory_growth(gpus[0], True)\n",
    "    except RuntimeError as e:\n",
    "        print(e)"
   ]
  },
  {
   "cell_type": "code",
   "execution_count": 2,
   "metadata": {},
   "outputs": [],
   "source": [
    "data = CA_QPair.load()\n",
    "train = data.train"
   ]
  },
  {
   "cell_type": "code",
   "execution_count": 3,
   "metadata": {},
   "outputs": [],
   "source": [
    "train = train.skip(1).take(1).batch(1)"
   ]
  },
  {
   "cell_type": "code",
   "execution_count": 4,
   "metadata": {},
   "outputs": [],
   "source": [
    "import numpy as np"
   ]
  },
  {
   "cell_type": "code",
   "execution_count": 5,
   "metadata": {},
   "outputs": [],
   "source": [
    "word_emb_mat = np.load(CA_Qcfg.CIDX2EMB)"
   ]
  },
  {
   "cell_type": "code",
   "execution_count": 6,
   "metadata": {},
   "outputs": [
    {
     "output_type": "execute_result",
     "data": {
      "text/plain": "(44790, 300)"
     },
     "metadata": {},
     "execution_count": 6
    }
   ],
   "source": [
    "word_emb_mat.shape"
   ]
  },
  {
   "cell_type": "code",
   "execution_count": 7,
   "metadata": {},
   "outputs": [],
   "source": [
    "enc = CAZ_Q_Encoder(word_emb_mat)"
   ]
  },
  {
   "cell_type": "code",
   "execution_count": 8,
   "metadata": {},
   "outputs": [
    {
     "output_type": "execute_result",
     "data": {
      "text/plain": "((array([[   12,  2298,     9,     4,   600,  1555,    21,     4,   407,\n              6, 13284,     1,    14,     4,  1294,    20,    54,  3676,\n             24,  8845,  1248,    21,     4,   168,    35,   820,  3776,\n           7613,     7,   195, 12102,   389,     4,   933,     5, 14926,\n          12587,  8845,  6141, 15859,     7,   195,   524,  5360,     4,\n           2723,  5246,    21,    89,  2843,    27,  6770,  9453, 12587,\n              7,    31,    68,  1402,   118,     4,  2723,  1921,   399,\n            187,     9,   126,   571,     5,    15,     9,  2809,  9351,\n              5,     4,   802,   889,  5246,    88,  1198,  7613,     5,\n             46,    15,  4256,  7613,    32,    33,  9468,    24,    22,\n             97,  3776,     8,  5876,  1373,    35,    28,  6249,  7613,\n              7,     0,     0,     0,     0,     0,     0,     0,     0,\n              0,     0,     0,     0,     0,     0,     0,     0,     0,\n              0,     0,     0,     0,     0,     0,     0,     0,     0,\n              0,     0,     0,     0,     0,     0,     0,     0,     0,\n              0,     0,     0,     0,     0,     0,     0,     0,     0,\n              0,     0,     0,     0,     0,     0,     0,     0,     0,\n              0,     0,     0,     0,     0,     0,     0,     0,     0,\n              0,     0,     0,     0,     0,     0,     0,     0,     0,\n              0,     0,     0,     0,     0,     0,     0,     0,     0,\n              0,     0,     0,     0,     0,     0,     0,     0,     0,\n              0,     0,     0,     0,     0,     0,     0,     0,     0,\n              0,     0,     0,     0,     0,     0,     0,     0,     0,\n              0,     0,     0,     0,     0,     0,     0,     0,     0,\n              0,     0,     0,     0,     0,     0,     0,     0,     0,\n              0,     0,     0,     0,     0,     0,     0,     0,     0,\n              0,     0,     0,     0,     0,     0,     0,     0,     0,\n              0,     0,     0,     0,     0,     0,     0]], dtype=int32),\n  array([[0, 0, 0, 0, 0, 0, 0, 0, 0, 0, 0, 0, 0, 0, 0, 0, 0, 0, 0, 0, 0, 0,\n          0, 0, 0, 0, 0, 0, 0, 0, 0, 0, 0, 0, 0, 0, 0, 0, 0, 0, 0, 0, 0, 0,\n          0, 0, 0, 0, 0, 0, 0, 0, 0, 0, 0, 0, 0, 0, 0, 0, 0, 0, 0, 0, 0, 0,\n          0, 0, 0, 0, 1, 1, 0, 0, 0, 0, 0, 0, 0, 0, 0, 0, 0, 0, 0, 0, 0, 0,\n          0, 0, 0, 0, 0, 0, 0, 0, 0, 0, 0, 0, 0, 0, 0, 0, 0, 0, 0, 0, 0, 0,\n          0, 0, 0, 0, 0, 0, 0, 0, 0, 0, 0, 0, 0, 0, 0, 0, 0, 0, 0, 0, 0, 0,\n          0, 0, 0, 0, 0, 0, 0, 0, 0, 0, 0, 0, 0, 0, 0, 0, 0, 0, 0, 0, 0, 0,\n          0, 0, 0, 0, 0, 0, 0, 0, 0, 0, 0, 0, 0, 0, 0, 0, 0, 0, 0, 0, 0, 0,\n          0, 0, 0, 0, 0, 0, 0, 0, 0, 0, 0, 0, 0, 0, 0, 0, 0, 0, 0, 0, 0, 0,\n          0, 0, 0, 0, 0, 0, 0, 0, 0, 0, 0, 0, 0, 0, 0, 0, 0, 0, 0, 0, 0, 0,\n          0, 0, 0, 0, 0, 0, 0, 0, 0, 0, 0, 0, 0, 0, 0, 0, 0, 0, 0, 0, 0, 0,\n          0, 0, 0, 0, 0, 0, 0, 0]], dtype=int32),\n  array([[   2,    6,   11,   60,   62,   28,  105, 1135,   45, 1287,    9,\n           360, 2744,    8, 1673, 1356,   49,  987,    4,    3]],\n        dtype=int32)),\n array([[   6,   11,   60,   62,   28,  105, 1135,   45, 1287,    9,  360,\n         2744,    8, 1673, 1356,   49,  987,    4,    3,    0]],\n       dtype=int32))"
     },
     "metadata": {},
     "execution_count": 8
    }
   ],
   "source": [
    "d = next(train.as_numpy_iterator())\n",
    "d"
   ]
  },
  {
   "cell_type": "code",
   "execution_count": 9,
   "metadata": {},
   "outputs": [],
   "source": [
    "op = enc((d[0][0], d[0][1]))"
   ]
  },
  {
   "cell_type": "code",
   "execution_count": 11,
   "metadata": {},
   "outputs": [
    {
     "output_type": "execute_result",
     "data": {
      "text/plain": "(<tf.Tensor: shape=(1, 32), dtype=float32, numpy=\n array([[-0.5832698 ,  0.2967689 , -0.7805909 , -0.1571089 ,  0.14838737,\n          0.4844766 , -0.00615954,  0.38270152, -0.08904511, -0.17057121,\n          0.66873455,  0.39930263, -0.31490922, -0.476024  ,  0.6688216 ,\n         -0.7600732 ,  0.48992154, -0.2133846 , -0.49736843, -0.31560126,\n          0.02557979,  0.14044312,  0.7104269 , -0.62986094, -0.8340663 ,\n          0.7926929 ,  0.10278066,  0.7726338 , -0.48687574,  0.7227173 ,\n          0.3417062 , -0.4191574 ]], dtype=float32)>,\n <tf.Tensor: shape=(1, 250, 32), dtype=float32, numpy=\n array([[[-0.14962393,  0.13419496, -0.14588042, ...,  0.3491785 ,\n           0.06447344, -0.01453531],\n         [-0.20715842,  0.17900138, -0.1949864 , ...,  0.28637484,\n           0.0055774 , -0.06525897],\n         [-0.11661983,  0.18770188, -0.18350747, ...,  0.19868684,\n          -0.01845869, -0.1351095 ],\n         ...,\n         [ 0.35696   ,  0.00646537,  0.2586289 , ...,  0.3115636 ,\n           0.21420315,  0.19832556],\n         [ 0.3413674 , -0.00679685,  0.26200008, ...,  0.26162878,\n           0.15378374,  0.1462474 ],\n         [ 0.29990506, -0.0344042 ,  0.26592702, ...,  0.17206095,\n           0.06918217,  0.07064666]]], dtype=float32)>,\n <tf.Tensor: shape=(1, 32), dtype=float32, numpy=\n array([[ 0.08394447,  0.13595489, -0.2521294 ,  0.02092541,  0.22804826,\n         -0.06682741, -0.3180222 , -0.09470512, -0.14104784, -0.12908769,\n          0.19486462, -0.12437288, -0.15718736,  0.1366833 , -0.25802153,\n          0.01696494, -0.26648033,  0.3390047 , -0.18654437,  0.11857188,\n         -0.02379331,  0.00070079, -0.04009343,  0.11813306,  0.39693636,\n          0.0166353 , -0.04900004, -0.10709517,  0.03453435, -0.30111778,\n         -0.16772069,  0.13733312]], dtype=float32)>,\n <tf.Tensor: shape=(1, 32), dtype=float32, numpy=\n array([[ 0.229983  ,  0.21703073,  0.02388918,  0.08309057,  0.08944254,\n         -0.04130279, -0.1078553 ,  0.05276372,  0.1953511 ,  0.14727625,\n          0.2324411 , -0.04292993, -0.18792629, -0.2331337 ,  0.09479534,\n         -0.0535226 , -0.16674677, -0.10622457, -0.02610986, -0.07205433,\n         -0.01433065, -0.3528645 ,  0.1065803 ,  0.36251947,  0.2899668 ,\n          0.06283298,  0.0286684 ,  0.36051646, -0.21519056,  0.09873107,\n         -0.05147419, -0.27682224]], dtype=float32)>)"
     },
     "metadata": {},
     "execution_count": 11
    }
   ],
   "source": [
    "op"
   ]
  },
  {
   "cell_type": "code",
   "execution_count": 17,
   "metadata": {},
   "outputs": [
    {
     "output_type": "execute_result",
     "data": {
      "text/plain": "<tf.Tensor: shape=(3,), dtype=float32, numpy=array([0.21194157, 0.5761169 , 0.21194157], dtype=float32)>"
     },
     "metadata": {},
     "execution_count": 17
    }
   ],
   "source": [
    "tf.nn.softmax([1.0,2.0,1.0])"
   ]
  },
  {
   "cell_type": "code",
   "execution_count": null,
   "metadata": {},
   "outputs": [],
   "source": []
  }
 ]
}