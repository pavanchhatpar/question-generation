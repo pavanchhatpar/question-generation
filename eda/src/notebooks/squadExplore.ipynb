{
 "nbformat": 4,
 "nbformat_minor": 2,
 "metadata": {
  "language_info": {
   "name": "python",
   "codemirror_mode": {
    "name": "ipython",
    "version": 3
   },
   "version": "3.6.9-final"
  },
  "orig_nbformat": 2,
  "file_extension": ".py",
  "mimetype": "text/x-python",
  "name": "python",
  "npconvert_exporter": "python",
  "pygments_lexer": "ipython3",
  "version": 3,
  "kernelspec": {
   "name": "python3",
   "display_name": "Python 3"
  }
 },
 "cells": [
  {
   "cell_type": "code",
   "execution_count": 2,
   "metadata": {},
   "outputs": [],
   "source": [
    "import tensorflow_datasets as tfds\n",
    "from text_gan.data import Squad2\n",
    "from text_gan.data.qgen_data import CONFIG\n",
    "import tensorflow_text as text\n",
    "import tensorflow as tf\n",
    "import numpy as np\n",
    "import pandas as pd\n",
    "import ujson as json"
   ]
  },
  {
   "cell_type": "code",
   "execution_count": 2,
   "metadata": {},
   "outputs": [
    {
     "name": "stdout",
     "output_type": "stream",
     "text": "WARNING:tensorflow:From /usr/local/lib/python3.6/dist-packages/tensorflow_core/python/util/dispatch.py:180: batch_gather (from tensorflow.python.ops.array_ops) is deprecated and will be removed after 2017-10-25.\nInstructions for updating:\n`tf.batch_gather` is deprecated, please use `tf.gather` with `batch_dims=-1` instead.\nWARNING:tensorflow:From /usr/local/lib/python3.6/dist-packages/tensorflow_core/python/util/dispatch.py:180: batch_gather (from tensorflow.python.ops.array_ops) is deprecated and will be removed after 2017-10-25.\nInstructions for updating:\n`tf.batch_gather` is deprecated, please use `tf.gather` with `batch_dims=-1` instead.\n"
    }
   ],
   "source": [
    "data = tfds.load(\"squad2\", data_dir=\"/tf/data/tf_data\", split='validation')\n",
    "tokenizer = text.UnicodeScriptTokenizer()\n",
    "context = data.map(lambda x: tokenizer.tokenize(x['context']))\n",
    "questions = data.map(lambda x: tokenizer.tokenize(x['question']))"
   ]
  },
  {
   "cell_type": "code",
   "execution_count": 3,
   "metadata": {},
   "outputs": [],
   "source": [
    "df = pd.DataFrame({\n",
    "    'clen': list(map(lambda x: len(x), context.as_numpy_iterator())),\n",
    "    'qlen': list(map(lambda x: len(x), questions.as_numpy_iterator()))\n",
    "})"
   ]
  },
  {
   "cell_type": "code",
   "execution_count": 9,
   "metadata": {},
   "outputs": [
    {
     "data": {
      "text/html": "<div>\n<style scoped>\n    .dataframe tbody tr th:only-of-type {\n        vertical-align: middle;\n    }\n\n    .dataframe tbody tr th {\n        vertical-align: top;\n    }\n\n    .dataframe thead th {\n        text-align: right;\n    }\n</style>\n<table border=\"1\" class=\"dataframe\">\n  <thead>\n    <tr style=\"text-align: right;\">\n      <th></th>\n      <th>clen</th>\n      <th>qlen</th>\n    </tr>\n  </thead>\n  <tbody>\n    <tr>\n      <th>count</th>\n      <td>11873.000000</td>\n      <td>11873.000000</td>\n    </tr>\n    <tr>\n      <th>mean</th>\n      <td>147.376569</td>\n      <td>11.352565</td>\n    </tr>\n    <tr>\n      <th>std</th>\n      <td>65.765919</td>\n      <td>3.696657</td>\n    </tr>\n    <tr>\n      <th>min</th>\n      <td>30.000000</td>\n      <td>3.000000</td>\n    </tr>\n    <tr>\n      <th>25%</th>\n      <td>107.000000</td>\n      <td>9.000000</td>\n    </tr>\n    <tr>\n      <th>50%</th>\n      <td>131.000000</td>\n      <td>11.000000</td>\n    </tr>\n    <tr>\n      <th>75%</th>\n      <td>169.000000</td>\n      <td>13.000000</td>\n    </tr>\n    <tr>\n      <th>95%</th>\n      <td>257.400000</td>\n      <td>18.000000</td>\n    </tr>\n    <tr>\n      <th>max</th>\n      <td>704.000000</td>\n      <td>35.000000</td>\n    </tr>\n  </tbody>\n</table>\n</div>",
      "text/plain": "               clen          qlen\ncount  11873.000000  11873.000000\nmean     147.376569     11.352565\nstd       65.765919      3.696657\nmin       30.000000      3.000000\n25%      107.000000      9.000000\n50%      131.000000     11.000000\n75%      169.000000     13.000000\n95%      257.400000     18.000000\nmax      704.000000     35.000000"
     },
     "execution_count": 9,
     "metadata": {},
     "output_type": "execute_result"
    }
   ],
   "source": [
    "df.describe(percentiles=[.25,.5,.75,.95])"
   ]
  },
  {
   "cell_type": "code",
   "execution_count": 10,
   "metadata": {},
   "outputs": [
    {
     "data": {
      "text/plain": "<matplotlib.axes._subplots.AxesSubplot at 0x7f00e966c4a8>"
     },
     "execution_count": 10,
     "metadata": {},
     "output_type": "execute_result"
    },
    {
     "data": {
      "image/png": "[encoded data removed]",
      "image/svg+xml": "<?xml version=\"1.0\" encoding=\"utf-8\" standalone=\"no\"?>\n<!DOCTYPE svg PUBLIC \"-//W3C//DTD SVG 1.1//EN\"\n  \"http://www.w3.org/Graphics/SVG/1.1/DTD/svg11.dtd\">\n<!-- Created with matplotlib (https://matplotlib.org/) -->\n<svg height=\"248.518125pt\" version=\"1.1\" viewBox=\"0 0 398.50625 248.518125\" width=\"398.50625pt\" xmlns=\"http://www.w3.org/2000/svg\" xmlns:xlink=\"http://www.w3.org/1999/xlink\">\n <defs>\n  <style type=\"text/css\">\n*{stroke-linecap:butt;stroke-linejoin:round;}\n  </style>\n </defs>\n <g id=\"figure_1\">\n  <g id=\"patch_1\">\n   <path d=\"M 0 248.518125 \nL 398.50625 248.518125 \nL 398.50625 0 \nL 0 0 \nz\n\" style=\"fill:none;\"/>\n  </g>\n  <g id=\"axes_1\">\n   <g id=\"patch_2\">\n    <path d=\"M 56.50625 224.64 \nL 391.30625 224.64 \nL 391.30625 7.2 \nL 56.50625 7.2 \nz\n\" style=\"fill:#ffffff;\"/>\n   </g>\n   <g id=\"matplotlib.axis_1\">\n    <g id=\"xtick_1\">\n     <g id=\"line2d_1\">\n      <defs>\n       <path d=\"M 0 0 \nL 0 3.5 \n\" id=\"m60842f0593\" style=\"stroke:#000000;stroke-width:0.8;\"/>\n      </defs>\n      <g>\n       <use style=\"stroke:#000000;stroke-width:0.8;\" x=\"95.88386\" xlink:href=\"#m60842f0593\" y=\"224.64\"/>\n      </g>\n     </g>\n     <g id=\"text_1\">\n      <!-- −200 -->\n      <defs>\n       <path d=\"M 10.59375 35.5 \nL 73.1875 35.5 \nL 73.1875 27.203125 \nL 10.59375 27.203125 \nz\n\" id=\"DejaVuSans-8722\"/>\n       <path d=\"M 19.1875 8.296875 \nL 53.609375 8.296875 \nL 53.609375 0 \nL 7.328125 0 \nL 7.328125 8.296875 \nQ 12.9375 14.109375 22.625 23.890625 \nQ 32.328125 33.6875 34.8125 36.53125 \nQ 39.546875 41.84375 41.421875 45.53125 \nQ 43.3125 49.21875 43.3125 52.78125 \nQ 43.3125 58.59375 39.234375 62.25 \nQ 35.15625 65.921875 28.609375 65.921875 \nQ 23.96875 65.921875 18.8125 64.3125 \nQ 13.671875 62.703125 7.8125 59.421875 \nL 7.8125 69.390625 \nQ 13.765625 71.78125 18.9375 73 \nQ 24.125 74.21875 28.421875 74.21875 \nQ 39.75 74.21875 46.484375 68.546875 \nQ 53.21875 62.890625 53.21875 53.421875 \nQ 53.21875 48.921875 51.53125 44.890625 \nQ 49.859375 40.875 45.40625 35.40625 \nQ 44.1875 33.984375 37.640625 27.21875 \nQ 31.109375 20.453125 19.1875 8.296875 \nz\n\" id=\"DejaVuSans-50\"/>\n       <path d=\"M 31.78125 66.40625 \nQ 24.171875 66.40625 20.328125 58.90625 \nQ 16.5 51.421875 16.5 36.375 \nQ 16.5 21.390625 20.328125 13.890625 \nQ 24.171875 6.390625 31.78125 6.390625 \nQ 39.453125 6.390625 43.28125 13.890625 \nQ 47.125 21.390625 47.125 36.375 \nQ 47.125 51.421875 43.28125 58.90625 \nQ 39.453125 66.40625 31.78125 66.40625 \nz\nM 31.78125 74.21875 \nQ 44.046875 74.21875 50.515625 64.515625 \nQ 56.984375 54.828125 56.984375 36.375 \nQ 56.984375 17.96875 50.515625 8.265625 \nQ 44.046875 -1.421875 31.78125 -1.421875 \nQ 19.53125 -1.421875 13.0625 8.265625 \nQ 6.59375 17.96875 6.59375 36.375 \nQ 6.59375 54.828125 13.0625 64.515625 \nQ 19.53125 74.21875 31.78125 74.21875 \nz\n\" id=\"DejaVuSans-48\"/>\n      </defs>\n      <g transform=\"translate(82.150266 239.238437)scale(0.1 -0.1)\">\n       <use xlink:href=\"#DejaVuSans-8722\"/>\n       <use x=\"83.789062\" xlink:href=\"#DejaVuSans-50\"/>\n       <use x=\"147.412109\" xlink:href=\"#DejaVuSans-48\"/>\n       <use x=\"211.035156\" xlink:href=\"#DejaVuSans-48\"/>\n      </g>\n     </g>\n    </g>\n    <g id=\"xtick_2\">\n     <g id=\"line2d_2\">\n      <g>\n       <use style=\"stroke:#000000;stroke-width:0.8;\" x=\"141.041669\" xlink:href=\"#m60842f0593\" y=\"224.64\"/>\n      </g>\n     </g>\n     <g id=\"text_2\">\n      <!-- 0 -->\n      <g transform=\"translate(137.860419 239.238437)scale(0.1 -0.1)\">\n       <use xlink:href=\"#DejaVuSans-48\"/>\n      </g>\n     </g>\n    </g>\n    <g id=\"xtick_3\">\n     <g id=\"line2d_3\">\n      <g>\n       <use style=\"stroke:#000000;stroke-width:0.8;\" x=\"186.199479\" xlink:href=\"#m60842f0593\" y=\"224.64\"/>\n      </g>\n     </g>\n     <g id=\"text_3\">\n      <!-- 200 -->\n      <g transform=\"translate(176.655729 239.238437)scale(0.1 -0.1)\">\n       <use xlink:href=\"#DejaVuSans-50\"/>\n       <use x=\"63.623047\" xlink:href=\"#DejaVuSans-48\"/>\n       <use x=\"127.246094\" xlink:href=\"#DejaVuSans-48\"/>\n      </g>\n     </g>\n    </g>\n    <g id=\"xtick_4\">\n     <g id=\"line2d_4\">\n      <g>\n       <use style=\"stroke:#000000;stroke-width:0.8;\" x=\"231.357289\" xlink:href=\"#m60842f0593\" y=\"224.64\"/>\n      </g>\n     </g>\n     <g id=\"text_4\">\n      <!-- 400 -->\n      <defs>\n       <path d=\"M 37.796875 64.3125 \nL 12.890625 25.390625 \nL 37.796875 25.390625 \nz\nM 35.203125 72.90625 \nL 47.609375 72.90625 \nL 47.609375 25.390625 \nL 58.015625 25.390625 \nL 58.015625 17.1875 \nL 47.609375 17.1875 \nL 47.609375 0 \nL 37.796875 0 \nL 37.796875 17.1875 \nL 4.890625 17.1875 \nL 4.890625 26.703125 \nz\n\" id=\"DejaVuSans-52\"/>\n      </defs>\n      <g transform=\"translate(221.813539 239.238437)scale(0.1 -0.1)\">\n       <use xlink:href=\"#DejaVuSans-52\"/>\n       <use x=\"63.623047\" xlink:href=\"#DejaVuSans-48\"/>\n       <use x=\"127.246094\" xlink:href=\"#DejaVuSans-48\"/>\n      </g>\n     </g>\n    </g>\n    <g id=\"xtick_5\">\n     <g id=\"line2d_5\">\n      <g>\n       <use style=\"stroke:#000000;stroke-width:0.8;\" x=\"276.515098\" xlink:href=\"#m60842f0593\" y=\"224.64\"/>\n      </g>\n     </g>\n     <g id=\"text_5\">\n      <!-- 600 -->\n      <defs>\n       <path d=\"M 33.015625 40.375 \nQ 26.375 40.375 22.484375 35.828125 \nQ 18.609375 31.296875 18.609375 23.390625 \nQ 18.609375 15.53125 22.484375 10.953125 \nQ 26.375 6.390625 33.015625 6.390625 \nQ 39.65625 6.390625 43.53125 10.953125 \nQ 47.40625 15.53125 47.40625 23.390625 \nQ 47.40625 31.296875 43.53125 35.828125 \nQ 39.65625 40.375 33.015625 40.375 \nz\nM 52.59375 71.296875 \nL 52.59375 62.3125 \nQ 48.875 64.0625 45.09375 64.984375 \nQ 41.3125 65.921875 37.59375 65.921875 \nQ 27.828125 65.921875 22.671875 59.328125 \nQ 17.53125 52.734375 16.796875 39.40625 \nQ 19.671875 43.65625 24.015625 45.921875 \nQ 28.375 48.1875 33.59375 48.1875 \nQ 44.578125 48.1875 50.953125 41.515625 \nQ 57.328125 34.859375 57.328125 23.390625 \nQ 57.328125 12.15625 50.6875 5.359375 \nQ 44.046875 -1.421875 33.015625 -1.421875 \nQ 20.359375 -1.421875 13.671875 8.265625 \nQ 6.984375 17.96875 6.984375 36.375 \nQ 6.984375 53.65625 15.1875 63.9375 \nQ 23.390625 74.21875 37.203125 74.21875 \nQ 40.921875 74.21875 44.703125 73.484375 \nQ 48.484375 72.75 52.59375 71.296875 \nz\n\" id=\"DejaVuSans-54\"/>\n      </defs>\n      <g transform=\"translate(266.971348 239.238437)scale(0.1 -0.1)\">\n       <use xlink:href=\"#DejaVuSans-54\"/>\n       <use x=\"63.623047\" xlink:href=\"#DejaVuSans-48\"/>\n       <use x=\"127.246094\" xlink:href=\"#DejaVuSans-48\"/>\n      </g>\n     </g>\n    </g>\n    <g id=\"xtick_6\">\n     <g id=\"line2d_6\">\n      <g>\n       <use style=\"stroke:#000000;stroke-width:0.8;\" x=\"321.672908\" xlink:href=\"#m60842f0593\" y=\"224.64\"/>\n      </g>\n     </g>\n     <g id=\"text_6\">\n      <!-- 800 -->\n      <defs>\n       <path d=\"M 31.78125 34.625 \nQ 24.75 34.625 20.71875 30.859375 \nQ 16.703125 27.09375 16.703125 20.515625 \nQ 16.703125 13.921875 20.71875 10.15625 \nQ 24.75 6.390625 31.78125 6.390625 \nQ 38.8125 6.390625 42.859375 10.171875 \nQ 46.921875 13.96875 46.921875 20.515625 \nQ 46.921875 27.09375 42.890625 30.859375 \nQ 38.875 34.625 31.78125 34.625 \nz\nM 21.921875 38.8125 \nQ 15.578125 40.375 12.03125 44.71875 \nQ 8.5 49.078125 8.5 55.328125 \nQ 8.5 64.0625 14.71875 69.140625 \nQ 20.953125 74.21875 31.78125 74.21875 \nQ 42.671875 74.21875 48.875 69.140625 \nQ 55.078125 64.0625 55.078125 55.328125 \nQ 55.078125 49.078125 51.53125 44.71875 \nQ 48 40.375 41.703125 38.8125 \nQ 48.828125 37.15625 52.796875 32.3125 \nQ 56.78125 27.484375 56.78125 20.515625 \nQ 56.78125 9.90625 50.3125 4.234375 \nQ 43.84375 -1.421875 31.78125 -1.421875 \nQ 19.734375 -1.421875 13.25 4.234375 \nQ 6.78125 9.90625 6.78125 20.515625 \nQ 6.78125 27.484375 10.78125 32.3125 \nQ 14.796875 37.15625 21.921875 38.8125 \nz\nM 18.3125 54.390625 \nQ 18.3125 48.734375 21.84375 45.5625 \nQ 25.390625 42.390625 31.78125 42.390625 \nQ 38.140625 42.390625 41.71875 45.5625 \nQ 45.3125 48.734375 45.3125 54.390625 \nQ 45.3125 60.0625 41.71875 63.234375 \nQ 38.140625 66.40625 31.78125 66.40625 \nQ 25.390625 66.40625 21.84375 63.234375 \nQ 18.3125 60.0625 18.3125 54.390625 \nz\n\" id=\"DejaVuSans-56\"/>\n      </defs>\n      <g transform=\"translate(312.129158 239.238437)scale(0.1 -0.1)\">\n       <use xlink:href=\"#DejaVuSans-56\"/>\n       <use x=\"63.623047\" xlink:href=\"#DejaVuSans-48\"/>\n       <use x=\"127.246094\" xlink:href=\"#DejaVuSans-48\"/>\n      </g>\n     </g>\n    </g>\n    <g id=\"xtick_7\">\n     <g id=\"line2d_7\">\n      <g>\n       <use style=\"stroke:#000000;stroke-width:0.8;\" x=\"366.830717\" xlink:href=\"#m60842f0593\" y=\"224.64\"/>\n      </g>\n     </g>\n     <g id=\"text_7\">\n      <!-- 1000 -->\n      <defs>\n       <path d=\"M 12.40625 8.296875 \nL 28.515625 8.296875 \nL 28.515625 63.921875 \nL 10.984375 60.40625 \nL 10.984375 69.390625 \nL 28.421875 72.90625 \nL 38.28125 72.90625 \nL 38.28125 8.296875 \nL 54.390625 8.296875 \nL 54.390625 0 \nL 12.40625 0 \nz\n\" id=\"DejaVuSans-49\"/>\n      </defs>\n      <g transform=\"translate(354.105717 239.238437)scale(0.1 -0.1)\">\n       <use xlink:href=\"#DejaVuSans-49\"/>\n       <use x=\"63.623047\" xlink:href=\"#DejaVuSans-48\"/>\n       <use x=\"127.246094\" xlink:href=\"#DejaVuSans-48\"/>\n       <use x=\"190.869141\" xlink:href=\"#DejaVuSans-48\"/>\n      </g>\n     </g>\n    </g>\n   </g>\n   <g id=\"matplotlib.axis_2\">\n    <g id=\"ytick_1\">\n     <g id=\"line2d_8\">\n      <defs>\n       <path d=\"M 0 0 \nL -3.5 0 \n\" id=\"md65e3465ff\" style=\"stroke:#000000;stroke-width:0.8;\"/>\n      </defs>\n      <g>\n       <use style=\"stroke:#000000;stroke-width:0.8;\" x=\"56.50625\" xlink:href=\"#md65e3465ff\" y=\"214.756364\"/>\n      </g>\n     </g>\n     <g id=\"text_8\">\n      <!-- 0.000 -->\n      <defs>\n       <path d=\"M 10.6875 12.40625 \nL 21 12.40625 \nL 21 0 \nL 10.6875 0 \nz\n\" id=\"DejaVuSans-46\"/>\n      </defs>\n      <g transform=\"translate(20.878125 218.555582)scale(0.1 -0.1)\">\n       <use xlink:href=\"#DejaVuSans-48\"/>\n       <use x=\"63.623047\" xlink:href=\"#DejaVuSans-46\"/>\n       <use x=\"95.410156\" xlink:href=\"#DejaVuSans-48\"/>\n       <use x=\"159.033203\" xlink:href=\"#DejaVuSans-48\"/>\n       <use x=\"222.65625\" xlink:href=\"#DejaVuSans-48\"/>\n      </g>\n     </g>\n    </g>\n    <g id=\"ytick_2\">\n     <g id=\"line2d_9\">\n      <g>\n       <use style=\"stroke:#000000;stroke-width:0.8;\" x=\"56.50625\" xlink:href=\"#md65e3465ff\" y=\"179.811101\"/>\n      </g>\n     </g>\n     <g id=\"text_9\">\n      <!-- 0.002 -->\n      <g transform=\"translate(20.878125 183.61032)scale(0.1 -0.1)\">\n       <use xlink:href=\"#DejaVuSans-48\"/>\n       <use x=\"63.623047\" xlink:href=\"#DejaVuSans-46\"/>\n       <use x=\"95.410156\" xlink:href=\"#DejaVuSans-48\"/>\n       <use x=\"159.033203\" xlink:href=\"#DejaVuSans-48\"/>\n       <use x=\"222.65625\" xlink:href=\"#DejaVuSans-50\"/>\n      </g>\n     </g>\n    </g>\n    <g id=\"ytick_3\">\n     <g id=\"line2d_10\">\n      <g>\n       <use style=\"stroke:#000000;stroke-width:0.8;\" x=\"56.50625\" xlink:href=\"#md65e3465ff\" y=\"144.865839\"/>\n      </g>\n     </g>\n     <g id=\"text_10\">\n      <!-- 0.004 -->\n      <g transform=\"translate(20.878125 148.665058)scale(0.1 -0.1)\">\n       <use xlink:href=\"#DejaVuSans-48\"/>\n       <use x=\"63.623047\" xlink:href=\"#DejaVuSans-46\"/>\n       <use x=\"95.410156\" xlink:href=\"#DejaVuSans-48\"/>\n       <use x=\"159.033203\" xlink:href=\"#DejaVuSans-48\"/>\n       <use x=\"222.65625\" xlink:href=\"#DejaVuSans-52\"/>\n      </g>\n     </g>\n    </g>\n    <g id=\"ytick_4\">\n     <g id=\"line2d_11\">\n      <g>\n       <use style=\"stroke:#000000;stroke-width:0.8;\" x=\"56.50625\" xlink:href=\"#md65e3465ff\" y=\"109.920577\"/>\n      </g>\n     </g>\n     <g id=\"text_11\">\n      <!-- 0.006 -->\n      <g transform=\"translate(20.878125 113.719795)scale(0.1 -0.1)\">\n       <use xlink:href=\"#DejaVuSans-48\"/>\n       <use x=\"63.623047\" xlink:href=\"#DejaVuSans-46\"/>\n       <use x=\"95.410156\" xlink:href=\"#DejaVuSans-48\"/>\n       <use x=\"159.033203\" xlink:href=\"#DejaVuSans-48\"/>\n       <use x=\"222.65625\" xlink:href=\"#DejaVuSans-54\"/>\n      </g>\n     </g>\n    </g>\n    <g id=\"ytick_5\">\n     <g id=\"line2d_12\">\n      <g>\n       <use style=\"stroke:#000000;stroke-width:0.8;\" x=\"56.50625\" xlink:href=\"#md65e3465ff\" y=\"74.975314\"/>\n      </g>\n     </g>\n     <g id=\"text_12\">\n      <!-- 0.008 -->\n      <g transform=\"translate(20.878125 78.774533)scale(0.1 -0.1)\">\n       <use xlink:href=\"#DejaVuSans-48\"/>\n       <use x=\"63.623047\" xlink:href=\"#DejaVuSans-46\"/>\n       <use x=\"95.410156\" xlink:href=\"#DejaVuSans-48\"/>\n       <use x=\"159.033203\" xlink:href=\"#DejaVuSans-48\"/>\n       <use x=\"222.65625\" xlink:href=\"#DejaVuSans-56\"/>\n      </g>\n     </g>\n    </g>\n    <g id=\"ytick_6\">\n     <g id=\"line2d_13\">\n      <g>\n       <use style=\"stroke:#000000;stroke-width:0.8;\" x=\"56.50625\" xlink:href=\"#md65e3465ff\" y=\"40.030052\"/>\n      </g>\n     </g>\n     <g id=\"text_13\">\n      <!-- 0.010 -->\n      <g transform=\"translate(20.878125 43.829271)scale(0.1 -0.1)\">\n       <use xlink:href=\"#DejaVuSans-48\"/>\n       <use x=\"63.623047\" xlink:href=\"#DejaVuSans-46\"/>\n       <use x=\"95.410156\" xlink:href=\"#DejaVuSans-48\"/>\n       <use x=\"159.033203\" xlink:href=\"#DejaVuSans-49\"/>\n       <use x=\"222.65625\" xlink:href=\"#DejaVuSans-48\"/>\n      </g>\n     </g>\n    </g>\n    <g id=\"text_14\">\n     <!-- Density -->\n     <defs>\n      <path d=\"M 19.671875 64.796875 \nL 19.671875 8.109375 \nL 31.59375 8.109375 \nQ 46.6875 8.109375 53.6875 14.9375 \nQ 60.6875 21.78125 60.6875 36.53125 \nQ 60.6875 51.171875 53.6875 57.984375 \nQ 46.6875 64.796875 31.59375 64.796875 \nz\nM 9.8125 72.90625 \nL 30.078125 72.90625 \nQ 51.265625 72.90625 61.171875 64.09375 \nQ 71.09375 55.28125 71.09375 36.53125 \nQ 71.09375 17.671875 61.125 8.828125 \nQ 51.171875 0 30.078125 0 \nL 9.8125 0 \nz\n\" id=\"DejaVuSans-68\"/>\n      <path d=\"M 56.203125 29.59375 \nL 56.203125 25.203125 \nL 14.890625 25.203125 \nQ 15.484375 15.921875 20.484375 11.0625 \nQ 25.484375 6.203125 34.421875 6.203125 \nQ 39.59375 6.203125 44.453125 7.46875 \nQ 49.3125 8.734375 54.109375 11.28125 \nL 54.109375 2.78125 \nQ 49.265625 0.734375 44.1875 -0.34375 \nQ 39.109375 -1.421875 33.890625 -1.421875 \nQ 20.796875 -1.421875 13.15625 6.1875 \nQ 5.515625 13.8125 5.515625 26.8125 \nQ 5.515625 40.234375 12.765625 48.109375 \nQ 20.015625 56 32.328125 56 \nQ 43.359375 56 49.78125 48.890625 \nQ 56.203125 41.796875 56.203125 29.59375 \nz\nM 47.21875 32.234375 \nQ 47.125 39.59375 43.09375 43.984375 \nQ 39.0625 48.390625 32.421875 48.390625 \nQ 24.90625 48.390625 20.390625 44.140625 \nQ 15.875 39.890625 15.1875 32.171875 \nz\n\" id=\"DejaVuSans-101\"/>\n      <path d=\"M 54.890625 33.015625 \nL 54.890625 0 \nL 45.90625 0 \nL 45.90625 32.71875 \nQ 45.90625 40.484375 42.875 44.328125 \nQ 39.84375 48.1875 33.796875 48.1875 \nQ 26.515625 48.1875 22.3125 43.546875 \nQ 18.109375 38.921875 18.109375 30.90625 \nL 18.109375 0 \nL 9.078125 0 \nL 9.078125 54.6875 \nL 18.109375 54.6875 \nL 18.109375 46.1875 \nQ 21.34375 51.125 25.703125 53.5625 \nQ 30.078125 56 35.796875 56 \nQ 45.21875 56 50.046875 50.171875 \nQ 54.890625 44.34375 54.890625 33.015625 \nz\n\" id=\"DejaVuSans-110\"/>\n      <path d=\"M 44.28125 53.078125 \nL 44.28125 44.578125 \nQ 40.484375 46.53125 36.375 47.5 \nQ 32.28125 48.484375 27.875 48.484375 \nQ 21.1875 48.484375 17.84375 46.4375 \nQ 14.5 44.390625 14.5 40.28125 \nQ 14.5 37.15625 16.890625 35.375 \nQ 19.28125 33.59375 26.515625 31.984375 \nL 29.59375 31.296875 \nQ 39.15625 29.25 43.1875 25.515625 \nQ 47.21875 21.78125 47.21875 15.09375 \nQ 47.21875 7.46875 41.1875 3.015625 \nQ 35.15625 -1.421875 24.609375 -1.421875 \nQ 20.21875 -1.421875 15.453125 -0.5625 \nQ 10.6875 0.296875 5.421875 2 \nL 5.421875 11.28125 \nQ 10.40625 8.6875 15.234375 7.390625 \nQ 20.0625 6.109375 24.8125 6.109375 \nQ 31.15625 6.109375 34.5625 8.28125 \nQ 37.984375 10.453125 37.984375 14.40625 \nQ 37.984375 18.0625 35.515625 20.015625 \nQ 33.0625 21.96875 24.703125 23.78125 \nL 21.578125 24.515625 \nQ 13.234375 26.265625 9.515625 29.90625 \nQ 5.8125 33.546875 5.8125 39.890625 \nQ 5.8125 47.609375 11.28125 51.796875 \nQ 16.75 56 26.8125 56 \nQ 31.78125 56 36.171875 55.265625 \nQ 40.578125 54.546875 44.28125 53.078125 \nz\n\" id=\"DejaVuSans-115\"/>\n      <path d=\"M 9.421875 54.6875 \nL 18.40625 54.6875 \nL 18.40625 0 \nL 9.421875 0 \nz\nM 9.421875 75.984375 \nL 18.40625 75.984375 \nL 18.40625 64.59375 \nL 9.421875 64.59375 \nz\n\" id=\"DejaVuSans-105\"/>\n      <path d=\"M 18.3125 70.21875 \nL 18.3125 54.6875 \nL 36.8125 54.6875 \nL 36.8125 47.703125 \nL 18.3125 47.703125 \nL 18.3125 18.015625 \nQ 18.3125 11.328125 20.140625 9.421875 \nQ 21.96875 7.515625 27.59375 7.515625 \nL 36.8125 7.515625 \nL 36.8125 0 \nL 27.59375 0 \nQ 17.1875 0 13.234375 3.875 \nQ 9.28125 7.765625 9.28125 18.015625 \nL 9.28125 47.703125 \nL 2.6875 47.703125 \nL 2.6875 54.6875 \nL 9.28125 54.6875 \nL 9.28125 70.21875 \nz\n\" id=\"DejaVuSans-116\"/>\n      <path d=\"M 32.171875 -5.078125 \nQ 28.375 -14.84375 24.75 -17.8125 \nQ 21.140625 -20.796875 15.09375 -20.796875 \nL 7.90625 -20.796875 \nL 7.90625 -13.28125 \nL 13.1875 -13.28125 \nQ 16.890625 -13.28125 18.9375 -11.515625 \nQ 21 -9.765625 23.484375 -3.21875 \nL 25.09375 0.875 \nL 2.984375 54.6875 \nL 12.5 54.6875 \nL 29.59375 11.921875 \nL 46.6875 54.6875 \nL 56.203125 54.6875 \nz\n\" id=\"DejaVuSans-121\"/>\n     </defs>\n     <g transform=\"translate(14.798437 134.928594)rotate(-90)scale(0.1 -0.1)\">\n      <use xlink:href=\"#DejaVuSans-68\"/>\n      <use x=\"77.001953\" xlink:href=\"#DejaVuSans-101\"/>\n      <use x=\"138.525391\" xlink:href=\"#DejaVuSans-110\"/>\n      <use x=\"201.904297\" xlink:href=\"#DejaVuSans-115\"/>\n      <use x=\"254.003906\" xlink:href=\"#DejaVuSans-105\"/>\n      <use x=\"281.787109\" xlink:href=\"#DejaVuSans-116\"/>\n      <use x=\"320.996094\" xlink:href=\"#DejaVuSans-121\"/>\n     </g>\n    </g>\n   </g>\n   <g id=\"line2d_14\">\n    <path clip-path=\"url(#pb7c1fa1e5f)\" d=\"M 71.724432 214.756364 \nL 142.407479 214.673893 \nL 143.626152 214.468815 \nL 144.540157 214.135211 \nL 145.454162 213.584471 \nL 146.672835 212.504249 \nL 148.500845 210.459292 \nL 150.328854 208.180871 \nL 151.547528 206.308858 \nL 154.898879 200.378132 \nL 155.508216 198.913738 \nL 156.117552 196.780146 \nL 156.726889 193.538302 \nL 157.336225 188.707848 \nL 157.945562 181.835036 \nL 158.554899 172.567207 \nL 159.468904 153.843004 \nL 160.382908 129.788392 \nL 163.429592 41.574346 \nL 164.038928 29.766874 \nL 164.648265 21.730769 \nL 164.952933 19.204974 \nL 165.257601 17.667433 \nL 165.56227 17.083636 \nL 165.866938 17.397348 \nL 166.171606 18.533292 \nL 166.780943 22.89717 \nL 167.390279 29.33893 \nL 169.218289 52.992198 \nL 170.436963 67.199425 \nL 171.655636 78.831765 \nL 172.874309 88.25148 \nL 174.092982 95.895532 \nL 176.834997 111.897295 \nL 181.100353 140.385576 \nL 183.5377 154.530841 \nL 187.193719 177.68563 \nL 187.803056 180.009517 \nL 188.412393 181.460612 \nL 189.021729 182.099582 \nL 189.326397 182.174176 \nL 189.935734 182.019621 \nL 190.849739 181.700525 \nL 191.154407 181.745863 \nL 191.459076 181.92644 \nL 191.763744 182.265673 \nL 192.37308 183.461774 \nL 192.982417 185.309469 \nL 194.20109 190.145094 \nL 195.419764 194.648 \nL 196.0291 196.286396 \nL 196.638437 197.487624 \nL 197.552442 198.731282 \nL 199.075783 200.60954 \nL 200.294456 202.633658 \nL 201.817798 205.186356 \nL 202.731803 206.223309 \nL 203.341139 206.636998 \nL 204.255144 206.921309 \nL 206.692491 207.289819 \nL 207.911164 207.875519 \nL 209.739174 208.806372 \nL 210.653179 209.016013 \nL 211.871852 209.03168 \nL 213.395193 209.036829 \nL 214.613867 209.281199 \nL 216.137208 209.83828 \nL 217.66055 210.631063 \nL 219.183891 211.739734 \nL 221.011901 213.071501 \nL 221.925906 213.471945 \nL 222.839911 213.60463 \nL 223.753916 213.492863 \nL 226.495931 212.871649 \nL 230.456619 212.645505 \nL 231.675292 212.501765 \nL 232.589297 212.577121 \nL 233.80797 212.934331 \nL 235.63598 213.537164 \nL 236.854653 213.683497 \nL 239.901336 213.812378 \nL 242.948019 214.192276 \nL 246.908707 214.275625 \nL 249.041385 214.473465 \nL 250.564727 214.381211 \nL 254.220746 213.985545 \nL 256.658093 214.020383 \nL 258.790771 214.284518 \nL 260.923449 214.53012 \nL 262.142122 214.463591 \nL 263.665464 214.127389 \nL 265.493474 213.693827 \nL 266.407479 213.662967 \nL 267.626152 213.870184 \nL 270.672835 214.605257 \nL 272.500845 214.733031 \nL 275.547528 214.703259 \nL 277.375537 214.512522 \nL 279.508216 214.029724 \nL 281.336225 213.640358 \nL 282.554899 213.581977 \nL 283.773572 213.741246 \nL 288.343596 214.685658 \nL 291.085611 214.753822 \nL 295.655636 214.671572 \nL 298.39765 214.3467 \nL 300.22566 214.234365 \nL 302.05367 214.407813 \nL 304.795685 214.699746 \nL 308.147036 214.755511 \nL 376.088068 214.756364 \nL 376.088068 214.756364 \n\" style=\"fill:none;stroke:#1f77b4;stroke-linecap:square;stroke-width:1.5;\"/>\n   </g>\n   <g id=\"patch_3\">\n    <path d=\"M 56.50625 224.64 \nL 56.50625 7.2 \n\" style=\"fill:none;stroke:#000000;stroke-linecap:square;stroke-linejoin:miter;stroke-width:0.8;\"/>\n   </g>\n   <g id=\"patch_4\">\n    <path d=\"M 391.30625 224.64 \nL 391.30625 7.2 \n\" style=\"fill:none;stroke:#000000;stroke-linecap:square;stroke-linejoin:miter;stroke-width:0.8;\"/>\n   </g>\n   <g id=\"patch_5\">\n    <path d=\"M 56.50625 224.64 \nL 391.30625 224.64 \n\" style=\"fill:none;stroke:#000000;stroke-linecap:square;stroke-linejoin:miter;stroke-width:0.8;\"/>\n   </g>\n   <g id=\"patch_6\">\n    <path d=\"M 56.50625 7.2 \nL 391.30625 7.2 \n\" style=\"fill:none;stroke:#000000;stroke-linecap:square;stroke-linejoin:miter;stroke-width:0.8;\"/>\n   </g>\n  </g>\n </g>\n <defs>\n  <clipPath id=\"pb7c1fa1e5f\">\n   <rect height=\"217.44\" width=\"334.8\" x=\"56.50625\" y=\"7.2\"/>\n  </clipPath>\n </defs>\n</svg>\n",
      "text/plain": "<Figure size 432x288 with 1 Axes>"
     },
     "metadata": {
      "needs_background": "light"
     },
     "output_type": "display_data"
    }
   ],
   "source": [
    "df.clen.plot.kde()"
   ]
  },
  {
   "cell_type": "code",
   "execution_count": 11,
   "metadata": {},
   "outputs": [
    {
     "data": {
      "text/plain": "<matplotlib.axes._subplots.AxesSubplot at 0x7eff940f9898>"
     },
     "execution_count": 11,
     "metadata": {},
     "output_type": "execute_result"
    },
    {
     "data": {
      "image/png": "[encoded data removed]",
      "image/svg+xml": "<?xml version=\"1.0\" encoding=\"utf-8\" standalone=\"no\"?>\n<!DOCTYPE svg PUBLIC \"-//W3C//DTD SVG 1.1//EN\"\n  \"http://www.w3.org/Graphics/SVG/1.1/DTD/svg11.dtd\">\n<!-- Created with matplotlib (https://matplotlib.org/) -->\n<svg height=\"248.518125pt\" version=\"1.1\" viewBox=\"0 0 392.14375 248.518125\" width=\"392.14375pt\" xmlns=\"http://www.w3.org/2000/svg\" xmlns:xlink=\"http://www.w3.org/1999/xlink\">\n <defs>\n  <style type=\"text/css\">\n*{stroke-linecap:butt;stroke-linejoin:round;}\n  </style>\n </defs>\n <g id=\"figure_1\">\n  <g id=\"patch_1\">\n   <path d=\"M 0 248.518125 \nL 392.14375 248.518125 \nL 392.14375 0 \nL 0 0 \nz\n\" style=\"fill:none;\"/>\n  </g>\n  <g id=\"axes_1\">\n   <g id=\"patch_2\">\n    <path d=\"M 50.14375 224.64 \nL 384.94375 224.64 \nL 384.94375 7.2 \nL 50.14375 7.2 \nz\n\" style=\"fill:#ffffff;\"/>\n   </g>\n   <g id=\"matplotlib.axis_1\">\n    <g id=\"xtick_1\">\n     <g id=\"line2d_1\">\n      <defs>\n       <path d=\"M 0 0 \nL 0 3.5 \n\" id=\"mafa09940a0\" style=\"stroke:#000000;stroke-width:0.8;\"/>\n      </defs>\n      <g>\n       <use style=\"stroke:#000000;stroke-width:0.8;\" x=\"79.628977\" xlink:href=\"#mafa09940a0\" y=\"224.64\"/>\n      </g>\n     </g>\n     <g id=\"text_1\">\n      <!-- −10 -->\n      <defs>\n       <path d=\"M 10.59375 35.5 \nL 73.1875 35.5 \nL 73.1875 27.203125 \nL 10.59375 27.203125 \nz\n\" id=\"DejaVuSans-8722\"/>\n       <path d=\"M 12.40625 8.296875 \nL 28.515625 8.296875 \nL 28.515625 63.921875 \nL 10.984375 60.40625 \nL 10.984375 69.390625 \nL 28.421875 72.90625 \nL 38.28125 72.90625 \nL 38.28125 8.296875 \nL 54.390625 8.296875 \nL 54.390625 0 \nL 12.40625 0 \nz\n\" id=\"DejaVuSans-49\"/>\n       <path d=\"M 31.78125 66.40625 \nQ 24.171875 66.40625 20.328125 58.90625 \nQ 16.5 51.421875 16.5 36.375 \nQ 16.5 21.390625 20.328125 13.890625 \nQ 24.171875 6.390625 31.78125 6.390625 \nQ 39.453125 6.390625 43.28125 13.890625 \nQ 47.125 21.390625 47.125 36.375 \nQ 47.125 51.421875 43.28125 58.90625 \nQ 39.453125 66.40625 31.78125 66.40625 \nz\nM 31.78125 74.21875 \nQ 44.046875 74.21875 50.515625 64.515625 \nQ 56.984375 54.828125 56.984375 36.375 \nQ 56.984375 17.96875 50.515625 8.265625 \nQ 44.046875 -1.421875 31.78125 -1.421875 \nQ 19.53125 -1.421875 13.0625 8.265625 \nQ 6.59375 17.96875 6.59375 36.375 \nQ 6.59375 54.828125 13.0625 64.515625 \nQ 19.53125 74.21875 31.78125 74.21875 \nz\n\" id=\"DejaVuSans-48\"/>\n      </defs>\n      <g transform=\"translate(69.076634 239.238437)scale(0.1 -0.1)\">\n       <use xlink:href=\"#DejaVuSans-8722\"/>\n       <use x=\"83.789062\" xlink:href=\"#DejaVuSans-49\"/>\n       <use x=\"147.412109\" xlink:href=\"#DejaVuSans-48\"/>\n      </g>\n     </g>\n    </g>\n    <g id=\"xtick_2\">\n     <g id=\"line2d_2\">\n      <g>\n       <use style=\"stroke:#000000;stroke-width:0.8;\" x=\"127.185795\" xlink:href=\"#mafa09940a0\" y=\"224.64\"/>\n      </g>\n     </g>\n     <g id=\"text_2\">\n      <!-- 0 -->\n      <g transform=\"translate(124.004545 239.238437)scale(0.1 -0.1)\">\n       <use xlink:href=\"#DejaVuSans-48\"/>\n      </g>\n     </g>\n    </g>\n    <g id=\"xtick_3\">\n     <g id=\"line2d_3\">\n      <g>\n       <use style=\"stroke:#000000;stroke-width:0.8;\" x=\"174.742614\" xlink:href=\"#mafa09940a0\" y=\"224.64\"/>\n      </g>\n     </g>\n     <g id=\"text_3\">\n      <!-- 10 -->\n      <g transform=\"translate(168.380114 239.238437)scale(0.1 -0.1)\">\n       <use xlink:href=\"#DejaVuSans-49\"/>\n       <use x=\"63.623047\" xlink:href=\"#DejaVuSans-48\"/>\n      </g>\n     </g>\n    </g>\n    <g id=\"xtick_4\">\n     <g id=\"line2d_4\">\n      <g>\n       <use style=\"stroke:#000000;stroke-width:0.8;\" x=\"222.299432\" xlink:href=\"#mafa09940a0\" y=\"224.64\"/>\n      </g>\n     </g>\n     <g id=\"text_4\">\n      <!-- 20 -->\n      <defs>\n       <path d=\"M 19.1875 8.296875 \nL 53.609375 8.296875 \nL 53.609375 0 \nL 7.328125 0 \nL 7.328125 8.296875 \nQ 12.9375 14.109375 22.625 23.890625 \nQ 32.328125 33.6875 34.8125 36.53125 \nQ 39.546875 41.84375 41.421875 45.53125 \nQ 43.3125 49.21875 43.3125 52.78125 \nQ 43.3125 58.59375 39.234375 62.25 \nQ 35.15625 65.921875 28.609375 65.921875 \nQ 23.96875 65.921875 18.8125 64.3125 \nQ 13.671875 62.703125 7.8125 59.421875 \nL 7.8125 69.390625 \nQ 13.765625 71.78125 18.9375 73 \nQ 24.125 74.21875 28.421875 74.21875 \nQ 39.75 74.21875 46.484375 68.546875 \nQ 53.21875 62.890625 53.21875 53.421875 \nQ 53.21875 48.921875 51.53125 44.890625 \nQ 49.859375 40.875 45.40625 35.40625 \nQ 44.1875 33.984375 37.640625 27.21875 \nQ 31.109375 20.453125 19.1875 8.296875 \nz\n\" id=\"DejaVuSans-50\"/>\n      </defs>\n      <g transform=\"translate(215.936932 239.238437)scale(0.1 -0.1)\">\n       <use xlink:href=\"#DejaVuSans-50\"/>\n       <use x=\"63.623047\" xlink:href=\"#DejaVuSans-48\"/>\n      </g>\n     </g>\n    </g>\n    <g id=\"xtick_5\">\n     <g id=\"line2d_5\">\n      <g>\n       <use style=\"stroke:#000000;stroke-width:0.8;\" x=\"269.85625\" xlink:href=\"#mafa09940a0\" y=\"224.64\"/>\n      </g>\n     </g>\n     <g id=\"text_5\">\n      <!-- 30 -->\n      <defs>\n       <path d=\"M 40.578125 39.3125 \nQ 47.65625 37.796875 51.625 33 \nQ 55.609375 28.21875 55.609375 21.1875 \nQ 55.609375 10.40625 48.1875 4.484375 \nQ 40.765625 -1.421875 27.09375 -1.421875 \nQ 22.515625 -1.421875 17.65625 -0.515625 \nQ 12.796875 0.390625 7.625 2.203125 \nL 7.625 11.71875 \nQ 11.71875 9.328125 16.59375 8.109375 \nQ 21.484375 6.890625 26.8125 6.890625 \nQ 36.078125 6.890625 40.9375 10.546875 \nQ 45.796875 14.203125 45.796875 21.1875 \nQ 45.796875 27.640625 41.28125 31.265625 \nQ 36.765625 34.90625 28.71875 34.90625 \nL 20.21875 34.90625 \nL 20.21875 43.015625 \nL 29.109375 43.015625 \nQ 36.375 43.015625 40.234375 45.921875 \nQ 44.09375 48.828125 44.09375 54.296875 \nQ 44.09375 59.90625 40.109375 62.90625 \nQ 36.140625 65.921875 28.71875 65.921875 \nQ 24.65625 65.921875 20.015625 65.03125 \nQ 15.375 64.15625 9.8125 62.3125 \nL 9.8125 71.09375 \nQ 15.4375 72.65625 20.34375 73.4375 \nQ 25.25 74.21875 29.59375 74.21875 \nQ 40.828125 74.21875 47.359375 69.109375 \nQ 53.90625 64.015625 53.90625 55.328125 \nQ 53.90625 49.265625 50.4375 45.09375 \nQ 46.96875 40.921875 40.578125 39.3125 \nz\n\" id=\"DejaVuSans-51\"/>\n      </defs>\n      <g transform=\"translate(263.49375 239.238437)scale(0.1 -0.1)\">\n       <use xlink:href=\"#DejaVuSans-51\"/>\n       <use x=\"63.623047\" xlink:href=\"#DejaVuSans-48\"/>\n      </g>\n     </g>\n    </g>\n    <g id=\"xtick_6\">\n     <g id=\"line2d_6\">\n      <g>\n       <use style=\"stroke:#000000;stroke-width:0.8;\" x=\"317.413068\" xlink:href=\"#mafa09940a0\" y=\"224.64\"/>\n      </g>\n     </g>\n     <g id=\"text_6\">\n      <!-- 40 -->\n      <defs>\n       <path d=\"M 37.796875 64.3125 \nL 12.890625 25.390625 \nL 37.796875 25.390625 \nz\nM 35.203125 72.90625 \nL 47.609375 72.90625 \nL 47.609375 25.390625 \nL 58.015625 25.390625 \nL 58.015625 17.1875 \nL 47.609375 17.1875 \nL 47.609375 0 \nL 37.796875 0 \nL 37.796875 17.1875 \nL 4.890625 17.1875 \nL 4.890625 26.703125 \nz\n\" id=\"DejaVuSans-52\"/>\n      </defs>\n      <g transform=\"translate(311.050568 239.238437)scale(0.1 -0.1)\">\n       <use xlink:href=\"#DejaVuSans-52\"/>\n       <use x=\"63.623047\" xlink:href=\"#DejaVuSans-48\"/>\n      </g>\n     </g>\n    </g>\n    <g id=\"xtick_7\">\n     <g id=\"line2d_7\">\n      <g>\n       <use style=\"stroke:#000000;stroke-width:0.8;\" x=\"364.969886\" xlink:href=\"#mafa09940a0\" y=\"224.64\"/>\n      </g>\n     </g>\n     <g id=\"text_7\">\n      <!-- 50 -->\n      <defs>\n       <path d=\"M 10.796875 72.90625 \nL 49.515625 72.90625 \nL 49.515625 64.59375 \nL 19.828125 64.59375 \nL 19.828125 46.734375 \nQ 21.96875 47.46875 24.109375 47.828125 \nQ 26.265625 48.1875 28.421875 48.1875 \nQ 40.625 48.1875 47.75 41.5 \nQ 54.890625 34.8125 54.890625 23.390625 \nQ 54.890625 11.625 47.5625 5.09375 \nQ 40.234375 -1.421875 26.90625 -1.421875 \nQ 22.3125 -1.421875 17.546875 -0.640625 \nQ 12.796875 0.140625 7.71875 1.703125 \nL 7.71875 11.625 \nQ 12.109375 9.234375 16.796875 8.0625 \nQ 21.484375 6.890625 26.703125 6.890625 \nQ 35.15625 6.890625 40.078125 11.328125 \nQ 45.015625 15.765625 45.015625 23.390625 \nQ 45.015625 31 40.078125 35.4375 \nQ 35.15625 39.890625 26.703125 39.890625 \nQ 22.75 39.890625 18.8125 39.015625 \nQ 14.890625 38.140625 10.796875 36.28125 \nz\n\" id=\"DejaVuSans-53\"/>\n      </defs>\n      <g transform=\"translate(358.607386 239.238437)scale(0.1 -0.1)\">\n       <use xlink:href=\"#DejaVuSans-53\"/>\n       <use x=\"63.623047\" xlink:href=\"#DejaVuSans-48\"/>\n      </g>\n     </g>\n    </g>\n   </g>\n   <g id=\"matplotlib.axis_2\">\n    <g id=\"ytick_1\">\n     <g id=\"line2d_8\">\n      <defs>\n       <path d=\"M 0 0 \nL -3.5 0 \n\" id=\"m592b0a621c\" style=\"stroke:#000000;stroke-width:0.8;\"/>\n      </defs>\n      <g>\n       <use style=\"stroke:#000000;stroke-width:0.8;\" x=\"50.14375\" xlink:href=\"#m592b0a621c\" y=\"214.756364\"/>\n      </g>\n     </g>\n     <g id=\"text_8\">\n      <!-- 0.00 -->\n      <defs>\n       <path d=\"M 10.6875 12.40625 \nL 21 12.40625 \nL 21 0 \nL 10.6875 0 \nz\n\" id=\"DejaVuSans-46\"/>\n      </defs>\n      <g transform=\"translate(20.878125 218.555582)scale(0.1 -0.1)\">\n       <use xlink:href=\"#DejaVuSans-48\"/>\n       <use x=\"63.623047\" xlink:href=\"#DejaVuSans-46\"/>\n       <use x=\"95.410156\" xlink:href=\"#DejaVuSans-48\"/>\n       <use x=\"159.033203\" xlink:href=\"#DejaVuSans-48\"/>\n      </g>\n     </g>\n    </g>\n    <g id=\"ytick_2\">\n     <g id=\"line2d_9\">\n      <g>\n       <use style=\"stroke:#000000;stroke-width:0.8;\" x=\"50.14375\" xlink:href=\"#m592b0a621c\" y=\"182.788759\"/>\n      </g>\n     </g>\n     <g id=\"text_9\">\n      <!-- 0.02 -->\n      <g transform=\"translate(20.878125 186.587978)scale(0.1 -0.1)\">\n       <use xlink:href=\"#DejaVuSans-48\"/>\n       <use x=\"63.623047\" xlink:href=\"#DejaVuSans-46\"/>\n       <use x=\"95.410156\" xlink:href=\"#DejaVuSans-48\"/>\n       <use x=\"159.033203\" xlink:href=\"#DejaVuSans-50\"/>\n      </g>\n     </g>\n    </g>\n    <g id=\"ytick_3\">\n     <g id=\"line2d_10\">\n      <g>\n       <use style=\"stroke:#000000;stroke-width:0.8;\" x=\"50.14375\" xlink:href=\"#m592b0a621c\" y=\"150.821155\"/>\n      </g>\n     </g>\n     <g id=\"text_10\">\n      <!-- 0.04 -->\n      <g transform=\"translate(20.878125 154.620374)scale(0.1 -0.1)\">\n       <use xlink:href=\"#DejaVuSans-48\"/>\n       <use x=\"63.623047\" xlink:href=\"#DejaVuSans-46\"/>\n       <use x=\"95.410156\" xlink:href=\"#DejaVuSans-48\"/>\n       <use x=\"159.033203\" xlink:href=\"#DejaVuSans-52\"/>\n      </g>\n     </g>\n    </g>\n    <g id=\"ytick_4\">\n     <g id=\"line2d_11\">\n      <g>\n       <use style=\"stroke:#000000;stroke-width:0.8;\" x=\"50.14375\" xlink:href=\"#m592b0a621c\" y=\"118.853551\"/>\n      </g>\n     </g>\n     <g id=\"text_11\">\n      <!-- 0.06 -->\n      <defs>\n       <path d=\"M 33.015625 40.375 \nQ 26.375 40.375 22.484375 35.828125 \nQ 18.609375 31.296875 18.609375 23.390625 \nQ 18.609375 15.53125 22.484375 10.953125 \nQ 26.375 6.390625 33.015625 6.390625 \nQ 39.65625 6.390625 43.53125 10.953125 \nQ 47.40625 15.53125 47.40625 23.390625 \nQ 47.40625 31.296875 43.53125 35.828125 \nQ 39.65625 40.375 33.015625 40.375 \nz\nM 52.59375 71.296875 \nL 52.59375 62.3125 \nQ 48.875 64.0625 45.09375 64.984375 \nQ 41.3125 65.921875 37.59375 65.921875 \nQ 27.828125 65.921875 22.671875 59.328125 \nQ 17.53125 52.734375 16.796875 39.40625 \nQ 19.671875 43.65625 24.015625 45.921875 \nQ 28.375 48.1875 33.59375 48.1875 \nQ 44.578125 48.1875 50.953125 41.515625 \nQ 57.328125 34.859375 57.328125 23.390625 \nQ 57.328125 12.15625 50.6875 5.359375 \nQ 44.046875 -1.421875 33.015625 -1.421875 \nQ 20.359375 -1.421875 13.671875 8.265625 \nQ 6.984375 17.96875 6.984375 36.375 \nQ 6.984375 53.65625 15.1875 63.9375 \nQ 23.390625 74.21875 37.203125 74.21875 \nQ 40.921875 74.21875 44.703125 73.484375 \nQ 48.484375 72.75 52.59375 71.296875 \nz\n\" id=\"DejaVuSans-54\"/>\n      </defs>\n      <g transform=\"translate(20.878125 122.652769)scale(0.1 -0.1)\">\n       <use xlink:href=\"#DejaVuSans-48\"/>\n       <use x=\"63.623047\" xlink:href=\"#DejaVuSans-46\"/>\n       <use x=\"95.410156\" xlink:href=\"#DejaVuSans-48\"/>\n       <use x=\"159.033203\" xlink:href=\"#DejaVuSans-54\"/>\n      </g>\n     </g>\n    </g>\n    <g id=\"ytick_5\">\n     <g id=\"line2d_12\">\n      <g>\n       <use style=\"stroke:#000000;stroke-width:0.8;\" x=\"50.14375\" xlink:href=\"#m592b0a621c\" y=\"86.885946\"/>\n      </g>\n     </g>\n     <g id=\"text_12\">\n      <!-- 0.08 -->\n      <defs>\n       <path d=\"M 31.78125 34.625 \nQ 24.75 34.625 20.71875 30.859375 \nQ 16.703125 27.09375 16.703125 20.515625 \nQ 16.703125 13.921875 20.71875 10.15625 \nQ 24.75 6.390625 31.78125 6.390625 \nQ 38.8125 6.390625 42.859375 10.171875 \nQ 46.921875 13.96875 46.921875 20.515625 \nQ 46.921875 27.09375 42.890625 30.859375 \nQ 38.875 34.625 31.78125 34.625 \nz\nM 21.921875 38.8125 \nQ 15.578125 40.375 12.03125 44.71875 \nQ 8.5 49.078125 8.5 55.328125 \nQ 8.5 64.0625 14.71875 69.140625 \nQ 20.953125 74.21875 31.78125 74.21875 \nQ 42.671875 74.21875 48.875 69.140625 \nQ 55.078125 64.0625 55.078125 55.328125 \nQ 55.078125 49.078125 51.53125 44.71875 \nQ 48 40.375 41.703125 38.8125 \nQ 48.828125 37.15625 52.796875 32.3125 \nQ 56.78125 27.484375 56.78125 20.515625 \nQ 56.78125 9.90625 50.3125 4.234375 \nQ 43.84375 -1.421875 31.78125 -1.421875 \nQ 19.734375 -1.421875 13.25 4.234375 \nQ 6.78125 9.90625 6.78125 20.515625 \nQ 6.78125 27.484375 10.78125 32.3125 \nQ 14.796875 37.15625 21.921875 38.8125 \nz\nM 18.3125 54.390625 \nQ 18.3125 48.734375 21.84375 45.5625 \nQ 25.390625 42.390625 31.78125 42.390625 \nQ 38.140625 42.390625 41.71875 45.5625 \nQ 45.3125 48.734375 45.3125 54.390625 \nQ 45.3125 60.0625 41.71875 63.234375 \nQ 38.140625 66.40625 31.78125 66.40625 \nQ 25.390625 66.40625 21.84375 63.234375 \nQ 18.3125 60.0625 18.3125 54.390625 \nz\n\" id=\"DejaVuSans-56\"/>\n      </defs>\n      <g transform=\"translate(20.878125 90.685165)scale(0.1 -0.1)\">\n       <use xlink:href=\"#DejaVuSans-48\"/>\n       <use x=\"63.623047\" xlink:href=\"#DejaVuSans-46\"/>\n       <use x=\"95.410156\" xlink:href=\"#DejaVuSans-48\"/>\n       <use x=\"159.033203\" xlink:href=\"#DejaVuSans-56\"/>\n      </g>\n     </g>\n    </g>\n    <g id=\"ytick_6\">\n     <g id=\"line2d_13\">\n      <g>\n       <use style=\"stroke:#000000;stroke-width:0.8;\" x=\"50.14375\" xlink:href=\"#m592b0a621c\" y=\"54.918342\"/>\n      </g>\n     </g>\n     <g id=\"text_13\">\n      <!-- 0.10 -->\n      <g transform=\"translate(20.878125 58.717561)scale(0.1 -0.1)\">\n       <use xlink:href=\"#DejaVuSans-48\"/>\n       <use x=\"63.623047\" xlink:href=\"#DejaVuSans-46\"/>\n       <use x=\"95.410156\" xlink:href=\"#DejaVuSans-49\"/>\n       <use x=\"159.033203\" xlink:href=\"#DejaVuSans-48\"/>\n      </g>\n     </g>\n    </g>\n    <g id=\"ytick_7\">\n     <g id=\"line2d_14\">\n      <g>\n       <use style=\"stroke:#000000;stroke-width:0.8;\" x=\"50.14375\" xlink:href=\"#m592b0a621c\" y=\"22.950738\"/>\n      </g>\n     </g>\n     <g id=\"text_14\">\n      <!-- 0.12 -->\n      <g transform=\"translate(20.878125 26.749956)scale(0.1 -0.1)\">\n       <use xlink:href=\"#DejaVuSans-48\"/>\n       <use x=\"63.623047\" xlink:href=\"#DejaVuSans-46\"/>\n       <use x=\"95.410156\" xlink:href=\"#DejaVuSans-49\"/>\n       <use x=\"159.033203\" xlink:href=\"#DejaVuSans-50\"/>\n      </g>\n     </g>\n    </g>\n    <g id=\"text_15\">\n     <!-- Density -->\n     <defs>\n      <path d=\"M 19.671875 64.796875 \nL 19.671875 8.109375 \nL 31.59375 8.109375 \nQ 46.6875 8.109375 53.6875 14.9375 \nQ 60.6875 21.78125 60.6875 36.53125 \nQ 60.6875 51.171875 53.6875 57.984375 \nQ 46.6875 64.796875 31.59375 64.796875 \nz\nM 9.8125 72.90625 \nL 30.078125 72.90625 \nQ 51.265625 72.90625 61.171875 64.09375 \nQ 71.09375 55.28125 71.09375 36.53125 \nQ 71.09375 17.671875 61.125 8.828125 \nQ 51.171875 0 30.078125 0 \nL 9.8125 0 \nz\n\" id=\"DejaVuSans-68\"/>\n      <path d=\"M 56.203125 29.59375 \nL 56.203125 25.203125 \nL 14.890625 25.203125 \nQ 15.484375 15.921875 20.484375 11.0625 \nQ 25.484375 6.203125 34.421875 6.203125 \nQ 39.59375 6.203125 44.453125 7.46875 \nQ 49.3125 8.734375 54.109375 11.28125 \nL 54.109375 2.78125 \nQ 49.265625 0.734375 44.1875 -0.34375 \nQ 39.109375 -1.421875 33.890625 -1.421875 \nQ 20.796875 -1.421875 13.15625 6.1875 \nQ 5.515625 13.8125 5.515625 26.8125 \nQ 5.515625 40.234375 12.765625 48.109375 \nQ 20.015625 56 32.328125 56 \nQ 43.359375 56 49.78125 48.890625 \nQ 56.203125 41.796875 56.203125 29.59375 \nz\nM 47.21875 32.234375 \nQ 47.125 39.59375 43.09375 43.984375 \nQ 39.0625 48.390625 32.421875 48.390625 \nQ 24.90625 48.390625 20.390625 44.140625 \nQ 15.875 39.890625 15.1875 32.171875 \nz\n\" id=\"DejaVuSans-101\"/>\n      <path d=\"M 54.890625 33.015625 \nL 54.890625 0 \nL 45.90625 0 \nL 45.90625 32.71875 \nQ 45.90625 40.484375 42.875 44.328125 \nQ 39.84375 48.1875 33.796875 48.1875 \nQ 26.515625 48.1875 22.3125 43.546875 \nQ 18.109375 38.921875 18.109375 30.90625 \nL 18.109375 0 \nL 9.078125 0 \nL 9.078125 54.6875 \nL 18.109375 54.6875 \nL 18.109375 46.1875 \nQ 21.34375 51.125 25.703125 53.5625 \nQ 30.078125 56 35.796875 56 \nQ 45.21875 56 50.046875 50.171875 \nQ 54.890625 44.34375 54.890625 33.015625 \nz\n\" id=\"DejaVuSans-110\"/>\n      <path d=\"M 44.28125 53.078125 \nL 44.28125 44.578125 \nQ 40.484375 46.53125 36.375 47.5 \nQ 32.28125 48.484375 27.875 48.484375 \nQ 21.1875 48.484375 17.84375 46.4375 \nQ 14.5 44.390625 14.5 40.28125 \nQ 14.5 37.15625 16.890625 35.375 \nQ 19.28125 33.59375 26.515625 31.984375 \nL 29.59375 31.296875 \nQ 39.15625 29.25 43.1875 25.515625 \nQ 47.21875 21.78125 47.21875 15.09375 \nQ 47.21875 7.46875 41.1875 3.015625 \nQ 35.15625 -1.421875 24.609375 -1.421875 \nQ 20.21875 -1.421875 15.453125 -0.5625 \nQ 10.6875 0.296875 5.421875 2 \nL 5.421875 11.28125 \nQ 10.40625 8.6875 15.234375 7.390625 \nQ 20.0625 6.109375 24.8125 6.109375 \nQ 31.15625 6.109375 34.5625 8.28125 \nQ 37.984375 10.453125 37.984375 14.40625 \nQ 37.984375 18.0625 35.515625 20.015625 \nQ 33.0625 21.96875 24.703125 23.78125 \nL 21.578125 24.515625 \nQ 13.234375 26.265625 9.515625 29.90625 \nQ 5.8125 33.546875 5.8125 39.890625 \nQ 5.8125 47.609375 11.28125 51.796875 \nQ 16.75 56 26.8125 56 \nQ 31.78125 56 36.171875 55.265625 \nQ 40.578125 54.546875 44.28125 53.078125 \nz\n\" id=\"DejaVuSans-115\"/>\n      <path d=\"M 9.421875 54.6875 \nL 18.40625 54.6875 \nL 18.40625 0 \nL 9.421875 0 \nz\nM 9.421875 75.984375 \nL 18.40625 75.984375 \nL 18.40625 64.59375 \nL 9.421875 64.59375 \nz\n\" id=\"DejaVuSans-105\"/>\n      <path d=\"M 18.3125 70.21875 \nL 18.3125 54.6875 \nL 36.8125 54.6875 \nL 36.8125 47.703125 \nL 18.3125 47.703125 \nL 18.3125 18.015625 \nQ 18.3125 11.328125 20.140625 9.421875 \nQ 21.96875 7.515625 27.59375 7.515625 \nL 36.8125 7.515625 \nL 36.8125 0 \nL 27.59375 0 \nQ 17.1875 0 13.234375 3.875 \nQ 9.28125 7.765625 9.28125 18.015625 \nL 9.28125 47.703125 \nL 2.6875 47.703125 \nL 2.6875 54.6875 \nL 9.28125 54.6875 \nL 9.28125 70.21875 \nz\n\" id=\"DejaVuSans-116\"/>\n      <path d=\"M 32.171875 -5.078125 \nQ 28.375 -14.84375 24.75 -17.8125 \nQ 21.140625 -20.796875 15.09375 -20.796875 \nL 7.90625 -20.796875 \nL 7.90625 -13.28125 \nL 13.1875 -13.28125 \nQ 16.890625 -13.28125 18.9375 -11.515625 \nQ 21 -9.765625 23.484375 -3.21875 \nL 25.09375 0.875 \nL 2.984375 54.6875 \nL 12.5 54.6875 \nL 29.59375 11.921875 \nL 46.6875 54.6875 \nL 56.203125 54.6875 \nz\n\" id=\"DejaVuSans-121\"/>\n     </defs>\n     <g transform=\"translate(14.798438 134.928594)rotate(-90)scale(0.1 -0.1)\">\n      <use xlink:href=\"#DejaVuSans-68\"/>\n      <use x=\"77.001953\" xlink:href=\"#DejaVuSans-101\"/>\n      <use x=\"138.525391\" xlink:href=\"#DejaVuSans-110\"/>\n      <use x=\"201.904297\" xlink:href=\"#DejaVuSans-115\"/>\n      <use x=\"254.003906\" xlink:href=\"#DejaVuSans-105\"/>\n      <use x=\"281.787109\" xlink:href=\"#DejaVuSans-116\"/>\n      <use x=\"320.996094\" xlink:href=\"#DejaVuSans-121\"/>\n     </g>\n    </g>\n   </g>\n   <g id=\"line2d_15\">\n    <path clip-path=\"url(#pba0e8ef58a)\" d=\"M 65.361932 214.756364 \nL 135.74031 214.664644 \nL 137.56832 214.434425 \nL 139.39633 213.974068 \nL 140.919671 213.393736 \nL 142.138345 212.733619 \nL 143.357018 211.782491 \nL 144.271023 210.79799 \nL 145.185028 209.49775 \nL 146.099033 207.766993 \nL 147.013037 205.470781 \nL 147.927042 202.530033 \nL 149.145716 197.720777 \nL 150.669057 190.794809 \nL 151.88773 184.502155 \nL 153.106404 177.01874 \nL 154.629745 165.933887 \nL 156.457755 150.841214 \nL 157.676428 138.92367 \nL 159.809106 114.787883 \nL 164.988467 57.255875 \nL 165.902472 50.419659 \nL 167.121146 43.620871 \nL 169.86316 29.788095 \nL 170.472497 27.792054 \nL 171.386502 25.585937 \nL 172.300507 23.387743 \nL 174.433185 17.629026 \nL 174.737853 17.2558 \nL 175.042521 17.083636 \nL 175.34719 17.103494 \nL 175.956526 17.600118 \nL 178.393873 20.909071 \nL 179.003209 22.354569 \nL 179.612546 24.727698 \nL 180.221883 28.170268 \nL 181.135888 34.861142 \nL 182.963897 48.569137 \nL 186.315249 70.013822 \nL 187.533922 76.511269 \nL 189.057264 84.109881 \nL 190.275937 91.722766 \nL 192.103947 103.702326 \nL 193.931956 113.732869 \nL 196.978639 129.825929 \nL 199.415986 141.181322 \nL 201.853332 153.424919 \nL 203.072006 158.141358 \nL 204.595347 163.114553 \nL 205.81402 166.42862 \nL 207.337362 169.772262 \nL 208.556035 172.644582 \nL 210.384045 177.867152 \nL 211.907386 181.918316 \nL 215.258738 189.820485 \nL 216.477411 192.168304 \nL 218.000752 194.570409 \nL 219.828762 197.054459 \nL 221.047436 198.334865 \nL 222.875445 199.848574 \nL 225.312792 201.631658 \nL 227.140802 202.888675 \nL 228.359475 203.997903 \nL 231.10149 206.658783 \nL 233.234168 208.284202 \nL 235.062178 209.41555 \nL 237.194856 210.397689 \nL 239.632202 211.290107 \nL 241.460212 211.675083 \nL 243.288222 211.837331 \nL 248.467583 212.094699 \nL 252.732939 212.669165 \nL 261.56832 214.109262 \nL 265.22434 214.334534 \nL 270.708369 214.44307 \nL 276.801735 214.484834 \nL 283.504438 214.699983 \nL 287.465126 214.576296 \nL 291.730482 214.500327 \nL 295.995838 214.621438 \nL 300.870531 214.751231 \nL 326.462669 214.756364 \nL 369.725568 214.756364 \nL 369.725568 214.756364 \n\" style=\"fill:none;stroke:#1f77b4;stroke-linecap:square;stroke-width:1.5;\"/>\n   </g>\n   <g id=\"patch_3\">\n    <path d=\"M 50.14375 224.64 \nL 50.14375 7.2 \n\" style=\"fill:none;stroke:#000000;stroke-linecap:square;stroke-linejoin:miter;stroke-width:0.8;\"/>\n   </g>\n   <g id=\"patch_4\">\n    <path d=\"M 384.94375 224.64 \nL 384.94375 7.2 \n\" style=\"fill:none;stroke:#000000;stroke-linecap:square;stroke-linejoin:miter;stroke-width:0.8;\"/>\n   </g>\n   <g id=\"patch_5\">\n    <path d=\"M 50.14375 224.64 \nL 384.94375 224.64 \n\" style=\"fill:none;stroke:#000000;stroke-linecap:square;stroke-linejoin:miter;stroke-width:0.8;\"/>\n   </g>\n   <g id=\"patch_6\">\n    <path d=\"M 50.14375 7.2 \nL 384.94375 7.2 \n\" style=\"fill:none;stroke:#000000;stroke-linecap:square;stroke-linejoin:miter;stroke-width:0.8;\"/>\n   </g>\n  </g>\n </g>\n <defs>\n  <clipPath id=\"pba0e8ef58a\">\n   <rect height=\"217.44\" width=\"334.8\" x=\"50.14375\" y=\"7.2\"/>\n  </clipPath>\n </defs>\n</svg>\n",
      "text/plain": "<Figure size 432x288 with 1 Axes>"
     },
     "metadata": {
      "needs_background": "light"
     },
     "output_type": "display_data"
    }
   ],
   "source": [
    "df.qlen.plot.kde()"
   ]
  },
  {
   "cell_type": "code",
   "execution_count": 3,
   "metadata": {},
   "outputs": [
    {
     "data": {
      "text/plain": "<DatasetV1Adapter shapes: (), types: tf.string>"
     },
     "execution_count": 3,
     "metadata": {},
     "output_type": "execute_result"
    }
   ],
   "source": [
    "qtokens = questions.flat_map(lambda x: tf.data.Dataset.from_tensor_slices(x))\n",
    "qtokens"
   ]
  },
  {
   "cell_type": "code",
   "execution_count": 4,
   "metadata": {},
   "outputs": [],
   "source": [
    "qlist = list(qtokens.as_numpy_iterator())"
   ]
  },
  {
   "cell_type": "code",
   "execution_count": 5,
   "metadata": {},
   "outputs": [],
   "source": [
    "words, counts = np.unique(qlist, return_counts=True)"
   ]
  },
  {
   "cell_type": "code",
   "execution_count": 6,
   "metadata": {},
   "outputs": [
    {
     "data": {
      "text/plain": "(array([b'\"', b'\",', b'\"10', b'\"?', b'$', b'$10', b'$100,000?', b'$20',\n        b'$300', b'$38,000'], dtype='|S19'),\n array([145,   1,   1,  36,   1,   1,   1,   2,   1,   2]))"
     },
     "execution_count": 6,
     "metadata": {},
     "output_type": "execute_result"
    }
   ],
   "source": [
    "words[:10], counts[:10]"
   ]
  },
  {
   "cell_type": "code",
   "execution_count": 7,
   "metadata": {},
   "outputs": [
    {
     "data": {
      "text/plain": "True"
     },
     "execution_count": 7,
     "metadata": {},
     "output_type": "execute_result"
    }
   ],
   "source": [
    "counts.sum() == len(qlist)"
   ]
  },
  {
   "cell_type": "code",
   "execution_count": 8,
   "metadata": {},
   "outputs": [],
   "source": [
    "df = pd.DataFrame({\"Token\": words, \"Count\": counts})\n",
    "df.loc[:, 'Token'] = df.Token.map(lambda x: x.decode('utf-8'))\n",
    "df = df.sort_values('Count', ascending=False)"
   ]
  },
  {
   "cell_type": "code",
   "execution_count": 9,
   "metadata": {},
   "outputs": [],
   "source": [
    "word2idx = json.load(open(CONFIG.WORD2IDX, \"r\"))"
   ]
  },
  {
   "cell_type": "code",
   "execution_count": 10,
   "metadata": {},
   "outputs": [
    {
     "data": {
      "text/plain": "Token    object\nCount     int64\ndtype: object"
     },
     "execution_count": 10,
     "metadata": {},
     "output_type": "execute_result"
    }
   ],
   "source": [
    "df.dtypes"
   ]
  },
  {
   "cell_type": "code",
   "execution_count": 11,
   "metadata": {},
   "outputs": [],
   "source": [
    "df = df.reset_index(drop=True)\n",
    "df.index = df.index + 1\n",
    "df = df.reset_index()"
   ]
  },
  {
   "cell_type": "code",
   "execution_count": 12,
   "metadata": {},
   "outputs": [
    {
     "data": {
      "text/html": "<div>\n<style scoped>\n    .dataframe tbody tr th:only-of-type {\n        vertical-align: middle;\n    }\n\n    .dataframe tbody tr th {\n        vertical-align: top;\n    }\n\n    .dataframe thead th {\n        text-align: right;\n    }\n</style>\n<table border=\"1\" class=\"dataframe\">\n  <thead>\n    <tr style=\"text-align: right;\">\n      <th></th>\n      <th>index</th>\n      <th>Token</th>\n      <th>Count</th>\n    </tr>\n  </thead>\n  <tbody>\n    <tr>\n      <th>0</th>\n      <td>1</td>\n      <td>?</td>\n      <td>11058</td>\n    </tr>\n    <tr>\n      <th>1</th>\n      <td>2</td>\n      <td>the</td>\n      <td>8096</td>\n    </tr>\n    <tr>\n      <th>2</th>\n      <td>3</td>\n      <td>What</td>\n      <td>5809</td>\n    </tr>\n    <tr>\n      <th>3</th>\n      <td>4</td>\n      <td>of</td>\n      <td>4689</td>\n    </tr>\n    <tr>\n      <th>4</th>\n      <td>5</td>\n      <td>in</td>\n      <td>2846</td>\n    </tr>\n    <tr>\n      <th>...</th>\n      <td>...</td>\n      <td>...</td>\n      <td>...</td>\n    </tr>\n    <tr>\n      <th>11226</th>\n      <td>11227</td>\n      <td>measurment</td>\n      <td>1</td>\n    </tr>\n    <tr>\n      <th>11227</th>\n      <td>11228</td>\n      <td>Subcommittee</td>\n      <td>1</td>\n    </tr>\n    <tr>\n      <th>11228</th>\n      <td>11229</td>\n      <td>Subjects</td>\n      <td>1</td>\n    </tr>\n    <tr>\n      <th>11229</th>\n      <td>11230</td>\n      <td>Succeeding</td>\n      <td>1</td>\n    </tr>\n    <tr>\n      <th>11230</th>\n      <td>11231</td>\n      <td>−1?</td>\n      <td>1</td>\n    </tr>\n  </tbody>\n</table>\n<p>11231 rows × 3 columns</p>\n</div>",
      "text/plain": "       index         Token  Count\n0          1             ?  11058\n1          2           the   8096\n2          3          What   5809\n3          4            of   4689\n4          5            in   2846\n...      ...           ...    ...\n11226  11227    measurment      1\n11227  11228  Subcommittee      1\n11228  11229      Subjects      1\n11229  11230    Succeeding      1\n11230  11231           −1?      1\n\n[11231 rows x 3 columns]"
     },
     "execution_count": 12,
     "metadata": {},
     "output_type": "execute_result"
    }
   ],
   "source": [
    "df"
   ]
  },
  {
   "cell_type": "code",
   "execution_count": 13,
   "metadata": {},
   "outputs": [],
   "source": [
    "qword2idx = dict(df.iloc[:4997,[1,0]].values)"
   ]
  },
  {
   "cell_type": "code",
   "execution_count": 14,
   "metadata": {},
   "outputs": [
    {
     "data": {
      "text/plain": "4997"
     },
     "execution_count": 14,
     "metadata": {},
     "output_type": "execute_result"
    }
   ],
   "source": [
    "len(qword2idx)"
   ]
  },
  {
   "cell_type": "code",
   "execution_count": 15,
   "metadata": {},
   "outputs": [],
   "source": [
    "qword2idx['<START>'] = 4998\n",
    "qword2idx['<END>'] = 4999"
   ]
  },
  {
   "cell_type": "code",
   "execution_count": 22,
   "metadata": {},
   "outputs": [
    {
     "data": {
      "text/plain": "True"
     },
     "execution_count": 22,
     "metadata": {},
     "output_type": "execute_result"
    }
   ],
   "source": [
    "len(np.unique(qword2idx.values())[0]) == len(qword2idx.values())"
   ]
  },
  {
   "cell_type": "code",
   "execution_count": 23,
   "metadata": {},
   "outputs": [
    {
     "data": {
      "text/plain": "{'?': 1,\n 'the': 2,\n 'What': 3,\n 'of': 4,\n 'in': 5,\n 'to': 6,\n 'is': 7,\n 'did': 8,\n 'was': 9,\n 'a': 10,\n 'what': 11,\n 'How': 12,\n \"'\": 13,\n 'are': 14,\n 'Who': 15,\n 'and': 16,\n 's': 17,\n 'for': 18,\n 'does': 19,\n 'that': 20,\n 'When': 21,\n ',': 22,\n 'many': 23,\n 'do': 24,\n 'by': 25,\n 'not': 26,\n '-': 27,\n 'with': 28,\n 'on': 29,\n 'In': 30,\n 'be': 31,\n 'as': 32,\n 'were': 33,\n 'have': 34,\n 'from': 35,\n 'Where': 36,\n 'an': 37,\n 'year': 38,\n 'type': 39,\n 'Which': 40,\n 'The': 41,\n 'can': 42,\n 'has': 43,\n 'name': 44,\n 'used': 45,\n 'at': 46,\n 'it': 47,\n 'Rhine': 48,\n 'which': 49,\n 'first': 50,\n 'one': 51,\n 'when': 52,\n 't': 53,\n 'most': 54,\n 'other': 55,\n 'Why': 56,\n 'oxygen': 57,\n 'system': 58,\n 'much': 59,\n 'than': 60,\n 'called': 61,\n 'schools': 62,\n 'between': 63,\n 'people': 64,\n 'into': 65,\n 'how': 66,\n 'French': 67,\n 'two': 68,\n '.': 69,\n 'there': 70,\n 'Warsaw': 71,\n '\"': 72,\n 'kind': 73,\n 'its': 74,\n 'would': 75,\n 'their': 76,\n 'about': 77,\n 'time': 78,\n 'had': 79,\n 'Amazon': 80,\n 'use': 81,\n 'or': 82,\n 'cells': 83,\n 'steam': 84,\n 'been': 85,\n 'during': 86,\n 'country': 87,\n 'law': 88,\n 'engine': 89,\n 'British': 90,\n 'located': 91,\n 'more': 92,\n 'known': 93,\n 'problem': 94,\n 'Victoria': 95,\n 'government': 96,\n 'city': 97,\n 'number': 98,\n 'up': 99,\n 'European': 100,\n 'century': 101,\n 'theory': 102,\n 'force': 103,\n 'term': 104,\n 'university': 105,\n 'Yuan': 106,\n 'civil': 107,\n 'Jacksonville': 108,\n 'after': 109,\n 'water': 110,\n 'immune': 111,\n 'inequality': 112,\n 'disobedience': 113,\n 'France': 114,\n 'some': 115,\n 'example': 116,\n 'California': 117,\n 'long': 118,\n 'found': 119,\n 'population': 120,\n 'complexity': 121,\n 'out': 122,\n 'school': 123,\n 'Parliament': 124,\n 'another': 125,\n 'Huguenots': 126,\n 'being': 127,\n 'his': 128,\n 'part': 129,\n 'all': 130,\n 'public': 131,\n 'non': 132,\n 'Harvard': 133,\n 'they': 134,\n 'state': 135,\n 'prime': 136,\n 'considered': 137,\n 'th': 138,\n 'private': 139,\n 'take': 140,\n 'work': 141,\n 'where': 142,\n 'students': 143,\n 'made': 144,\n 'this': 145,\n 'percentage': 146,\n 'oil': 147,\n 'who': 148,\n 'problems': 149,\n 'US': 150,\n 'University': 151,\n 'form': 152,\n 'Huguenot': 153,\n 'years': 154,\n 'area': 155,\n 'War': 156,\n 'countries': 157,\n 'Fresno': 158,\n 'power': 159,\n 'United': 160,\n 'income': 161,\n 'engines': 162,\n 'also': 163,\n 'high': 164,\n 'plague': 165,\n 'Kublai': 166,\n 'forces': 167,\n 'types': 168,\n 'no': 169,\n 'imperialism': 170,\n 'numbers': 171,\n 'Union': 172,\n 'IPCC': 173,\n 'begin': 174,\n 'American': 175,\n 'make': 176,\n 'BSkyB': 177,\n 'developed': 178,\n 'only': 179,\n 'become': 180,\n 'if': 181,\n 'construction': 182,\n 'EU': 183,\n 'three': 184,\n 'over': 185,\n 'under': 186,\n 'against': 187,\n 'New': 188,\n 'major': 189,\n 'set': 190,\n 'group': 191,\n 'often': 192,\n 'states': 193,\n 'largest': 194,\n 'must': 195,\n 'pharmacy': 196,\n 'before': 197,\n 'North': 198,\n 'Sky': 199,\n 'main': 200,\n 'given': 201,\n 'could': 202,\n 'will': 203,\n 'T': 204,\n 'large': 205,\n 'second': 206,\n 'States': 207,\n 'world': 208,\n 'less': 209,\n 'region': 210,\n 'lead': 211,\n 'Scottish': 212,\n 'happens': 213,\n 'process': 214,\n 'Europe': 215,\n 'built': 216,\n 'Germany': 217,\n 'workers': 218,\n 'growth': 219,\n 'never': 220,\n 'body': 221,\n 'war': 222,\n 'economic': 223,\n 'southern': 224,\n 'modern': 225,\n 'dynasty': 226,\n 'change': 227,\n 'building': 228,\n 'members': 229,\n 'South': 230,\n 'last': 231,\n 'English': 232,\n 'Chinese': 233,\n 'member': 234,\n 'caused': 235,\n 'land': 236,\n 'established': 237,\n 'end': 238,\n 'each': 239,\n 'through': 240,\n 'lower': 241,\n 'primes': 242,\n 'Earth': 243,\n 'may': 244,\n 'effect': 245,\n 'class': 246,\n 'within': 247,\n 'using': 248,\n 'flow': 249,\n 'start': 250,\n 'produce': 251,\n 'place': 252,\n 'concept': 253,\n 'rock': 254,\n 'case': 255,\n 'rainforest': 256,\n 'level': 257,\n 'way': 258,\n 'higher': 259,\n 'general': 260,\n 'order': 261,\n '2': 262,\n 'A': 263,\n 'species': 264,\n 'company': 265,\n 'give': 266,\n 'classes': 267,\n 'associated': 268,\n 'amount': 269,\n 'same': 270,\n 'pharmacists': 271,\n 'John': 272,\n 'response': 273,\n 'created': 274,\n 'P': 275,\n 'service': 276,\n 'period': 277,\n 'responsible': 278,\n 'typically': 279,\n 'wealth': 280,\n 'increase': 281,\n 'important': 282,\n 'If': 283,\n 'Black': 284,\n 'help': 285,\n 'different': 286,\n 'Along': 287,\n 'usually': 288,\n 'computational': 289,\n 'report': 290,\n 'machine': 291,\n 'forest': 292,\n 'founded': 293,\n 'didn': 294,\n 'new': 295,\n 'During': 296,\n 'cell': 297,\n 'cycle': 298,\n 'theorem': 299,\n 'discovered': 300,\n 'levels': 301,\n 'Court': 302,\n 'movement': 303,\n 'U': 304,\n 'temperature': 305,\n 'published': 306,\n 'empire': 307,\n 'areas': 308,\n 'any': 309,\n 'space': 310,\n 'support': 311,\n 'military': 312,\n 'America': 313,\n 'held': 314,\n 'organization': 315,\n 'river': 316,\n 'By': 317,\n 'O': 318,\n 'get': 319,\n 'based': 320,\n 'happened': 321,\n 'common': 322,\n 'least': 323,\n 'On': 324,\n 'n': 325,\n 'he': 326,\n 'present': 327,\n 'NP': 328,\n 'UK': 329,\n 'groups': 330,\n 'court': 331,\n 'create': 332,\n 'William': 333,\n 'education': 334,\n 'result': 335,\n 'wrote': 336,\n 'model': 337,\n 'Justice': 338,\n 'cause': 339,\n 'study': 340,\n 'down': 341,\n 'along': 342,\n 'algorithm': 343,\n 'field': 344,\n 'Muslim': 345,\n 'San': 346,\n 'able': 347,\n 'President': 348,\n 'direction': 349,\n 'word': 350,\n 'party': 351,\n 'formed': 352,\n 'thought': 353,\n 'early': 354,\n 'live': 355,\n 'C': 356,\n 'development': 357,\n 'function': 358,\n '1': 359,\n 'Scotland': 360,\n 'you': 361,\n 'p': 362,\n 'role': 363,\n 'sea': 364,\n 'wasn': 365,\n '\"?': 366,\n 'political': 367,\n 'Angeles': 368,\n 'Los': 369,\n 'born': 370,\n 'home': 371,\n 'Islamic': 372,\n 'required': 373,\n 'de': 374,\n 'Turing': 375,\n 'move': 376,\n 'business': 377,\n 'Australia': 378,\n 'pressure': 379,\n 'society': 380,\n 'East': 381,\n 'Treaty': 382,\n 'Whose': 383,\n 'Norman': 384,\n 'causes': 385,\n 'network': 386,\n 'German': 387,\n 'economy': 388,\n 'program': 389,\n 'capital': 390,\n 'control': 391,\n 'person': 392,\n 'ranked': 393,\n 'according': 394,\n 'trade': 395,\n 'State': 396,\n 'religion': 397,\n 'require': 398,\n 'like': 399,\n 'rate': 400,\n 'social': 401,\n 'book': 402,\n 'whom': 403,\n 'reason': 404,\n 'led': 405,\n 'combustion': 406,\n 'impact': 407,\n 'air': 408,\n 'Poland': 409,\n 'come': 410,\n 'Brotherhood': 411,\n 'China': 412,\n 'show': 413,\n 'research': 414,\n 'doesn': 415,\n 'measure': 416,\n 'current': 417,\n 'project': 418,\n 'needed': 419,\n 'else': 420,\n 'England': 421,\n 'After': 422,\n 'sometimes': 423,\n 'makes': 424,\n 'outside': 425,\n 'Islam': 426,\n 'should': 427,\n 'event': 428,\n 'complex': 429,\n 'act': 430,\n 'provide': 431,\n 'key': 432,\n 'total': 433,\n 'goal': 434,\n 'companies': 435,\n 'average': 436,\n 'Khan': 437,\n 'free': 438,\n 'self': 439,\n 'mean': 440,\n 'since': 441,\n 'commonly': 442,\n 'language': 443,\n 'India': 444,\n 'allowed': 445,\n 'highest': 446,\n 'examples': 447,\n 'working': 448,\n 'molecules': 449,\n 'pharmacies': 450,\n 'attack': 451,\n 'Sea': 452,\n 'mass': 453,\n 'want': 454,\n 'well': 455,\n 'Chicago': 456,\n 'resources': 457,\n 'develop': 458,\n 'larger': 459,\n 'S': 460,\n 'them': 461,\n 'policy': 462,\n 'believe': 463,\n 'occur': 464,\n 'became': 465,\n 'climate': 466,\n 'died': 467,\n 'times': 468,\n 'According': 469,\n 'Besides': 470,\n 'channels': 471,\n 'To': 472,\n 'complete': 473,\n 'prevent': 474,\n 'Normans': 475,\n 'X': 476,\n 'former': 477,\n 'think': 478,\n 'spread': 479,\n 'Other': 480,\n 'integer': 481,\n 'near': 482,\n 'At': 483,\n 'packet': 484,\n 'student': 485,\n 'generally': 486,\n 'size': 487,\n 'die': 488,\n 'Act': 489,\n 'bill': 490,\n 'rocks': 491,\n 'price': 492,\n 'contain': 493,\n 'seen': 494,\n 'say': 495,\n 'west': 496,\n 'fall': 497,\n 'rule': 498,\n 'named': 499,\n 'algorithms': 500,\n 'find': 501,\n 'popular': 502,\n 'old': 503,\n 'Mongols': 504,\n 'laws': 505,\n 'troops': 506,\n 'motion': 507,\n 'increased': 508,\n 'need': 509,\n 'alumni': 510,\n 'article': 511,\n 'changes': 512,\n 'came': 513,\n 'studies': 514,\n 'day': 515,\n 'build': 516,\n 'pathogens': 517,\n 'famous': 518,\n 'date': 519,\n 'due': 520,\n 'specific': 521,\n '20': 522,\n 'College': 523,\n 'nuclear': 524,\n 'primary': 525,\n 'until': 526,\n 'Mongol': 527,\n 'drugs': 528,\n 'definition': 529,\n 'team': 530,\n 'described': 531,\n 'relationship': 532,\n 'Of': 533,\n 'Council': 534,\n 'market': 535,\n 'establish': 536,\n 'doing': 537,\n 'leader': 538,\n 'rights': 539,\n 'principle': 540,\n 'living': 541,\n 'certain': 542,\n 'money': 543,\n 'district': 544,\n 'pay': 545,\n 'Britain': 546,\n 'written': 547,\n 'might': 548,\n 'value': 549,\n 'division': 550,\n 'energy': 551,\n 'small': 552,\n 'turbine': 553,\n 'element': 554,\n 'Death': 555,\n 'four': 556,\n 'protest': 557,\n 'plan': 558,\n 'expansion': 559,\n 'method': 560,\n 'play': 561,\n 'view': 562,\n 'top': 563,\n 'objects': 564,\n 'determine': 565,\n 'sources': 566,\n 'solved': 567,\n 'Islamism': 568,\n 'Social': 569,\n 'scientists': 570,\n 'Japan': 571,\n '/': 572,\n 'Central': 573,\n 'originally': 574,\n 'border': 575,\n 'pathogen': 576,\n 'decide': 577,\n 'flows': 578,\n 'Dutch': 579,\n 'surface': 580,\n 'Temur': 581,\n 'industry': 582,\n 'test': 583,\n 'lines': 584,\n 'World': 585,\n 'point': 586,\n 'conditions': 587,\n 'plant': 588,\n 'fault': 589,\n 'elected': 590,\n 'president': 591,\n 'vote': 592,\n 'plans': 593,\n 'per': 594,\n 'designed': 595,\n 'go': 596,\n 'included': 597,\n 'but': 598,\n 'regions': 599,\n 'both': 600,\n 'age': 601,\n 'Watt': 602,\n 'compared': 603,\n 'treaty': 604,\n 'cities': 605,\n 'Great': 606,\n 'health': 607,\n 'Ottoman': 608,\n 'involved': 609,\n 'believed': 610,\n 'include': 611,\n 'production': 612,\n 'Newton': 613,\n 'Africa': 614,\n 'immunity': 615,\n 'right': 616,\n '19': 617,\n 'plants': 618,\n 'those': 619,\n 'St': 620,\n 'around': 621,\n 'equal': 622,\n 'II': 623,\n 'basin': 624,\n 'exchange': 625,\n 'Southern': 626,\n 'Arab': 627,\n 'Indian': 628,\n 'primality': 629,\n 'besides': 630,\n 'produced': 631,\n 'settlement': 632,\n 'applied': 633,\n 'army': 634,\n 'There': 635,\n 'greater': 636,\n 'elements': 637,\n 'efforts': 638,\n 'north': 639,\n 'run': 640,\n 'history': 641,\n 'General': 642,\n 'King': 643,\n 'win': 644,\n 'across': 645,\n 'exist': 646,\n 'input': 647,\n 'medicine': 648,\n 'destroyed': 649,\n 'Fort': 650,\n 'takes': 651,\n 'design': 652,\n 'decision': 653,\n 'supply': 654,\n 'tribes': 655,\n 'means': 656,\n 'Polish': 657,\n 'prior': 658,\n 'experiments': 659,\n 'compounds': 660,\n 'architecture': 661,\n 'Robert': 662,\n 'Iqbal': 663,\n 'later': 664,\n 'reach': 665,\n 'gas': 666,\n 'territory': 667,\n 'heat': 668,\n 'crisis': 669,\n 'Lake': 670,\n 'took': 671,\n 'longer': 672,\n 'third': 673,\n 'recognized': 674,\n 'Law': 675,\n 'I': 676,\n 'currently': 677,\n 'scale': 678,\n 'Rankine': 679,\n 'Western': 680,\n 'data': 681,\n 'line': 682,\n 'financial': 683,\n 'expression': 684,\n 'center': 685,\n 'job': 686,\n 'Grand': 687,\n 'hold': 688,\n 'expedition': 689,\n 'global': 690,\n 'ctenophores': 691,\n 'went': 692,\n 'B': 693,\n 'church': 694,\n 'referred': 695,\n 'stop': 696,\n 'device': 697,\n 'electric': 698,\n 'residents': 699,\n 'today': 700,\n 'lived': 701,\n 'models': 702,\n 'science': 703,\n 'introduced': 704,\n 'so': 705,\n 'because': 706,\n 'serve': 707,\n 'majority': 708,\n 'For': 709,\n 'Florida': 710,\n 'define': 711,\n 'object': 712,\n 'counties': 713,\n 'idea': 714,\n 'technology': 715,\n 'don': 716,\n 'rest': 717,\n 'Cambridge': 718,\n 'neighborhood': 719,\n 'Spanish': 720,\n 'allow': 721,\n 'Asia': 722,\n 'battle': 723,\n 'Minister': 724,\n 'helped': 725,\n 'claim': 726,\n 'isn': 727,\n 'themselves': 728,\n 'lack': 729,\n 'gold': 730,\n 'invented': 731,\n 'dust': 732,\n 'itself': 733,\n 'controlled': 734,\n 'final': 735,\n 'seek': 736,\n 'addition': 737,\n 'fire': 738,\n 'issue': 739,\n 'runs': 740,\n 'delta': 741,\n 'every': 742,\n 'happen': 743,\n 'presence': 744,\n 'towards': 745,\n 'constant': 746,\n 'weren': 747,\n 'children': 748,\n 'Charles': 749,\n 'travel': 750,\n 'Henry': 751,\n 'Charter': 752,\n 'Library': 753,\n 'seats': 754,\n 'accepted': 755,\n 'Roman': 756,\n 'said': 757,\n 'information': 758,\n 'tax': 759,\n 'services': 760,\n 'Middle': 761,\n 'al': 762,\n 'fight': 763,\n 'upon': 764,\n 'nationality': 765,\n 'difficult': 766,\n 'machines': 767,\n 'particles': 768,\n 'smaller': 769,\n 'lose': 770,\n 'speed': 771,\n 'Americans': 772,\n 'London': 773,\n 'source': 774,\n 'life': 775,\n 'paper': 776,\n 'measurements': 777,\n 'terms': 778,\n 'cold': 779,\n 'antigens': 780,\n 'rain': 781,\n 'successful': 782,\n 'low': 783,\n 'Celeron': 784,\n 'religious': 785,\n 'without': 786,\n 'community': 787,\n 'branch': 788,\n 'taken': 789,\n 'expressed': 790,\n 'charge': 791,\n 'graph': 792,\n 'then': 793,\n 'digital': 794,\n 'far': 795,\n 'among': 796,\n 'days': 797,\n 'instead': 798,\n 'Australian': 799,\n 'bodies': 800,\n 'researchers': 801,\n 'fossils': 802,\n 'provided': 803,\n 'animals': 804,\n 'now': 805,\n 'projects': 806,\n 'academic': 807,\n 'national': 808,\n 'solution': 809,\n 'increases': 810,\n 'fields': 811,\n 'issued': 812,\n 'Islamists': 813,\n 'open': 814,\n 'chamber': 815,\n 'colony': 816,\n 'Tower': 817,\n 'town': 818,\n 'regarding': 819,\n 'Constance': 820,\n 'principles': 821,\n 'Tugh': 822,\n 'similar': 823,\n 'feel': 824,\n 'organisms': 825,\n 'stated': 826,\n 'internet': 827,\n 'wages': 828,\n 'Joseph': 829,\n 'million': 830,\n 'available': 831,\n 'duty': 832,\n 'depend': 833,\n 'Empire': 834,\n 'passed': 835,\n 'always': 836,\n 'call': 837,\n 'chemical': 838,\n 'connected': 839,\n 'decade': 840,\n 'Imperialism': 841,\n 'issues': 842,\n 'nations': 843,\n 'uses': 844,\n 'smallest': 845,\n 'natural': 846,\n 'away': 847,\n 'Museum': 848,\n 'possible': 849,\n 'inside': 850,\n 'pharmacist': 851,\n 'lost': 852,\n 'era': 853,\n 'velocity': 854,\n 'measurement': 855,\n 'question': 856,\n 'geologists': 857,\n 'changed': 858,\n 'upper': 859,\n 'notable': 860,\n 'status': 861,\n 'kill': 862,\n '&': 863,\n 'represent': 864,\n 'best': 865,\n 'distribution': 866,\n 'School': 867,\n 'v': 868,\n 'formation': 869,\n 'subject': 870,\n 'direct': 871,\n 'represented': 872,\n 'Maududi': 873,\n 'allows': 874,\n 'gain': 875,\n 'Japanese': 876,\n 'Melbourne': 877,\n 'Israel': 878,\n 'east': 879,\n 'Commission': 880,\n 'rise': 881,\n 'grow': 882,\n 'infinite': 883,\n 'packets': 884,\n 'defined': 885,\n 'supported': 886,\n 'official': 887,\n 'medical': 888,\n 'own': 889,\n 'oldest': 890,\n 'share': 891,\n 'First': 892,\n 'compound': 893,\n '10': 894,\n 'human': 895,\n 'site': 896,\n 'switching': 897,\n 'decrease': 898,\n 'side': 899,\n 'original': 900,\n 'organizations': 901,\n 'agreement': 902,\n 'action': 903,\n 'Paul': 904,\n 'citizens': 905,\n 'theories': 906,\n 'done': 907,\n 'loss': 908,\n 'polynomial': 909,\n 'cilia': 910,\n 'House': 911,\n 'fort': 912,\n 'Ireland': 913,\n 'entity': 914,\n 'property': 915,\n 'Under': 916,\n 'black': 917,\n 'lowest': 918,\n 'describe': 919,\n 'forms': 920,\n 'Northern': 921,\n 'still': 922,\n 'factors': 923,\n 'characterized': 924,\n 'rejected': 925,\n 'Washington': 926,\n 'legislative': 927,\n 'hypothesis': 928,\n 'Egypt': 929,\n 'title': 930,\n 'additional': 931,\n 'address': 932,\n 'ctenophora': 933,\n 'closed': 934,\n 'Vistula': 935,\n 'product': 936,\n 'acts': 937,\n 'full': 938,\n 'stand': 939,\n 'individual': 940,\n 'buildings': 941,\n 'following': 942,\n 'received': 943,\n 'poor': 944,\n 'influence': 945,\n 'won': 946,\n 'death': 947,\n 'violence': 948,\n 'Louis': 949,\n 'Germanic': 950,\n 'Society': 951,\n 'south': 952,\n 'pump': 953,\n 'follow': 954,\n 'car': 955,\n 'cars': 956,\n 'Catholic': 957,\n 'men': 958,\n 'sort': 959,\n 'potential': 960,\n 'normal': 961,\n 'cost': 962,\n 'layers': 963,\n 'Muslims': 964,\n 'month': 965,\n 'avoid': 966,\n 'Baran': 967,\n 'having': 968,\n 'very': 969,\n 'fundamental': 970,\n 'middle': 971,\n 'infection': 972,\n 'rail': 973,\n 'activity': 974,\n 'effects': 975,\n 'structure': 976,\n 'profession': 977,\n 'Old': 978,\n 'L': 979,\n 'HD': 980,\n 'satellite': 981,\n 'Royal': 982,\n 'even': 983,\n 'policies': 984,\n 'receive': 985,\n 'reference': 986,\n 'experiment': 987,\n 'half': 988,\n 'funding': 989,\n 'port': 990,\n 'River': 991,\n 'recorded': 992,\n 'square': 993,\n 'condition': 994,\n 'prices': 995,\n 'content': 996,\n 'released': 997,\n 'needs': 998,\n 'Diego': 999,\n 'Company': 1000,\n ...}"
     },
     "execution_count": 23,
     "metadata": {},
     "output_type": "execute_result"
    }
   ],
   "source": [
    "qword2idx"
   ]
  },
  {
   "cell_type": "code",
   "execution_count": 24,
   "metadata": {},
   "outputs": [],
   "source": [
    "json.dump(qword2idx, open(\"/tf/data/squad/qword2idx.json\", \"w\"))"
   ]
  },
  {
   "cell_type": "code",
   "execution_count": 26,
   "metadata": {},
   "outputs": [
    {
     "data": {
      "text/plain": "[1, 2, 3, 4, 5, 6, 7, 8, 9]"
     },
     "execution_count": 26,
     "metadata": {},
     "output_type": "execute_result"
    }
   ],
   "source": [
    "df = tf.data.Dataset.from_tensor_slices([[1, 2, 3], [4, 5, 6], [7, 8, 9]])\n",
    "df = df.flat_map(lambda x: tf.data.Dataset.from_tensor_slices(x))\n",
    "list(df.as_numpy_iterator())"
   ]
  },
  {
   "cell_type": "code",
   "execution_count": 10,
   "metadata": {},
   "outputs": [
    {
     "data": {
      "text/plain": "[((1, array([1], dtype=int32)), 2),\n ((1, array([1, 2], dtype=int32)), 3),\n ((2, array([3], dtype=int32)), 4),\n ((2, array([3, 4], dtype=int32)), 5)]"
     },
     "execution_count": 10,
     "metadata": {},
     "output_type": "execute_result"
    }
   ],
   "source": [
    "dr = [[((1,[1]), 2), ((1,[1,2]), 3)], [((2,[3]), 4), ((2,[3,4]), 5)]]\n",
    "def gen():\n",
    "    for d in dr:\n",
    "        for di in d:\n",
    "            yield di\n",
    "df = tf.data.Dataset.from_generator(gen, ((tf.int32,tf.int32), tf.int32), ((tf.TensorShape([]), tf.TensorShape([None])), tf.TensorShape([])))\n",
    "# df = df.flat_map(lambda x: tf.data.Dataset.from_tensor_slices(x))\n",
    "list(df.as_numpy_iterator())"
   ]
  },
  {
   "cell_type": "code",
   "execution_count": 12,
   "metadata": {},
   "outputs": [
    {
     "data": {
      "text/plain": "<BatchDataset shapes: (((None,), (None, None)), (None,)), types: ((tf.int32, tf.int32), tf.int32)>"
     },
     "execution_count": 12,
     "metadata": {},
     "output_type": "execute_result"
    }
   ],
   "source": [
    "df.batch(32)"
   ]
  },
  {
   "cell_type": "code",
   "execution_count": 30,
   "metadata": {},
   "outputs": [
    {
     "data": {
      "text/plain": "<ZipDataset shapes: (((1,), (2,)), (3,)), types: ((tf.int32, tf.int32), tf.int32)>"
     },
     "execution_count": 30,
     "metadata": {},
     "output_type": "execute_result"
    }
   ],
   "source": [
    "dr1 = [[1],[4],[7]]\n",
    "dr12 = [[2,3], [5,6], [8,9]]\n",
    "dr2 = [[1,2,3], [4,5,6], [7,8,9]]\n",
    "df11 = tf.data.Dataset.from_tensor_slices(dr1)\n",
    "df12 = tf.data.Dataset.from_tensor_slices(dr12)\n",
    "df2 = tf.data.Dataset.from_tensor_slices(dr2)\n",
    "df1 = tf.data.Dataset.zip((df11, df12))\n",
    "df = tf.data.Dataset.zip((df1, df2))\n",
    "df"
   ]
  },
  {
   "cell_type": "code",
   "execution_count": 31,
   "metadata": {},
   "outputs": [
    {
     "data": {
      "text/plain": "[((array([1], dtype=int32), array([2, 3], dtype=int32)),\n  array([1, 2, 3], dtype=int32)),\n ((array([4], dtype=int32), array([5, 6], dtype=int32)),\n  array([4, 5, 6], dtype=int32)),\n ((array([7], dtype=int32), array([8, 9], dtype=int32)),\n  array([7, 8, 9], dtype=int32))]"
     },
     "execution_count": 31,
     "metadata": {},
     "output_type": "execute_result"
    }
   ],
   "source": [
    "list(df.as_numpy_iterator())"
   ]
  },
  {
   "cell_type": "code",
   "execution_count": 76,
   "metadata": {},
   "outputs": [],
   "source": [
    "def gen(d1, d2):\n",
    "    d11, d12 = d1\n",
    "    X1 = []\n",
    "    X2 = []\n",
    "    X3 = []\n",
    "    y = []\n",
    "    for i in range(1, d2.shape[0]):\n",
    "        X1.append(d11)\n",
    "        X2.append(d12)\n",
    "        X3.append(d2[:i])\n",
    "        y.append(d2[i])\n",
    "    X1 = tf.data.Dataset.from_tensor_slices(X1)\n",
    "    X2 = tf.data.Dataset.from_tensor_slices(X2)\n",
    "    x3 = tf.data.Dataset.from_tensors(X3[0])\n",
    "    for X3i in X3[1:]:\n",
    "        x3 = x3.concatenate(tf.data.Dataset.from_tensors(X3i))\n",
    "    # X3 = tf.data.Dataset.from_generator(lambda: X3, tf.int32, tf.TensorShape([None]))\n",
    "    y = tf.data.Dataset.from_tensor_slices(y)\n",
    "    X = tf.data.Dataset.zip((X1, X2))\n",
    "    X = tf.data.Dataset.zip((X, x3))\n",
    "    return tf.data.Dataset.zip((X, y))\n",
    "\n",
    "dfd = df.flat_map(gen)"
   ]
  },
  {
   "cell_type": "code",
   "execution_count": 77,
   "metadata": {},
   "outputs": [
    {
     "data": {
      "text/plain": "<MapDataset shapes: (((1,), (2,), (None,)), ()), types: ((tf.int32, tf.int32, tf.int32), tf.int32)>"
     },
     "execution_count": 77,
     "metadata": {},
     "output_type": "execute_result"
    }
   ],
   "source": [
    "def mapper(X, y):\n",
    "    X12, X3 = X\n",
    "    X1, X2 = X12\n",
    "    return ((X1, X2, X3), y)\n",
    "dfd = dfd.map(mapper)\n",
    "dfd"
   ]
  },
  {
   "cell_type": "code",
   "execution_count": 78,
   "metadata": {},
   "outputs": [
    {
     "data": {
      "text/plain": "[((array([1], dtype=int32),\n   array([2, 3], dtype=int32),\n   array([1], dtype=int32)),\n  2),\n ((array([1], dtype=int32),\n   array([2, 3], dtype=int32),\n   array([1, 2], dtype=int32)),\n  3),\n ((array([4], dtype=int32),\n   array([5, 6], dtype=int32),\n   array([4], dtype=int32)),\n  5),\n ((array([4], dtype=int32),\n   array([5, 6], dtype=int32),\n   array([4, 5], dtype=int32)),\n  6),\n ((array([7], dtype=int32),\n   array([8, 9], dtype=int32),\n   array([7], dtype=int32)),\n  8),\n ((array([7], dtype=int32),\n   array([8, 9], dtype=int32),\n   array([7, 8], dtype=int32)),\n  9)]"
     },
     "execution_count": 78,
     "metadata": {},
     "output_type": "execute_result"
    }
   ],
   "source": [
    "list(dfd.as_numpy_iterator())"
   ]
  },
  {
   "cell_type": "code",
   "execution_count": null,
   "metadata": {},
   "outputs": [],
   "source": []
  }
 ]
}