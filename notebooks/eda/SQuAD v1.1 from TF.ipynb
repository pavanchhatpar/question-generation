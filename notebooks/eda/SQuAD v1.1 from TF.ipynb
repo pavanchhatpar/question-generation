{
 "cells": [
  {
   "cell_type": "code",
   "execution_count": 1,
   "metadata": {},
   "outputs": [],
   "source": [
    "import tensorflow as tf\n",
    "import tensorflow_datasets as tfds\n",
    "from text_gan.data import Squad2"
   ]
  },
  {
   "cell_type": "code",
   "execution_count": 2,
   "metadata": {},
   "outputs": [
    {
     "data": {
      "text/plain": "{'answers': {'answer_start': array([], dtype=int32),\n  'text': array([], dtype=object)},\n 'context': b\"Zinc is included in most single tablet over-the-counter daily vitamin and mineral supplements. Preparations include zinc oxide, zinc acetate, and zinc gluconate. It is believed to possess antioxidant properties, which may protect against accelerated aging of the skin and muscles of the body; studies differ as to its effectiveness. Zinc also helps speed up the healing process after an injury. It is also suspected of being beneficial to the body's immune system. Indeed, zinc deficiency may have effects on virtually all parts of the human immune system.\",\n 'id': b'5acfc8c277cf76001a685f6e',\n 'question': b'What is the danger of zinc after injury?',\n 'title': b'Zinc'}"
     },
     "execution_count": 2,
     "metadata": {},
     "output_type": "execute_result"
    }
   ],
   "source": [
    "from tensorflow_datasets.core.download import DownloadConfig, add_checksums_dir\n",
    "\n",
    "# Setup checksum dir\n",
    "import os\n",
    "checksum_dir = \"/tf/data/checksums\"\n",
    "if not os.path.exists(checksum_dir):\n",
    "    os.makedirs(checksum_dir)\n",
    "open(os.path.join(checksum_dir, \"squad2.txt\"), \"a\").close()\n",
    "\n",
    "# don't check checksum but calculate and save it instead\n",
    "download_and_prepare_kwargs = {\n",
    "    'download_config': DownloadConfig(register_checksums=True)\n",
    "}\n",
    "\n",
    "# register new checksum_dir with tfds\n",
    "add_checksums_dir(checksum_dir)\n",
    "\n",
    "dataset = tfds.load('squad2', data_dir=\"/tf/data\", download_and_prepare_kwargs=download_and_prepare_kwargs)\n",
    "dnpy = tfds.as_numpy(dataset['train'])\n",
    "d = next(dnpy)\n",
    "d"
   ]
  },
  {
   "cell_type": "code",
   "execution_count": 3,
   "metadata": {},
   "outputs": [
    {
     "data": {
      "text/plain": "{'answers': {'answer_start': array([427], dtype=int32),\n  'text': array([b'mobile phones'], dtype=object)},\n 'context': b'The difference in the above factors for the case of \\xce\\xb8=0 is the reason that most broadcasting (transmissions intended for the public) uses vertical polarization. For receivers near the ground, horizontally polarized transmissions suffer cancellation. For best reception the receiving antennas for these signals are likewise vertically polarized. In some applications where the receiving antenna must work in any position, as in mobile phones, the base station antennas use mixed polarization, such as linear polarization at an angle (with both vertical and horizontal components) or circular polarization.',\n 'id': b'57306bf68ab72b1400f9c4dc',\n 'question': b'What is one use that would require an antenna to receive signals in various ways at once?',\n 'title': b'Antenna_(radio)'}"
     },
     "execution_count": 3,
     "metadata": {},
     "output_type": "execute_result"
    }
   ],
   "source": [
    "next(dnpy)"
   ]
  },
  {
   "cell_type": "code",
   "execution_count": 4,
   "metadata": {},
   "outputs": [],
   "source": [
    "dataset = tfds.load('squad', data_dir=\"/tf/data\")"
   ]
  },
  {
   "cell_type": "code",
   "execution_count": 5,
   "metadata": {},
   "outputs": [],
   "source": [
    "dnpy = tfds.as_numpy(dataset['train'])"
   ]
  },
  {
   "cell_type": "code",
   "execution_count": 6,
   "metadata": {},
   "outputs": [],
   "source": [
    "d = next(dnpy)"
   ]
  },
  {
   "cell_type": "code",
   "execution_count": 5,
   "metadata": {},
   "outputs": [
    {
     "data": {
      "text/plain": "{'answers': {'answer_start': array([427], dtype=int32),\n  'text': array([b'mobile phones'], dtype=object)},\n 'context': b'The difference in the above factors for the case of \\xce\\xb8=0 is the reason that most broadcasting (transmissions intended for the public) uses vertical polarization. For receivers near the ground, horizontally polarized transmissions suffer cancellation. For best reception the receiving antennas for these signals are likewise vertically polarized. In some applications where the receiving antenna must work in any position, as in mobile phones, the base station antennas use mixed polarization, such as linear polarization at an angle (with both vertical and horizontal components) or circular polarization.',\n 'id': b'57306bf68ab72b1400f9c4dc',\n 'question': b'What is one use that would require an antenna to receive signals in various ways at once?',\n 'title': b'Antenna_(radio)'}"
     },
     "execution_count": 5,
     "metadata": {},
     "output_type": "execute_result"
    }
   ],
   "source": [
    "d"
   ]
  }
 ],
 "metadata": {
  "kernelspec": {
   "display_name": "Python 3",
   "language": "python",
   "name": "python3"
  },
  "language_info": {
   "codemirror_mode": {
    "name": "ipython",
    "version": 3
   },
   "file_extension": ".py",
   "mimetype": "text/x-python",
   "name": "python",
   "nbconvert_exporter": "python",
   "pygments_lexer": "ipython3",
   "version": "3.6.9-final"
  }
 },
 "nbformat": 4,
 "nbformat_minor": 4
}