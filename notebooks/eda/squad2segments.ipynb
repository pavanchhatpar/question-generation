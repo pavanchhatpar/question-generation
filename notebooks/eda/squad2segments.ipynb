{
 "nbformat": 4,
 "nbformat_minor": 2,
 "metadata": {
  "language_info": {
   "name": "python",
   "codemirror_mode": {
    "name": "ipython",
    "version": 3
   },
   "version": "3.6.9-final"
  },
  "orig_nbformat": 2,
  "file_extension": ".py",
  "mimetype": "text/x-python",
  "name": "python",
  "npconvert_exporter": "python",
  "pygments_lexer": "ipython3",
  "version": 3,
  "kernelspec": {
   "name": "python3",
   "display_name": "Python 3"
  }
 },
 "cells": [
  {
   "cell_type": "code",
   "execution_count": 1,
   "metadata": {},
   "outputs": [],
   "source": [
    "import ujson as json\n",
    "import spacy\n",
    "from tqdm import tqdm\n",
    "import pprint\n",
    "\n",
    "pp = pprint.PrettyPrinter(indent=4)"
   ]
  },
  {
   "cell_type": "code",
   "execution_count": 2,
   "metadata": {},
   "outputs": [],
   "source": [
    "SQUAD_FILE = \"/tf/data/squad/dev-v2.0.json\"\n",
    "SEGMENTS_FILE = \"/tf/data/lexicon_rst_pdtb\""
   ]
  },
  {
   "cell_type": "code",
   "execution_count": 3,
   "metadata": {},
   "outputs": [],
   "source": [
    "nlp = spacy.load(\"en_core_web_sm\")\n",
    "def word_tokenize(sent):\n",
    "    doc = nlp(sent)\n",
    "    return [token.text for token in doc]"
   ]
  },
  {
   "cell_type": "code",
   "execution_count": 4,
   "metadata": {},
   "outputs": [
    {
     "name": "stderr",
     "output_type": "stream",
     "text": "100%|██████████| 16/16 [00:10<00:00,  1.52it/s]\n"
    }
   ],
   "source": [
    "contexts = []\n",
    "raw = []\n",
    "with open(SQUAD_FILE, \"r\") as fh:\n",
    "    source = json.load(fh)\n",
    "    for article in tqdm(source[\"data\"]):\n",
    "        for para in article[\"paragraphs\"]:\n",
    "            context = para[\"context\"].replace(\n",
    "                \"''\", '\" ').replace(\"``\", '\" ')\n",
    "            context_tokens = word_tokenize(context)\n",
    "            contexts.append(context_tokens)\n",
    "            raw.append(context)"
   ]
  },
  {
   "cell_type": "code",
   "execution_count": 5,
   "metadata": {},
   "outputs": [
    {
     "data": {
      "text/plain": "646"
     },
     "execution_count": 5,
     "metadata": {},
     "output_type": "execute_result"
    }
   ],
   "source": [
    "len(contexts)"
   ]
  },
  {
   "cell_type": "code",
   "execution_count": 6,
   "metadata": {},
   "outputs": [
    {
     "data": {
      "text/plain": "['The',\n 'Normans',\n '(',\n 'Norman',\n ':',\n 'Nourmands',\n ';',\n 'French',\n ':',\n 'Normands',\n ';',\n 'Latin',\n ':',\n 'Normanni',\n ')',\n 'were',\n 'the',\n 'people',\n 'who',\n 'in',\n 'the',\n '10th',\n 'and',\n '11th',\n 'centuries',\n 'gave',\n 'their',\n 'name',\n 'to',\n 'Normandy',\n ',',\n 'a',\n 'region',\n 'in',\n 'France',\n '.',\n 'They',\n 'were',\n 'descended',\n 'from',\n 'Norse',\n '(',\n '\"',\n 'Norman',\n '\"',\n 'comes',\n 'from',\n '\"',\n 'Norseman',\n '\"',\n ')',\n 'raiders',\n 'and',\n 'pirates',\n 'from',\n 'Denmark',\n ',',\n 'Iceland',\n 'and',\n 'Norway',\n 'who',\n ',',\n 'under',\n 'their',\n 'leader',\n 'Rollo',\n ',',\n 'agreed',\n 'to',\n 'swear',\n 'fealty',\n 'to',\n 'King',\n 'Charles',\n 'III',\n 'of',\n 'West',\n 'Francia',\n '.',\n 'Through',\n 'generations',\n 'of',\n 'assimilation',\n 'and',\n 'mixing',\n 'with',\n 'the',\n 'native',\n 'Frankish',\n 'and',\n 'Roman',\n '-',\n 'Gaulish',\n 'populations',\n ',',\n 'their',\n 'descendants',\n 'would',\n 'gradually',\n 'merge',\n 'with',\n 'the',\n 'Carolingian',\n '-',\n 'based',\n 'cultures',\n 'of',\n 'West',\n 'Francia',\n '.',\n 'The',\n 'distinct',\n 'cultural',\n 'and',\n 'ethnic',\n 'identity',\n 'of',\n 'the',\n 'Normans',\n 'emerged',\n 'initially',\n 'in',\n 'the',\n 'first',\n 'half',\n 'of',\n 'the',\n '10th',\n 'century',\n ',',\n 'and',\n 'it',\n 'continued',\n 'to',\n 'evolve',\n 'over',\n 'the',\n 'succeeding',\n 'centuries',\n '.']"
     },
     "execution_count": 6,
     "metadata": {},
     "output_type": "execute_result"
    }
   ],
   "source": [
    "contexts[0]"
   ]
  },
  {
   "cell_type": "code",
   "execution_count": 7,
   "metadata": {},
   "outputs": [
    {
     "data": {
      "text/plain": "'The Normans (Norman: Nourmands; French: Normands; Latin: Normanni) were the people who in the 10th and 11th centuries gave their name to Normandy, a region in France. They were descended from Norse (\"Norman\" comes from \"Norseman\") raiders and pirates from Denmark, Iceland and Norway who, under their leader Rollo, agreed to swear fealty to King Charles III of West Francia. Through generations of assimilation and mixing with the native Frankish and Roman-Gaulish populations, their descendants would gradually merge with the Carolingian-based cultures of West Francia. The distinct cultural and ethnic identity of the Normans emerged initially in the first half of the 10th century, and it continued to evolve over the succeeding centuries.'"
     },
     "execution_count": 7,
     "metadata": {},
     "output_type": "execute_result"
    }
   ],
   "source": [
    "raw[0]"
   ]
  },
  {
   "cell_type": "code",
   "execution_count": 8,
   "metadata": {},
   "outputs": [
    {
     "name": "stdout",
     "output_type": "stream",
     "text": "-> The Normans (Norman: Nourmands; French: Normands; Latin: Normanni) were the people who in the 10th and 11th centuries gave their name to Normandy, a region in France.\n-> They were descended from Norse (\"Norman\" comes from \"Norseman\") raiders and pirates from Denmark, Iceland and Norway who, under their leader Rollo, agreed to swear fealty to King Charles III of West Francia.\n-> Through generations of assimilation and mixing with the native Frankish and Roman-Gaulish populations, their descendants would gradually merge with the Carolingian-based cultures of West Francia.\n-> The distinct cultural and ethnic identity of the Normans emerged initially in the first half of the 10th century, and it continued to evolve over the succeeding centuries.\n"
    }
   ],
   "source": [
    "doc=nlp(raw[0])\n",
    "for sent in doc.sents:\n",
    "    print(\"->\", sent.text)"
   ]
  },
  {
   "cell_type": "code",
   "execution_count": 9,
   "metadata": {},
   "outputs": [],
   "source": [
    "class Node:\n",
    "    def __init__(self):\n",
    "        self.end = False\n",
    "        self.tokens = {}\n",
    "    \n",
    "    def __repr__(self):\n",
    "        return pp.pformat(self.tokens)\n",
    "\n",
    "    def __str__(self):\n",
    "        return pp.pformat(self.tokens)"
   ]
  },
  {
   "cell_type": "code",
   "execution_count": 10,
   "metadata": {},
   "outputs": [],
   "source": [
    "def list2gen(mylist):\n",
    "    for el in mylist:\n",
    "        yield el"
   ]
  },
  {
   "cell_type": "code",
   "execution_count": 11,
   "metadata": {},
   "outputs": [
    {
     "name": "stdout",
     "output_type": "stream",
     "text": "{   ',': {},\n    'I': {'mean': {}},\n    'above': {'all': {}},\n    'accordingly': {},\n    'actually': {},\n    'add': {'to': {'this': {}}},\n    'additionally': {},\n    'admittedly': {},\n    'after': {'a': {'time': {}}, 'all': {}, 'that': {}, 'this': {}},\n    'afterwards': {},\n    'again': {'and': {'again': {}}},\n    'all': {'in': {'all': {}}, 'right': {}, 'the': {'same': {}}, 'this': {'time': {}}},\n    'already': {},\n    'also': {'because': {}},\n    'alternatively': {},\n    'although': {},\n    'analogously': {},\n    'and': {'again': {}, 'also': {}, 'another': {}, 'then': {}},\n    'another': {'time': {}},\n    'anyhow': {},\n    'anyway': {},\n    'apart': {'from': {}},\n    'arguably': {},\n    'as': {   'a': {   'consequence': {},\n    'corollary': {},\n    'logical': {'conclusion': {}},\n    'matter': {'of': {'fact': {}}},\n    'result': {}},\n    'against': {},\n    'evidence': {},\n    'far': {'as': {}},\n    'for': {},\n    'if': {},\n    'it': {'happened': {}, 'is': {}, 'turned': {'out': {}}},\n    'long': {'as': {}},\n    'soon': {'as': {}},\n    'such': {},\n    'though': {},\n    'to': {},\n    'we': {'shall': {}, 'will': {}},\n    'well': {}},\n    'aside': {'from': {}},\n    'at': {   'any': {'rate': {}},\n    'first': {},\n    'last': {},\n    'least': {},\n    'once': {},\n    'that': {'moment': {}, 'time': {}},\n    'the': {'moment': {}, 'outset': {}, 'same': {'time': {}}},\n    'this': {'date': {}, 'moment': {}, 'point': {}, 'stage': {}},\n    'which': {}},\n    'back': {},\n    'because': {'of': {'this': {}}},\n    'before': {'long': {}, 'that': {}, 'then': {}},\n    'besides': {'that': {}},\n    'briey': {},\n    'but': {'also': {}, 'then': {'again': {}}},\n    'by': {   'all': {'means': {}},\n    'and': {'large': {}},\n    'comparison': {},\n    'contrast': {},\n    'that': {'time': {}},\n    'the': {'same': {}, 'time': {}, 'way': {}},\n    'then': {}},\n    'certainly': {},\n    'clearly': {},\n    'conceivably': {},\n    'consequently': {},\n    'considering': {},\n    'contrariwise': {},\n    'conversely': {},\n    'correspondingly': {},\n    'decidedly': {},\n    'definitely': {},\n    'despite': {'this': {}},\n    'doubtless': {},\n    'each': {'time': {}},\n    'earlier': {},\n    'either': {'case': {}, 'event': {}, 'way': {}},\n    'else': {},\n    'elsewhere': {},\n    'equally': {},\n    'especially': {},\n    'essentially': {},\n    'even': {   'after': {},\n    'before': {},\n    'if': {},\n    'so': {},\n    'then': {},\n    'though': {},\n    'when': {}},\n    'eventually': {},\n    'ever': {'since': {}},\n    'every': {'time': {}},\n    'everywhere': {},\n    'evidently': {},\n    'except': {'that': {}, 'when': {}},\n    'excuse': {'me': {}},\n    'finally': {},\n    'fine': {},\n    'first': {'of': {'all': {}}},\n    'following': {},\n    'for': {   'example': {},\n    'fear': {'that': {}},\n    'instance': {},\n    'one': {},\n    'that': {'matter': {}, 'reason': {}},\n    'this': {'reason': {}}},\n    'formerly': {},\n    'fortunately': {},\n    'from': {'now': {'on': {}}, 'then': {'on': {}}},\n    'further': {},\n    'furthermore': {},\n    'given': {'that': {}},\n    'having': {'said': {}},\n    'hence': {},\n    'here': {},\n    'heretofore': {},\n    'hitherto': {},\n    'however': {'that': {'may': {'be': {}}}},\n    'if': {'ever': {}, 'not': {}, 'only': {}, 'so': {}},\n    'in': {   'addition': {},\n    'any': {'case': {}},\n    'case': {},\n    'comparison': {},\n    'conclusion': {},\n    'consequence': {},\n    'contrast': {},\n    'doing': {'so': {}},\n    'fact': {},\n    'general': {},\n    'order': {'to': {}},\n    'other': {'respects': {}, 'words': {}},\n    'particular': {},\n    'place': {'of': {}},\n    'point': {'of': {'fact': {}}},\n    'short': {},\n    'so': {'doing': {}},\n    'spite': {'of': {}},\n    'such': {'a': {}, 'an': {}},\n    'sum': {},\n    'that': {'case': {}},\n    'the': {   'beginning': {},\n    'case': {'of': {}},\n    'end': {},\n    'event': {},\n    'first': {'place': {}},\n    'hope': {'that': {}},\n    'meantime': {},\n    'same': {'way': {}}},\n    'this': {'case': {}, 'connection': {}, 'respect': {}, 'way': {}},\n    'truth': {},\n    'turn': {},\n    'which': {'case': {}}},\n    'incidentally': {},\n    'including': {},\n    'incontestably': {},\n    'incontroversialy': {},\n    'indeed': {},\n    'indisputably': {},\n    'indubitably': {},\n    'initially': {},\n    'insofar': {},\n    'instantly': {},\n    'instead': {'of': {}},\n    'it': {   'can': {'be': {'concluded': {'that': {}}}},\n    'follows': {},\n    'is': {'because': {}, 'only': {}},\n    'may': {'seem': {'that': {}}},\n    'stands': {'to': {'reason': {'that': {}}}}},\n    'just': {'as': {}, 'before': {}, 'then': {}},\n    'largely': {},\n    'last': {},\n    'lastly': {},\n    'later': {},\n    'lest': {},\n    'let': {'us': {'assume': {}, 'consider': {}}},\n    'like': {},\n    'likewise': {},\n    'luckily': {},\n    'mainly': {},\n    'meanwhile': {},\n    'merely': {'because': {}},\n    'more': {   'accurately': {},\n    'importantly': {},\n    'precisely': {},\n    'specifically': {},\n    'to': {'the': {'point': {}}}},\n    'moreover': {},\n    'most': {'likely': {}},\n    'much': {'as': {}, 'later': {}},\n    'naturally': {},\n    'needless': {},\n    'neither': {},\n    'never': {'again': {}},\n    'nevertheless': {},\n    'next': {'moment': {}, 'time': {}},\n    'no': {'doubt': {}, 'matter': {}},\n    'nonetheless': {},\n    'nor': {},\n    'not': {'because': {}, 'only': {}, 'that': {}},\n    'notably': {},\n    'notwithstanding': {},\n    'now': {'that': {}},\n    'obviously': {},\n    'of': {'course': {}},\n    'okay': {},\n    'on': {   'account': {'of': {}},\n    'another': {},\n    'balance': {},\n    'condition': {},\n    'one': {'side': {}},\n    'the': {   'assumption': {},\n    'bases': {},\n    'basis': {},\n    'contrary': {},\n    'grounds': {},\n    'one': {'hand': {}},\n    'other': {'hand': {}, 'side': {}}},\n    'this': {'basis': {}},\n    'top': {'of': {'it': {}}},\n    'which': {}},\n    'once': {'again': {}, 'more': {}},\n    'only': {'after': {}, 'because': {}, 'if': {}, 'when': {}},\n    'oops': {},\n    'or': {'again': {}, 'else': {}},\n    'originally': {},\n    'other': {'than': {}},\n    'otherwise': {},\n    'overall': {},\n    'parenthetically': {},\n    'particularly': {'when': {}},\n    'perhaps': {},\n    'plainly': {},\n    'possibly': {},\n    'presently': {},\n    'presumably': {},\n    'previously': {},\n    'provided': {'that': {}},\n    'providing': {'that': {}},\n    'put': {'another': {'way': {}}},\n    'quite': {'likely': {}},\n    'rather': {},\n    'regardless': {},\n    'returning': {'to': {}},\n    'second': {},\n    'secondly': {},\n    'seemingly': {},\n    'similarly': {},\n    'simply': {'because': {}},\n    'simultaneously': {},\n    'since': {},\n    'so': {'far': {}, 'that': {}},\n    'some': {'time': {}},\n    'soon': {},\n    'speaking': {'of': {}},\n    'specifically': {},\n    'still': {},\n    'subsequently': {},\n    'such': {'as': {}, 'that': {}},\n    'suddenly': {},\n    'summarizing': {},\n    'summing': {'up': {}},\n    'suppose': {'that': {}},\n    'supposedly': {},\n    'sure': {'enough': {}},\n    'surely': {},\n    'that': {   'done': {},\n    'is': {'all': {}, 'how': {}, 'to': {'say': {}}, 'why': {}},\n    'reminds': {'me': {}},\n    'way': {}},\n    'the': {   'end': {},\n    'fact': {'is': {}},\n    'first': {'time': {}},\n    'last': {'time': {}},\n    'latter': {},\n    'moment': {},\n    'more': {},\n    'next': {'time': {}},\n    'thing': {'is': {}}},\n    'then': {'again': {}},\n    'thereafter': {},\n    'thereby': {},\n    'therefore': {},\n    'thereupon': {},\n    'third': {},\n    'this': {'means': {}, 'time': {}},\n    'though': {},\n    'thus': {'far': {}},\n    'to': {   'add': {},\n    'be': {'sure': {}},\n    'begin': {'with': {}},\n    'clarify': {},\n    'close': {},\n    'comment': {},\n    'conclude': {},\n    'explain': {},\n    'get': {'back': {}},\n    'illustrate': {},\n    'interrupt': {},\n    'note': {},\n    'open': {},\n    'repeat': {},\n    'start': {'with': {}},\n    'stop': {},\n    'sum': {'up': {}},\n    'summarize': {},\n    'the': {'degree': {'that': {}}, 'extent': {}},\n    'this': {'end': {}},\n    'wit': {}},\n    'too': {},\n    'true': {},\n    'ultimately': {},\n    'undeniably': {},\n    'under': {'the': {'circumstances': {}}, 'these': {'circumstances': {}}},\n    'undoubtedly': {},\n    'unfortunately': {},\n    'unless': {},\n    'unquestionably': {},\n    'until': {'then': {}},\n    'up': {'to': {'now': {}, 'this': {}}},\n    'very': {'likely': {}},\n    'well': {},\n    'what': {'is': {'more': {}}},\n    'whatever': {},\n    'when': {},\n    'whenever': {},\n    'where': {},\n    'whereas': {},\n    'whereby': {},\n    'wherein': {},\n    'whereupon': {},\n    'wherever': {},\n    'whether': {'or': {'not': {}}},\n    'which': {'is': {'why': {}}, 'means': {}},\n    'whichever': {},\n    'while': {},\n    'who': {},\n    'whoever': {},\n    'with': {'regard': {'to': {}}, 'respect': {'to': {}}, 'that': {}, 'this': {}},\n    'without': {},\n    'yet': {},\n    'you': {'know': {}}}\n"
    }
   ],
   "source": [
    "discourse_words_tree = Node()\n",
    "with open(SEGMENTS_FILE, \"r\") as f:\n",
    "    for dis_word in f.readlines():\n",
    "        dis_word = dis_word.strip()\n",
    "        curr_node = discourse_words_tree\n",
    "        tokens = word_tokenize(dis_word)\n",
    "        for i, token in enumerate(tokens):\n",
    "            move = False\n",
    "            if token not in curr_node.tokens:\n",
    "                curr_node.tokens[token] = Node()\n",
    "            curr_node = curr_node.tokens[token]\n",
    "            if i == len(tokens) - 1:\n",
    "                curr_node.end = True\n",
    "\n",
    "pp.pprint(discourse_words_tree)"
   ]
  },
  {
   "cell_type": "code",
   "execution_count": 12,
   "metadata": {},
   "outputs": [],
   "source": [
    "def matchFound(context, i):\n",
    "    curr_node = discourse_words_tree\n",
    "    traversed = []\n",
    "    for j, token in enumerate(context[i:]):\n",
    "        traversed.append(token)\n",
    "        if curr_node.end:\n",
    "            return traversed, True\n",
    "        if token not in curr_node.tokens:\n",
    "            return traversed, False\n",
    "        curr_node = curr_node.tokens[token]\n"
   ]
  },
  {
   "cell_type": "code",
   "execution_count": 13,
   "metadata": {},
   "outputs": [],
   "source": [
    "def segmentsFromDiscourseWords(context):\n",
    "    curr_node = discourse_words_tree\n",
    "    segment = []\n",
    "    i = 0\n",
    "    while i < len(context):\n",
    "        traversed, found = matchFound(context, i)\n",
    "        if len(segment) != 0 and found:\n",
    "            yield segment\n",
    "            segment = []\n",
    "        segment.extend(traversed)\n",
    "        i += len(traversed)\n",
    "    yield segment"
   ]
  },
  {
   "cell_type": "markdown",
   "metadata": {},
   "source": [
    "## Segmenting strategy 1\n",
    "Split the context at occurences of discourse words"
   ]
  },
  {
   "cell_type": "code",
   "execution_count": 14,
   "metadata": {},
   "outputs": [
    {
     "name": "stdout",
     "output_type": "stream",
     "text": "-> The Normans ( Norman : Nourmands ; French : Normands ; Latin : Normanni ) were the people\n-> who in the 10th\n-> and 11th centuries gave their name\n-> to Normandy\n-> , a region in France . They were descended from Norse ( \" Norman \" comes from \" Norseman \" ) raiders\n-> and pirates from Denmark\n-> , Iceland\n-> and Norway\n-> who , under their leader Rollo\n-> , agreed\n-> to swear fealty\n-> to King Charles III\n-> of West Francia . Through generations\n-> of assimilation\n-> and mixing with the native Frankish\n-> and Roman - Gaulish populations\n-> , their descendants would gradually merge with the Carolingian - based cultures\n-> of West Francia . The distinct cultural\n-> and ethnic identity\n-> of the Normans emerged\n-> initially in the first half\n-> of the 10th century\n-> , and it continued\n-> to evolve over the succeeding centuries .\n"
    }
   ],
   "source": [
    "segs = segmentsFromDiscourseWords(contexts[0])\n",
    "for seg in segs:\n",
    "    print(\"->\", \" \".join(seg))"
   ]
  },
  {
   "cell_type": "code",
   "execution_count": 15,
   "metadata": {},
   "outputs": [],
   "source": [
    "def segmentsFromNPPair(context):\n",
    "    for chunk in nlp(context).noun_chunks:\n",
    "        if len(word_tokenize(chunk.text)) == 1 and nlp(chunk.text)[0].tag_ not in (\"NNP\", \"NNPS\"):\n",
    "            continue\n",
    "        yield chunk.text"
   ]
  },
  {
   "cell_type": "markdown",
   "metadata": {},
   "source": [
    "## Segmenting strategy 2\n",
    " - Find noun-phrase pairs\n",
    " - Not literally segmenting as only parts of the context are selected"
   ]
  },
  {
   "cell_type": "code",
   "execution_count": 16,
   "metadata": {},
   "outputs": [
    {
     "name": "stdout",
     "output_type": "stream",
     "text": "-> The Normans\n-> Norman\n-> Nourmands\n-> French\n-> Latin\n-> Normanni\n-> the people\n-> the 10th and 11th centuries\n-> their name\n-> Normandy\n-> a region\n-> France\n-> Norman\n-> Norseman\") raiders\n-> Denmark\n-> Iceland\n-> Norway\n-> their leader Rollo\n-> King Charles III\n-> West Francia\n-> the native Frankish and Roman-Gaulish populations\n-> their descendants\n-> the Carolingian-based cultures\n-> West Francia\n-> The distinct cultural and ethnic identity\n-> the Normans\n-> the first half\n-> the 10th century\n-> the succeeding centuries\n"
    }
   ],
   "source": [
    "segs = segmentsFromNPPair(raw[0])\n",
    "for seg in segs:\n",
    "    print(\"->\", seg)"
   ]
  },
  {
   "cell_type": "code",
   "execution_count": null,
   "metadata": {},
   "outputs": [],
   "source": []
  }
 ]
}