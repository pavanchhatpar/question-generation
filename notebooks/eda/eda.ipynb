{
 "cells": [
  {
   "cell_type": "code",
   "execution_count": 1,
   "metadata": {},
   "outputs": [],
   "source": [
    "import os\n",
    "os.chdir(\"/tf/src\")"
   ]
  },
  {
   "cell_type": "code",
   "execution_count": 2,
   "metadata": {
    "tags": [
     "outputPrepend",
     "outputPrepend",
     "outputPrepend",
     "outputPrepend",
     "outputPrepend",
     "outputPrepend",
     "outputPrepend",
     "outputPrepend",
     "outputPrepend",
     "outputPrepend",
     "outputPrepend",
     "outputPrepend",
     "outputPrepend",
     "outputPrepend",
     "outputPrepend",
     "outputPrepend",
     "outputPrepend",
     "outputPrepend",
     "outputPrepend",
     "outputPrepend",
     "outputPrepend",
     "outputPrepend",
     "outputPrepend",
     "outputPrepend",
     "outputPrepend",
     "outputPrepend",
     "outputPrepend",
     "outputPrepend",
     "outputPrepend",
     "outputPrepend",
     "outputPrepend",
     "outputPrepend",
     "outputPrepend",
     "outputPrepend",
     "outputPrepend",
     "outputPrepend",
     "outputPrepend",
     "outputPrepend",
     "outputPrepend",
     "outputPrepend",
     "outputPrepend",
     "outputPrepend",
     "outputPrepend",
     "outputPrepend",
     "outputPrepend",
     "outputPrepend"
    ]
   },
   "outputs": [
    {
     "output_type": "stream",
     "name": "stdout",
     "text": "020-05-03 08:21:57.853846: I tensorflow/core/platform/cpu_feature_guard.cc:142] Your CPU supports instructions that this TensorFlow binary was not compiled to use: AVX2 FMA\n2020-05-03 08:21:57.887224: I tensorflow/core/platform/profile_utils/cpu_utils.cc:94] CPU Frequency: 2592000000 Hz\n2020-05-03 08:21:57.889318: I tensorflow/compiler/xla/service/service.cc:168] XLA service 0x5f3d890 initialized for platform Host (this does not guarantee that XLA will be used). Devices:\n2020-05-03 08:21:57.889395: I tensorflow/compiler/xla/service/service.cc:176]   StreamExecutor device (0): Host, Default Version\n2020-05-03 08:21:57.999046: I tensorflow/stream_executor/cuda/cuda_gpu_executor.cc:981] successful NUMA node read from SysFS had negative value (-1), but there must be at least one NUMA node, so returning NUMA node zero\n2020-05-03 08:21:57.999401: I tensorflow/compiler/xla/service/service.cc:168] XLA service 0x5cf23b0 initialized for platform CUDA (this does not guarantee that XLA will be used). Devices:\n2020-05-03 08:21:57.999415: I tensorflow/compiler/xla/service/service.cc:176]   StreamExecutor device (0): Quadro T1000, Compute Capability 7.5\n2020-05-03 08:21:57.999752: I tensorflow/stream_executor/cuda/cuda_gpu_executor.cc:981] successful NUMA node read from SysFS had negative value (-1), but there must be at least one NUMA node, so returning NUMA node zero\n2020-05-03 08:21:57.999998: I tensorflow/core/common_runtime/gpu/gpu_device.cc:1555] Found device 0 with properties: \npciBusID: 0000:01:00.0 name: Quadro T1000 computeCapability: 7.5\ncoreClock: 1.725GHz coreCount: 14 deviceMemorySize: 3.82GiB deviceMemoryBandwidth: 119.24GiB/s\n2020-05-03 08:21:58.000019: I tensorflow/stream_executor/platform/default/dso_loader.cc:44] Successfully opened dynamic library libcudart.so.10.1\n2020-05-03 08:21:58.000027: I tensorflow/stream_executor/platform/default/dso_loader.cc:44] Successfully opened dynamic library libcublas.so.10\n2020-05-03 08:21:58.000041: I tensorflow/stream_executor/platform/default/dso_loader.cc:44] Successfully opened dynamic library libcufft.so.10\n2020-05-03 08:21:58.000052: I tensorflow/stream_executor/platform/default/dso_loader.cc:44] Successfully opened dynamic library libcurand.so.10\n2020-05-03 08:21:58.000063: I tensorflow/stream_executor/platform/default/dso_loader.cc:44] Successfully opened dynamic library libcusolver.so.10\n2020-05-03 08:21:58.000072: I tensorflow/stream_executor/platform/default/dso_loader.cc:44] Successfully opened dynamic library libcusparse.so.10\n2020-05-03 08:21:58.000080: I tensorflow/stream_executor/platform/default/dso_loader.cc:44] Successfully opened dynamic library libcudnn.so.7\n2020-05-03 08:21:58.000120: I tensorflow/stream_executor/cuda/cuda_gpu_executor.cc:981] successful NUMA node read from SysFS had negative value (-1), but there must be at least one NUMA node, so returning NUMA node zero\n2020-05-03 08:21:58.000378: I tensorflow/stream_executor/cuda/cuda_gpu_executor.cc:981] successful NUMA node read from SysFS had negative value (-1), but there must be at least one NUMA node, so returning NUMA node zero\n2020-05-03 08:21:58.000605: I tensorflow/core/common_runtime/gpu/gpu_device.cc:1697] Adding visible gpu devices: 0\n2020-05-03 08:21:58.000828: I tensorflow/stream_executor/platform/default/dso_loader.cc:44] Successfully opened dynamic library libcudart.so.10.1\n2020-05-03 08:21:58.328208: I tensorflow/core/common_runtime/gpu/gpu_device.cc:1096] Device interconnect StreamExecutor with strength 1 edge matrix:\n2020-05-03 08:21:58.328255: I tensorflow/core/common_runtime/gpu/gpu_device.cc:1102]      0 \n2020-05-03 08:21:58.328263: I tensorflow/core/common_runtime/gpu/gpu_device.cc:1115] 0:   N \n2020-05-03 08:21:58.328657: I tensorflow/stream_executor/cuda/cuda_gpu_executor.cc:981] successful NUMA node read from SysFS had negative value (-1), but there must be at least one NUMA node, so returning NUMA node zero\n2020-05-03 08:21:58.328999: I tensorflow/stream_executor/cuda/cuda_gpu_executor.cc:981] successful NUMA node read from SysFS had negative value (-1), but there must be at least one NUMA node, so returning NUMA node zero\n2020-05-03 08:21:58.329494: I tensorflow/core/common_runtime/gpu/gpu_device.cc:1241] Created TensorFlow device (/job:localhost/replica:0/task:0/device:GPU:0 with 3241 MB memory) -> physical GPU (device: 0, name: Quadro T1000, pci bus id: 0000:01:00.0, compute capability: 7.5)\n2020-05-03 08:21:58,369 - text_gan.data.squad1_ca_qc - INFO - ****Prepare test set****\n2020-05-03 08:22:01.109902: I tensorflow/stream_executor/platform/default/dso_loader.cc:44] Successfully opened dynamic library libnvinfer.so.6\n2020-05-03 08:22:01.111079: I tensorflow/stream_executor/platform/default/dso_loader.cc:44] Successfully opened dynamic library libnvinfer_plugin.so.6\n2020-05-03 08:22:05.621134: I tensorflow/stream_executor/platform/default/dso_loader.cc:44] Successfully opened dynamic library libnvinfer.so.6\n2020-05-03 08:22:05.622323: I tensorflow/stream_executor/platform/default/dso_loader.cc:44] Successfully opened dynamic library libnvinfer_plugin.so.6\n2020-05-03 08:22:10.132382: I tensorflow/stream_executor/platform/default/dso_loader.cc:44] Successfully opened dynamic library libnvinfer.so.6\n2020-05-03 08:22:10.133575: I tensorflow/stream_executor/platform/default/dso_loader.cc:44] Successfully opened dynamic library libnvinfer_plugin.so.6\n2020-05-03 08:22:14.712961: I tensorflow/stream_executor/platform/default/dso_loader.cc:44] Successfully opened dynamic library libnvinfer.so.6\n2020-05-03 08:22:14.714008: I tensorflow/stream_executor/platform/default/dso_loader.cc:44] Successfully opened dynamic library libnvinfer_plugin.so.6\n2020-05-03 08:22:19.287973: I tensorflow/stream_executor/platform/default/dso_loader.cc:44] Successfully opened dynamic library libnvinfer.so.6\n2020-05-03 08:22:19.289040: I tensorflow/stream_executor/platform/default/dso_loader.cc:44] Successfully opened dynamic library libnvinfer_plugin.so.6\n2020-05-03 08:22:23.820077: I tensorflow/stream_executor/platform/default/dso_loader.cc:44] Successfully opened dynamic library libnvinfer.so.6\n2020-05-03 08:22:23.821133: I tensorflow/stream_executor/platform/default/dso_loader.cc:44] Successfully opened dynamic library libnvinfer_plugin.so.6\n2020-05-03 08:22:28.334354: I tensorflow/stream_executor/platform/default/dso_loader.cc:44] Successfully opened dynamic library libnvinfer.so.6\n2020-05-03 08:22:28.335455: I tensorflow/stream_executor/platform/default/dso_loader.cc:44] Successfully opened dynamic library libnvinfer_plugin.so.6\n2020-05-03 08:22:32.880199: I tensorflow/stream_executor/platform/default/dso_loader.cc:44] Successfully opened dynamic library libnvinfer.so.6\n2020-05-03 08:22:32.881368: I tensorflow/stream_executor/platform/default/dso_loader.cc:44] Successfully opened dynamic library libnvinfer_plugin.so.6\n2020-05-03 08:22:37.401741: I tensorflow/stream_executor/platform/default/dso_loader.cc:44] Successfully opened dynamic library libnvinfer.so.6\n2020-05-03 08:22:37.402822: I tensorflow/stream_executor/platform/default/dso_loader.cc:44] Successfully opened dynamic library libnvinfer_plugin.so.6\n2020-05-03 08:22:41.935411: I tensorflow/stream_executor/platform/default/dso_loader.cc:44] Successfully opened dynamic library libnvinfer.so.6\n2020-05-03 08:22:41.936440: I tensorflow/stream_executor/platform/default/dso_loader.cc:44] Successfully opened dynamic library libnvinfer_plugin.so.6\n2020-05-03 08:22:46.597589: I tensorflow/stream_executor/platform/default/dso_loader.cc:44] Successfully opened dynamic library libnvinfer.so.6\n2020-05-03 08:22:46.598777: I tensorflow/stream_executor/platform/default/dso_loader.cc:44] Successfully opened dynamic library libnvinfer_plugin.so.6\n2020-05-03 08:22:51.170696: I tensorflow/stream_executor/platform/default/dso_loader.cc:44] Successfully opened dynamic library libnvinfer.so.6\n2020-05-03 08:22:51.171893: I tensorflow/stream_executor/platform/default/dso_loader.cc:44] Successfully opened dynamic library libnvinfer_plugin.so.6\n2020-05-03 08:22:55.819520: I tensorflow/stream_executor/platform/default/dso_loader.cc:44] Successfully opened dynamic library libnvinfer.so.6\n2020-05-03 08:22:55.820702: I tensorflow/stream_executor/platform/default/dso_loader.cc:44] Successfully opened dynamic library libnvinfer_plugin.so.6\n2020-05-03 08:23:00.412888: I tensorflow/stream_executor/platform/default/dso_loader.cc:44] Successfully opened dynamic library libnvinfer.so.6\n2020-05-03 08:23:00.413950: I tensorflow/stream_executor/platform/default/dso_loader.cc:44] Successfully opened dynamic library libnvinfer_plugin.so.6\n2020-05-03 08:23:05.014910: I tensorflow/stream_executor/platform/default/dso_loader.cc:44] Successfully opened dynamic library libnvinfer.so.6\n2020-05-03 08:23:05.015938: I tensorflow/stream_executor/platform/default/dso_loader.cc:44] Successfully opened dynamic library libnvinfer_plugin.so.6\n2020-05-03 08:23:09.659576: I tensorflow/stream_executor/platform/default/dso_loader.cc:44] Successfully opened dynamic library libnvinfer.so.6\n2020-05-03 08:23:09.660756: I tensorflow/stream_executor/platform/default/dso_loader.cc:44] Successfully opened dynamic library libnvinfer_plugin.so.6\n2020-05-03 08:23:14.373305: I tensorflow/stream_executor/platform/default/dso_loader.cc:44] Successfully opened dynamic library libnvinfer.so.6\n2020-05-03 08:23:14.375451: I tensorflow/stream_executor/platform/default/dso_loader.cc:44] Successfully opened dynamic library libnvinfer_plugin.so.6\n2020-05-03 08:23:19.098324: I tensorflow/stream_executor/platform/default/dso_loader.cc:44] Successfully opened dynamic library libnvinfer.so.6\n2020-05-03 08:23:19.099496: I tensorflow/stream_executor/platform/default/dso_loader.cc:44] Successfully opened dynamic library libnvinfer_plugin.so.6\n2020-05-03 08:23:23.716236: I tensorflow/stream_executor/platform/default/dso_loader.cc:44] Successfully opened dynamic library libnvinfer.so.6\n2020-05-03 08:23:23.717288: I tensorflow/stream_executor/platform/default/dso_loader.cc:44] Successfully opened dynamic library libnvinfer_plugin.so.6\n2020-05-03 08:23:28.382539: I tensorflow/stream_executor/platform/default/dso_loader.cc:44] Successfully opened dynamic library libnvinfer.so.6\n2020-05-03 08:23:28.383744: I tensorflow/stream_executor/platform/default/dso_loader.cc:44] Successfully opened dynamic library libnvinfer_plugin.so.6\n2020-05-03 08:23:32.992764: I tensorflow/stream_executor/platform/default/dso_loader.cc:44] Successfully opened dynamic library libnvinfer.so.6\n2020-05-03 08:23:32.993790: I tensorflow/stream_executor/platform/default/dso_loader.cc:44] Successfully opened dynamic library libnvinfer_plugin.so.6\n2020-05-03 08:23:37.562617: I tensorflow/stream_executor/platform/default/dso_loader.cc:44] Successfully opened dynamic library libnvinfer.so.6\n2020-05-03 08:23:37.563719: I tensorflow/stream_executor/platform/default/dso_loader.cc:44] Successfully opened dynamic library libnvinfer_plugin.so.6\n2020-05-03 08:23:42.143268: I tensorflow/stream_executor/platform/default/dso_loader.cc:44] Successfully opened dynamic library libnvinfer.so.6\n2020-05-03 08:23:42.144433: I tensorflow/stream_executor/platform/default/dso_loader.cc:44] Successfully opened dynamic library libnvinfer_plugin.so.6\n2020-05-03 08:23:46.747034: I tensorflow/stream_executor/platform/default/dso_loader.cc:44] Successfully opened dynamic library libnvinfer.so.6\n2020-05-03 08:23:46.748205: I tensorflow/stream_executor/platform/default/dso_loader.cc:44] Successfully opened dynamic library libnvinfer_plugin.so.6\n2020-05-03 08:23:51.334426: I tensorflow/stream_executor/platform/default/dso_loader.cc:44] Successfully opened dynamic library libnvinfer.so.6\n2020-05-03 08:23:51.335601: I tensorflow/stream_executor/platform/default/dso_loader.cc:44] Successfully opened dynamic library libnvinfer_plugin.so.6\n2020-05-03 08:23:55.925341: I tensorflow/stream_executor/platform/default/dso_loader.cc:44] Successfully opened dynamic library libnvinfer.so.6\n2020-05-03 08:23:55.926539: I tensorflow/stream_executor/platform/default/dso_loader.cc:44] Successfully opened dynamic library libnvinfer_plugin.so.6\n2020-05-03 08:24:00.488508: I tensorflow/stream_executor/platform/default/dso_loader.cc:44] Successfully opened dynamic library libnvinfer.so.6\n2020-05-03 08:24:00.489537: I tensorflow/stream_executor/platform/default/dso_loader.cc:44] Successfully opened dynamic library libnvinfer_plugin.so.6\n2020-05-03 08:24:05.735391: I tensorflow/stream_executor/platform/default/dso_loader.cc:44] Successfully opened dynamic library libnvinfer.so.6\n2020-05-03 08:24:05.749526: I tensorflow/stream_executor/platform/default/dso_loader.cc:44] Successfully opened dynamic library libnvinfer_plugin.so.6\n2020-05-03 08:24:11.605036: I tensorflow/stream_executor/platform/default/dso_loader.cc:44] Successfully opened dynamic library libnvinfer.so.6\n2020-05-03 08:24:11.616007: I tensorflow/stream_executor/platform/default/dso_loader.cc:44] Successfully opened dynamic library libnvinfer_plugin.so.6\n2020-05-03 08:24:17.386559: I tensorflow/stream_executor/platform/default/dso_loader.cc:44] Successfully opened dynamic library libnvinfer.so.6\n2020-05-03 08:24:17.403112: I tensorflow/stream_executor/platform/default/dso_loader.cc:44] Successfully opened dynamic library libnvinfer_plugin.so.6\n2020-05-03 08:24:23.140931: I tensorflow/stream_executor/platform/default/dso_loader.cc:44] Successfully opened dynamic library libnvinfer.so.6\n2020-05-03 08:24:23.152506: I tensorflow/stream_executor/platform/default/dso_loader.cc:44] Successfully opened dynamic library libnvinfer_plugin.so.6\n2020-05-03 08:24:29.096514: I tensorflow/stream_executor/platform/default/dso_loader.cc:44] Successfully opened dynamic library libnvinfer.so.6\n2020-05-03 08:24:29.108033: I tensorflow/stream_executor/platform/default/dso_loader.cc:44] Successfully opened dynamic library libnvinfer_plugin.so.6\n2020-05-03 08:24:34.887171: I tensorflow/stream_executor/platform/default/dso_loader.cc:44] Successfully opened dynamic library libnvinfer.so.6\n2020-05-03 08:24:34.897509: I tensorflow/stream_executor/platform/default/dso_loader.cc:44] Successfully opened dynamic library libnvinfer_plugin.so.6\n2020-05-03 08:24:40.807576: I tensorflow/stream_executor/platform/default/dso_loader.cc:44] Successfully opened dynamic library libnvinfer.so.6\n2020-05-03 08:24:40.817366: I tensorflow/stream_executor/platform/default/dso_loader.cc:44] Successfully opened dynamic library libnvinfer_plugin.so.6\n2020-05-03 08:24:46.595666: I tensorflow/stream_executor/platform/default/dso_loader.cc:44] Successfully opened dynamic library libnvinfer.so.6\n2020-05-03 08:24:46.606135: I tensorflow/stream_executor/platform/default/dso_loader.cc:44] Successfully opened dynamic library libnvinfer_plugin.so.6\n2020-05-03 08:24:52.345478: I tensorflow/stream_executor/platform/default/dso_loader.cc:44] Successfully opened dynamic library libnvinfer.so.6\n2020-05-03 08:24:52.364415: I tensorflow/stream_executor/platform/default/dso_loader.cc:44] Successfully opened dynamic library libnvinfer_plugin.so.6\n2020-05-03 08:24:54,828 - text_gan.features.ner_tags - DEBUG - ['Super', 'Bowl', '50', 'was', 'an', 'American', 'football', 'game', 'to', 'determine', 'the', 'champion', 'of', 'the', 'National', 'Football', 'League', '(', 'NFL', ')', 'for', 'the', '2015', 'season', '.', 'The', 'American', 'Football', 'Conference', '(', 'AFC', ')', 'champion', 'Denver', 'Broncos', 'defeated', 'the', 'National', 'Football', 'Conference', '(', 'NFC', ')', 'champion', 'Carolina', 'Panthers', '24–10', 'to', 'earn', 'their', 'third', 'Super', 'Bowl', 'title', '.', 'The', 'game', 'was', 'played', 'on', 'February', '7', ',', '2016', ',', 'at', 'Levi', \"'s\", 'Stadium', 'in', 'the', 'San', 'Francisco', 'Bay', 'Area', 'at', 'Santa', 'Clara', ',', 'California', '.', 'As', 'this', 'was', 'the', '50th', 'Super', 'Bowl', ',', 'the', 'league', 'emphasized', 'the', '\"', 'golden', 'anniversary', '\"', 'with', 'various', 'gold', '-', 'themed', 'initiatives', ',', 'as', 'well', 'as', 'temporarily', 'suspending', 'the', 'tradition', 'of', 'naming', 'each', 'Super', 'Bowl', 'game', 'with', 'Roman', 'numerals', '(', 'under', 'which', 'the', 'game', 'would', 'have', 'been', 'known', 'as', '\"', 'Super', 'Bowl', 'L', '\"', ')', ',', 'so', 'that', 'the', 'logo', 'could', 'prominently', 'feature', 'the', 'Arabic', 'numerals', '50', '.']\n\n['EVENT', 'EVENT', 'EVENT', '', '', 'NORP', '', '', '', '', '', '', '', 'ORG', 'ORG', 'ORG', 'ORG', '', 'ORG', '', '', 'DATE', 'DATE', 'DATE', '', 'ORG', 'ORG', 'ORG', 'ORG', '', 'ORG', '', '', 'ORG', 'ORG', '', 'ORG', 'ORG', 'ORG', 'ORG', '', '', '', '', 'PERSON', 'PERSON', 'PRODUCT', '', '', '', 'ORDINAL', 'EVENT', 'EVENT', '', '', '', '', '', '', '', 'DATE', 'DATE', 'DATE', 'DATE', '', '', 'FAC', 'FAC', 'FAC', '', 'FAC', 'FAC', 'FAC', 'FAC', 'FAC', '', 'GPE', 'GPE', '', 'GPE', '', '', '', '', '', 'ORDINAL', 'EVENT', 'EVENT', '', '', '', '', '', '', '', '', '', '', '', '', '', '', '', '', '', '', '', '', '', '', '', '', '', '', 'EVENT', 'EVENT', '', '', 'NORP', '', '', '', '', '', '', '', '', '', '', '', '', 'EVENT', 'EVENT', 'EVENT', '', '', '', '', '', '', '', '', '', '', '', 'NORP', '', '', '']\n\n\n\n2020-05-03 08:24:54,839 - text_gan.features.pos_tags - DEBUG - ['Super', 'Bowl', '50', 'was', 'an', 'American', 'football', 'game', 'to', 'determine', 'the', 'champion', 'of', 'the', 'National', 'Football', 'League', '(', 'NFL', ')', 'for', 'the', '2015', 'season', '.', 'The', 'American', 'Football', 'Conference', '(', 'AFC', ')', 'champion', 'Denver', 'Broncos', 'defeated', 'the', 'National', 'Football', 'Conference', '(', 'NFC', ')', 'champion', 'Carolina', 'Panthers', '24–10', 'to', 'earn', 'their', 'third', 'Super', 'Bowl', 'title', '.', 'The', 'game', 'was', 'played', 'on', 'February', '7', ',', '2016', ',', 'at', 'Levi', \"'s\", 'Stadium', 'in', 'the', 'San', 'Francisco', 'Bay', 'Area', 'at', 'Santa', 'Clara', ',', 'California', '.', 'As', 'this', 'was', 'the', '50th', 'Super', 'Bowl', ',', 'the', 'league', 'emphasized', 'the', '\"', 'golden', 'anniversary', '\"', 'with', 'various', 'gold', '-', 'themed', 'initiatives', ',', 'as', 'well', 'as', 'temporarily', 'suspending', 'the', 'tradition', 'of', 'naming', 'each', 'Super', 'Bowl', 'game', 'with', 'Roman', 'numerals', '(', 'under', 'which', 'the', 'game', 'would', 'have', 'been', 'known', 'as', '\"', 'Super', 'Bowl', 'L', '\"', ')', ',', 'so', 'that', 'the', 'logo', 'could', 'prominently', 'feature', 'the', 'Arabic', 'numerals', '50', '.']\n\n['NNP', 'NNP', 'CD', 'VBD', 'DT', 'JJ', 'NN', 'NN', 'TO', 'VB', 'DT', 'NN', 'IN', 'DT', 'NNP', 'NNP', 'NNP', '-LRB-', 'NNP', '-RRB-', 'IN', 'DT', 'CD', 'NN', '.', 'DT', 'NNP', 'NNP', 'NNP', '-LRB-', 'NNP', '-RRB-', 'NN', 'NNP', 'NNP', 'VBD', 'DT', 'NNP', 'NNP', 'NNP', '-LRB-', 'NNP', '-RRB-', 'NN', 'NNP', 'NNP', 'CD', 'TO', 'VB', 'PRP$', 'JJ', 'NNP', 'NNP', 'NN', '.', 'DT', 'NN', 'VBD', 'VBN', 'IN', 'NNP', 'CD', ',', 'CD', ',', 'IN', 'NNP', 'POS', 'NNP', 'IN', 'DT', 'NNP', 'NNP', 'NNP', 'NNP', 'IN', 'NNP', 'NNP', ',', 'NNP', '.', 'IN', 'DT', 'VBD', 'DT', 'JJ', 'NNP', 'NNP', ',', 'DT', 'NN', 'VBD', 'DT', '``', 'JJ', 'NN', \"''\", 'IN', 'JJ', 'NN', 'HYPH', 'VBN', 'NNS', ',', 'RB', 'RB', 'IN', 'RB', 'VBG', 'DT', 'NN', 'IN', 'VBG', 'DT', 'NNP', 'NNP', 'NN', 'IN', 'JJ', 'NNS', '-LRB-', 'IN', 'WDT', 'DT', 'NN', 'MD', 'VB', 'VBN', 'VBN', 'IN', '``', 'NNP', 'NNP', 'NNP', \"''\", '-RRB-', ',', 'IN', 'IN', 'DT', 'NN', 'MD', 'RB', 'VB', 'DT', 'JJ', 'NNS', 'CD', '.']\n\n\n\n2020-05-03 08:24:55,779 - text_gan.data.squad1_ca_qc - DEBUG - ****Saving dataset****\n2020-05-03 08:24:55,781 - text_gan.data.squad1_ca_qc - INFO - ******** Saving Test set ********\n2020-05-03 08:24:55,829 - text_gan.data.squad1_ca_qc - INFO - ******** Saving Training set ********\n2020-05-03 08:24:55,857 - text_gan.data.squad1_ca_qc - INFO - ******** Finished saving dataset ********\n2020-05-03 08:25:23,838 - text_gan.data.squad1_ca_qc - DEBUG - Memory freed: 0\n"
    }
   ],
   "source": [
    "!python preprocess.py -d squadca-qc"
   ]
  },
  {
   "cell_type": "code",
   "execution_count": 1,
   "metadata": {},
   "outputs": [],
   "source": [
    "from text_gan.data.squad1_ca_qc import SQuAD_CA_QC\n",
    "data = SQuAD_CA_QC()"
   ]
  },
  {
   "cell_type": "code",
   "execution_count": 3,
   "metadata": {},
   "outputs": [
    {
     "output_type": "execute_result",
     "data": {
      "text/plain": "81197"
     },
     "metadata": {},
     "execution_count": 3
    }
   ],
   "source": [
    "len(list(data.train.as_numpy_iterator()))"
   ]
  },
  {
   "cell_type": "code",
   "execution_count": 4,
   "metadata": {},
   "outputs": [
    {
     "output_type": "execute_result",
     "data": {
      "text/plain": "9560"
     },
     "metadata": {},
     "execution_count": 4
    }
   ],
   "source": [
    "len(list(data.test.as_numpy_iterator()))"
   ]
  },
  {
   "cell_type": "code",
   "execution_count": 1,
   "metadata": {},
   "outputs": [],
   "source": [
    "from text_gan import cfg\n",
    "from text_gan.features import GloVeReader, NERTagger, PosTagger\n",
    "from text_gan.utils import MapReduce\n",
    "\n",
    "import en_core_web_sm\n",
    "from copynet_tf import Vocab\n",
    "import tensorflow_datasets as tfds\n",
    "import tensorflow as tf\n",
    "import numpy as np\n",
    "import logging\n",
    "import os\n",
    "import gc"
   ]
  },
  {
   "cell_type": "code",
   "execution_count": 2,
   "metadata": {},
   "outputs": [],
   "source": [
    "embedding_reader = GloVeReader()"
   ]
  },
  {
   "cell_type": "code",
   "execution_count": 3,
   "metadata": {},
   "outputs": [
    {
     "output_type": "stream",
     "name": "stderr",
     "text": "Loading vectors: 2196017it [03:03, 11966.88it/s]\n"
    }
   ],
   "source": [
    "pretrained_vectors = embedding_reader.read(cfg.EMBS_FILE)"
   ]
  },
  {
   "cell_type": "code",
   "execution_count": 4,
   "metadata": {},
   "outputs": [],
   "source": [
    "vocab = Vocab(\n",
    "    embedding_reader.START,\n",
    "    embedding_reader.END,\n",
    "    embedding_reader.PAD,\n",
    "    embedding_reader.UNK,\n",
    "    cfg.CSEQ_LEN,\n",
    "    cfg.QSEQ_LEN\n",
    ")\n",
    "ner = NERTagger(cfg.NER_TAGS_FILE, cfg.CSEQ_LEN)\n",
    "pos = PosTagger(cfg.POS_TAGS_FILE, cfg.CSEQ_LEN)\n",
    "nlp = en_core_web_sm.load()"
   ]
  },
  {
   "cell_type": "code",
   "execution_count": 5,
   "metadata": {},
   "outputs": [],
   "source": [
    "train = tfds.load(\"squad\", data_dir=\"/tf/data/tf_data\", split='train').take(10)"
   ]
  },
  {
   "cell_type": "code",
   "execution_count": 10,
   "metadata": {},
   "outputs": [],
   "source": [
    "def utf8_decoder(x):\n",
    "        return x.decode('utf-8')\n",
    "\n",
    "def substrSearch(ans, context):\n",
    "    i = 0\n",
    "    j = 0\n",
    "    s = -1\n",
    "    while i < len(context) and j < len(ans):\n",
    "        if context[i].text == ans[j].text:\n",
    "            s = i\n",
    "            i += 1\n",
    "            j += 1\n",
    "        else:\n",
    "            i += 1\n",
    "            j = 0\n",
    "            s = -1\n",
    "    return s, j"
   ]
  },
  {
   "cell_type": "code",
   "execution_count": 18,
   "metadata": {},
   "outputs": [
    {
     "output_type": "stream",
     "name": "stdout",
     "text": "WARNING:tensorflow:AutoGraph could not transform <function <lambda> at 0x7f246035e9d8> and will run it as-is.\nCause: could not parse the source code:\n\n    lambda x: x['context'], num_parallel_calls=AUTOTUNE)\n\nThis error may be avoided by creating the lambda in a standalone statement.\n\nWARNING:tensorflow:AutoGraph could not transform <function <lambda> at 0x7f246035e9d8> and will run it as-is.\nCause: could not parse the source code:\n\n    lambda x: x['context'], num_parallel_calls=AUTOTUNE)\n\nThis error may be avoided by creating the lambda in a standalone statement.\n\nWARNING: AutoGraph could not transform <function <lambda> at 0x7f246035e9d8> and will run it as-is.\nCause: could not parse the source code:\n\n    lambda x: x['context'], num_parallel_calls=AUTOTUNE)\n\nThis error may be avoided by creating the lambda in a standalone statement.\n\nWARNING:tensorflow:AutoGraph could not transform <function <lambda> at 0x7f246035eea0> and will run it as-is.\nCause: could not parse the source code:\n\n    lambda x: x['question'], num_parallel_calls=AUTOTUNE)\n\nThis error may be avoided by creating the lambda in a standalone statement.\n\nWARNING:tensorflow:AutoGraph could not transform <function <lambda> at 0x7f246035eea0> and will run it as-is.\nCause: could not parse the source code:\n\n    lambda x: x['question'], num_parallel_calls=AUTOTUNE)\n\nThis error may be avoided by creating the lambda in a standalone statement.\n\nWARNING: AutoGraph could not transform <function <lambda> at 0x7f246035eea0> and will run it as-is.\nCause: could not parse the source code:\n\n    lambda x: x['question'], num_parallel_calls=AUTOTUNE)\n\nThis error may be avoided by creating the lambda in a standalone statement.\n\nWARNING:tensorflow:AutoGraph could not transform <function <lambda> at 0x7f246de1f840> and will run it as-is.\nCause: could not parse the source code:\n\n    lambda x: x['answers']['text'][0], num_parallel_calls=AUTOTUNE)\n\nThis error may be avoided by creating the lambda in a standalone statement.\n\nWARNING:tensorflow:AutoGraph could not transform <function <lambda> at 0x7f246de1f840> and will run it as-is.\nCause: could not parse the source code:\n\n    lambda x: x['answers']['text'][0], num_parallel_calls=AUTOTUNE)\n\nThis error may be avoided by creating the lambda in a standalone statement.\n\nWARNING: AutoGraph could not transform <function <lambda> at 0x7f246de1f840> and will run it as-is.\nCause: could not parse the source code:\n\n    lambda x: x['answers']['text'][0], num_parallel_calls=AUTOTUNE)\n\nThis error may be avoided by creating the lambda in a standalone statement.\n\n"
    }
   ],
   "source": [
    "AUTOTUNE = tf.data.experimental.AUTOTUNE\n",
    "train_context = train.map(\n",
    "    lambda x: x['context'], num_parallel_calls=AUTOTUNE)\n",
    "train_question = train.map(\n",
    "    lambda x: x['question'], num_parallel_calls=AUTOTUNE)\n",
    "train_ans = train.map(\n",
    "    lambda x: x['answers']['text'][0], num_parallel_calls=AUTOTUNE)"
   ]
  },
  {
   "cell_type": "code",
   "execution_count": 19,
   "metadata": {},
   "outputs": [],
   "source": [
    "mr = MapReduce()\n",
    "train_context = train_context.as_numpy_iterator()\n",
    "train_context = mr.process(utf8_decoder, train_context)\n",
    "train_question = train_question.as_numpy_iterator()\n",
    "train_question = mr.process(utf8_decoder, train_question)\n",
    "train_ans = train_ans.as_numpy_iterator()\n",
    "train_ans = mr.process(utf8_decoder, train_ans)"
   ]
  },
  {
   "cell_type": "code",
   "execution_count": 20,
   "metadata": {},
   "outputs": [],
   "source": [
    "train_context = nlp.pipe(\n",
    "    train_context, batch_size=128, n_process=6)\n",
    "train_question = nlp.pipe(\n",
    "    train_question, batch_size=128, n_process=6)\n",
    "train_ans = nlp.pipe(\n",
    "    train_ans, batch_size=128, n_process=6)"
   ]
  },
  {
   "cell_type": "code",
   "execution_count": 21,
   "metadata": {},
   "outputs": [
    {
     "output_type": "execute_result",
     "data": {
      "text/plain": "(10, 10, 10)"
     },
     "metadata": {},
     "execution_count": 21
    }
   ],
   "source": [
    "training_context = []\n",
    "training_question = []\n",
    "training_ans = []\n",
    "for context, ques, ans in zip(\n",
    "        train_context, train_question, train_ans):\n",
    "    ans_start, al = substrSearch(ans, context)\n",
    "    ans_start += 1\n",
    "    if len(ques) >= 20 or ans_start == -1 or ans_start + al >= 250:\n",
    "        continue\n",
    "    training_context.append(context)\n",
    "    training_question.append(ques)\n",
    "    ans = np.zeros(cfg.CSEQ_LEN, dtype=np.uint8)\n",
    "    ans[ans_start:ans_start+al] = 1\n",
    "    training_ans.append(ans)\n",
    "len(training_context), len(training_question), len(training_ans)"
   ]
  },
  {
   "cell_type": "code",
   "execution_count": 22,
   "metadata": {},
   "outputs": [
    {
     "output_type": "stream",
     "name": "stdout",
     "text": "source max ('the', 88) min ('use.:74', 1)\ntarget max ('?', 10) min ('for', 1)\n"
    }
   ],
   "source": [
    "vocab.fit(\n",
    "    training_context,\n",
    "    training_question,\n",
    "    pretrained_vectors,\n",
    "    0, 0\n",
    ")\n",
    "vocab.save(cfg.VOCAB_SAVE)\n",
    "train_cidx = vocab.transform(training_context, \"source\")\n",
    "train_ner = ner.transform(training_context)\n",
    "train_pos = pos.transform(training_context)\n",
    "train_qidx = vocab.transform(training_question, \"target\")\n"
   ]
  },
  {
   "cell_type": "code",
   "execution_count": 23,
   "metadata": {},
   "outputs": [
    {
     "output_type": "execute_result",
     "data": {
      "text/plain": "array([  2,  18, 168,   9,   4, 169, 170,  22,   4, 171,   7, 172,  16,\n         4, 173,  23,  26, 174,  11,  76, 175,  22,   4, 176,  12, 177,\n        77,  35,   6,  46, 178, 179,   4, 180,   5, 181,  78,  76, 182,\n       183,   6,  46, 184, 185,   4,  79,  80,  22,  47, 186,  48, 187,\n       188,  78,   6,  36,  81, 189, 190,   4,  79, 191, 192,  82,   9,\n       193, 194,   5,  14,   9, 195, 196,   5,   4, 197,  83,  80, 198,\n       199,  35,   5, 200,  14, 201,  35, 202,  37, 203,  11,  15,  38,\n        77,   8, 204,  84,  12,  49, 205,  35,   6,   3,   0,   0,   0,\n         0,   0,   0,   0,   0,   0,   0,   0,   0,   0,   0,   0,   0,\n         0,   0,   0,   0,   0,   0,   0,   0,   0,   0,   0,   0,   0,\n         0,   0,   0,   0,   0,   0,   0,   0,   0,   0,   0,   0,   0,\n         0,   0,   0,   0,   0,   0,   0,   0,   0,   0,   0,   0,   0,\n         0,   0,   0,   0,   0,   0,   0,   0,   0,   0,   0,   0,   0,\n         0,   0,   0,   0,   0,   0,   0,   0,   0,   0,   0,   0,   0,\n         0,   0,   0,   0,   0,   0,   0,   0,   0,   0,   0,   0,   0,\n         0,   0,   0,   0,   0,   0,   0,   0,   0,   0,   0,   0,   0,\n         0,   0,   0,   0,   0,   0,   0,   0,   0,   0,   0,   0,   0,\n         0,   0,   0,   0,   0,   0,   0,   0,   0,   0,   0,   0,   0,\n         0,   0,   0,   0,   0,   0,   0,   0,   0,   0,   0,   0,   0,\n         0,   0,   0])"
     },
     "metadata": {},
     "execution_count": 23
    }
   ],
   "source": [
    "train_cidx[0]"
   ]
  },
  {
   "cell_type": "code",
   "execution_count": 24,
   "metadata": {},
   "outputs": [
    {
     "output_type": "execute_result",
     "data": {
      "text/plain": "array([ 2,  5,  6, 15, 16, 17, 18, 19, 20, 21,  8, 22, 23,  7, 24, 25, 26,\n       27,  4,  3])"
     },
     "metadata": {},
     "execution_count": 24
    }
   ],
   "source": [
    "train_qidx[0]"
   ]
  },
  {
   "cell_type": "code",
   "execution_count": 25,
   "metadata": {},
   "outputs": [
    {
     "output_type": "execute_result",
     "data": {
      "text/plain": "4"
     },
     "metadata": {},
     "execution_count": 25
    }
   ],
   "source": [
    "vocab._target['?']"
   ]
  },
  {
   "cell_type": "code",
   "execution_count": 26,
   "metadata": {},
   "outputs": [
    {
     "output_type": "execute_result",
     "data": {
      "text/plain": "array([0, 0, 0, 0, 0, 0, 0, 0, 0, 0, 0, 0, 0, 0, 0, 0, 0, 0, 0, 0, 0, 0,\n       0, 0, 0, 0, 0, 0, 0, 0, 0, 0, 0, 0, 0, 0, 0, 0, 0, 0, 0, 0, 0, 0,\n       0, 0, 0, 0, 0, 0, 0, 0, 0, 0, 0, 0, 0, 0, 0, 0, 0, 0, 0, 0, 0, 0,\n       0, 0, 0, 0, 0, 1, 1, 0, 0, 0, 0, 0, 0, 0, 0, 0, 0, 0, 0, 0, 0, 0,\n       0, 0, 0, 0, 0, 0, 0, 0, 0, 0, 0, 0, 0, 0, 0, 0, 0, 0, 0, 0, 0, 0,\n       0, 0, 0, 0, 0, 0, 0, 0, 0, 0, 0, 0, 0, 0, 0, 0, 0, 0, 0, 0, 0, 0,\n       0, 0, 0, 0, 0, 0, 0, 0, 0, 0, 0, 0, 0, 0, 0, 0, 0, 0, 0, 0, 0, 0,\n       0, 0, 0, 0, 0, 0, 0, 0, 0, 0, 0, 0, 0, 0, 0, 0, 0, 0, 0, 0, 0, 0,\n       0, 0, 0, 0, 0, 0, 0, 0, 0, 0, 0, 0, 0, 0, 0, 0, 0, 0, 0, 0, 0, 0,\n       0, 0, 0, 0, 0, 0, 0, 0, 0, 0, 0, 0, 0, 0, 0, 0, 0, 0, 0, 0, 0, 0,\n       0, 0, 0, 0, 0, 0, 0, 0, 0, 0, 0, 0, 0, 0, 0, 0, 0, 0, 0, 0, 0, 0,\n       0, 0, 0, 0, 0, 0, 0, 0], dtype=uint8)"
     },
     "metadata": {},
     "execution_count": 26
    }
   ],
   "source": [
    "training_ans[0]"
   ]
  },
  {
   "cell_type": "code",
   "execution_count": 27,
   "metadata": {},
   "outputs": [],
   "source": [
    "cseq = cfg.CSEQ_LEN\n",
    "qseq = cfg.QSEQ_LEN\n",
    "\n",
    "def gen():\n",
    "    for cidx, ner, pos, qidx, ans in zip(\n",
    "            train_cidx, train_ner, train_pos,\n",
    "            train_qidx, training_ans):\n",
    "        yield (cidx, ans, qidx, ner, pos)\n",
    "\n",
    "train_dataset = tf.data.Dataset.from_generator(\n",
    "    gen,\n",
    "    (tf.int32, tf.uint8, tf.int32, tf.uint8, tf.uint8),\n",
    "    (\n",
    "        tf.TensorShape([cseq]), tf.TensorShape([cseq]),\n",
    "        tf.TensorShape([qseq]), tf.TensorShape([cseq]),\n",
    "        tf.TensorShape([cseq]))\n",
    ")"
   ]
  },
  {
   "cell_type": "code",
   "execution_count": 28,
   "metadata": {},
   "outputs": [
    {
     "output_type": "stream",
     "name": "stdout",
     "text": "Total 10\n"
    }
   ],
   "source": [
    "i = 0\n",
    "for cidx, ans, qidx, ner, pos in train_dataset:\n",
    "    i += 1\n",
    "print(\"Total\", i)"
   ]
  }
 ],
 "metadata": {
  "language_info": {
   "name": "python",
   "codemirror_mode": {
    "name": "ipython",
    "version": 3
   },
   "version": "3.6.9-final"
  },
  "orig_nbformat": 2,
  "file_extension": ".py",
  "mimetype": "text/x-python",
  "name": "python",
  "npconvert_exporter": "python",
  "pygments_lexer": "ipython3",
  "version": 3,
  "kernelspec": {
   "name": "python3",
   "display_name": "Python 3"
  }
 },
 "nbformat": 4,
 "nbformat_minor": 2
}