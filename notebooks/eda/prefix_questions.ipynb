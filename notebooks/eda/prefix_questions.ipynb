{
 "cells": [
  {
   "cell_type": "code",
   "execution_count": 1,
   "metadata": {},
   "outputs": [],
   "source": [
    "from text_gan.utils import SQuADReader\n",
    "from text_gan import cfg"
   ]
  },
  {
   "cell_type": "code",
   "execution_count": 2,
   "metadata": {},
   "outputs": [],
   "source": [
    "reader = SQuADReader()"
   ]
  },
  {
   "cell_type": "code",
   "execution_count": 3,
   "metadata": {},
   "outputs": [],
   "source": [
    "filename = cfg.RAW_TRAIN_SAVE"
   ]
  },
  {
   "cell_type": "code",
   "execution_count": 4,
   "metadata": {},
   "outputs": [],
   "source": [
    "parsed = reader.parse(filename)\n",
    "filtered = reader.filter_unique_ca_pairs(parsed)\n",
    "data = reader.flatten_parsed(filtered)"
   ]
  },
  {
   "cell_type": "code",
   "execution_count": 5,
   "metadata": {},
   "outputs": [],
   "source": [
    "import spacy\n",
    "nlp = spacy.load('en_core_web_sm')"
   ]
  },
  {
   "cell_type": "code",
   "execution_count": 6,
   "metadata": {},
   "outputs": [
    {
     "output_type": "execute_result",
     "data": {
      "text/plain": "[{'context': 'Architecturally, the school has a Catholic character. Atop the Main Building\\'s gold dome is a golden statue of the Virgin Mary. Immediately in front of the Main Building and facing it, is a copper statue of Christ with arms upraised with the legend \"Venite Ad Me Omnes\". Next to the Main Building is the Basilica of the Sacred Heart. Immediately behind the basilica is the Grotto, a Marian place of prayer and reflection. It is a replica of the grotto at Lourdes, France where the Virgin Mary reputedly appeared to Saint Bernadette Soubirous in 1858. At the end of the main drive (and in a direct line that connects through 3 statues and the Gold Dome), is a simple, modern stone statue of Mary.',\n  'question': 'To whom did the Virgin Mary allegedly appear in 1858 in Lourdes France?',\n  'answer': 'Saint Bernadette Soubirous'},\n {'context': 'Architecturally, the school has a Catholic character. Atop the Main Building\\'s gold dome is a golden statue of the Virgin Mary. Immediately in front of the Main Building and facing it, is a copper statue of Christ with arms upraised with the legend \"Venite Ad Me Omnes\". Next to the Main Building is the Basilica of the Sacred Heart. Immediately behind the basilica is the Grotto, a Marian place of prayer and reflection. It is a replica of the grotto at Lourdes, France where the Virgin Mary reputedly appeared to Saint Bernadette Soubirous in 1858. At the end of the main drive (and in a direct line that connects through 3 statues and the Gold Dome), is a simple, modern stone statue of Mary.',\n  'question': 'What is in front of the Notre Dame Main Building?',\n  'answer': 'a copper statue of Christ'},\n {'context': 'Architecturally, the school has a Catholic character. Atop the Main Building\\'s gold dome is a golden statue of the Virgin Mary. Immediately in front of the Main Building and facing it, is a copper statue of Christ with arms upraised with the legend \"Venite Ad Me Omnes\". Next to the Main Building is the Basilica of the Sacred Heart. Immediately behind the basilica is the Grotto, a Marian place of prayer and reflection. It is a replica of the grotto at Lourdes, France where the Virgin Mary reputedly appeared to Saint Bernadette Soubirous in 1858. At the end of the main drive (and in a direct line that connects through 3 statues and the Gold Dome), is a simple, modern stone statue of Mary.',\n  'question': 'The Basilica of the Sacred heart at Notre Dame is beside to which structure?',\n  'answer': 'the Main Building'},\n {'context': 'Architecturally, the school has a Catholic character. Atop the Main Building\\'s gold dome is a golden statue of the Virgin Mary. Immediately in front of the Main Building and facing it, is a copper statue of Christ with arms upraised with the legend \"Venite Ad Me Omnes\". Next to the Main Building is the Basilica of the Sacred Heart. Immediately behind the basilica is the Grotto, a Marian place of prayer and reflection. It is a replica of the grotto at Lourdes, France where the Virgin Mary reputedly appeared to Saint Bernadette Soubirous in 1858. At the end of the main drive (and in a direct line that connects through 3 statues and the Gold Dome), is a simple, modern stone statue of Mary.',\n  'question': 'What is the Grotto at Notre Dame?',\n  'answer': 'a Marian place of prayer and reflection'},\n {'context': 'Architecturally, the school has a Catholic character. Atop the Main Building\\'s gold dome is a golden statue of the Virgin Mary. Immediately in front of the Main Building and facing it, is a copper statue of Christ with arms upraised with the legend \"Venite Ad Me Omnes\". Next to the Main Building is the Basilica of the Sacred Heart. Immediately behind the basilica is the Grotto, a Marian place of prayer and reflection. It is a replica of the grotto at Lourdes, France where the Virgin Mary reputedly appeared to Saint Bernadette Soubirous in 1858. At the end of the main drive (and in a direct line that connects through 3 statues and the Gold Dome), is a simple, modern stone statue of Mary.',\n  'question': 'What sits on top of the Main Building at Notre Dame?',\n  'answer': 'a golden statue of the Virgin Mary'}]"
     },
     "metadata": {},
     "execution_count": 6
    }
   ],
   "source": [
    "data[:5]"
   ]
  },
  {
   "cell_type": "code",
   "execution_count": 7,
   "metadata": {},
   "outputs": [
    {
     "output_type": "execute_result",
     "data": {
      "text/plain": "[('To', 'PART', 'TO'),\n ('whom', 'PRON', 'WP'),\n ('did', 'AUX', 'VBD'),\n ('the', 'DET', 'DT'),\n ('Virgin', 'PROPN', 'NNP'),\n ('Mary', 'PROPN', 'NNP'),\n ('allegedly', 'ADV', 'RB'),\n ('appear', 'VERB', 'VBP'),\n ('in', 'ADP', 'IN'),\n ('1858', 'NUM', 'CD'),\n ('in', 'ADP', 'IN'),\n ('Lourdes', 'PROPN', 'NNP'),\n ('France', 'PROPN', 'NNP'),\n ('?', 'PUNCT', '.')]"
     },
     "metadata": {},
     "execution_count": 7
    }
   ],
   "source": [
    "[(token.text, token.pos_, token.tag_) for token in nlp(data[0]['question'])]"
   ]
  },
  {
   "cell_type": "code",
   "execution_count": 8,
   "metadata": {},
   "outputs": [
    {
     "output_type": "execute_result",
     "data": {
      "text/plain": "[('What', 'PRON', 'WP'),\n ('is', 'AUX', 'VBZ'),\n ('in', 'ADP', 'IN'),\n ('front', 'NOUN', 'NN'),\n ('of', 'ADP', 'IN'),\n ('the', 'DET', 'DT'),\n ('Notre', 'PROPN', 'NNP'),\n ('Dame', 'PROPN', 'NNP'),\n ('Main', 'PROPN', 'NNP'),\n ('Building', 'PROPN', 'NNP'),\n ('?', 'PUNCT', '.')]"
     },
     "metadata": {},
     "execution_count": 8
    }
   ],
   "source": [
    "[(token.text, token.pos_, token.tag_) for token in nlp(data[1]['question'])]"
   ]
  },
  {
   "cell_type": "code",
   "execution_count": 9,
   "metadata": {},
   "outputs": [
    {
     "output_type": "execute_result",
     "data": {
      "text/plain": "[('The', 'DET', 'DT'),\n ('Basilica', 'PROPN', 'NNP'),\n ('of', 'ADP', 'IN'),\n ('the', 'DET', 'DT'),\n ('Sacred', 'ADJ', 'JJ'),\n ('heart', 'NOUN', 'NN'),\n ('at', 'ADP', 'IN'),\n ('Notre', 'PROPN', 'NNP'),\n ('Dame', 'PROPN', 'NNP'),\n ('is', 'AUX', 'VBZ'),\n ('beside', 'ADV', 'RB'),\n ('to', 'PART', 'TO'),\n ('which', 'DET', 'WDT'),\n ('structure', 'NOUN', 'NN'),\n ('?', 'PUNCT', '.')]"
     },
     "metadata": {},
     "execution_count": 9
    }
   ],
   "source": [
    "[(token.text, token.pos_, token.tag_) for token in nlp(data[2]['question'])]"
   ]
  },
  {
   "cell_type": "code",
   "execution_count": 10,
   "metadata": {},
   "outputs": [
    {
     "output_type": "execute_result",
     "data": {
      "text/plain": "[('What', 'PRON', 'WP'),\n ('is', 'AUX', 'VBZ'),\n ('the', 'DET', 'DT'),\n ('Grotto', 'PROPN', 'NNP'),\n ('at', 'ADP', 'IN'),\n ('Notre', 'PROPN', 'NNP'),\n ('Dame', 'PROPN', 'NNP'),\n ('?', 'PUNCT', '.')]"
     },
     "metadata": {},
     "execution_count": 10
    }
   ],
   "source": [
    "[(token.text, token.pos_, token.tag_) for token in nlp(data[3]['question'])]"
   ]
  },
  {
   "cell_type": "code",
   "execution_count": 11,
   "metadata": {},
   "outputs": [
    {
     "output_type": "execute_result",
     "data": {
      "text/plain": "[('What', 'PRON', 'WP'),\n ('sits', 'VERB', 'VBZ'),\n ('on', 'ADP', 'IN'),\n ('top', 'NOUN', 'NN'),\n ('of', 'ADP', 'IN'),\n ('the', 'DET', 'DT'),\n ('Main', 'PROPN', 'NNP'),\n ('Building', 'PROPN', 'NNP'),\n ('at', 'ADP', 'IN'),\n ('Notre', 'PROPN', 'NNP'),\n ('Dame', 'PROPN', 'NNP'),\n ('?', 'PUNCT', '.')]"
     },
     "metadata": {},
     "execution_count": 11
    }
   ],
   "source": [
    "[(token.text, token.pos_, token.tag_) for token in nlp(data[4]['question'])]"
   ]
  },
  {
   "cell_type": "code",
   "execution_count": 12,
   "metadata": {},
   "outputs": [
    {
     "output_type": "execute_result",
     "data": {
      "text/plain": "[('When', 'ADV', 'WRB'),\n ('did', 'AUX', 'VBD'),\n ('the', 'DET', 'DT'),\n ('Scholastic', 'PROPN', 'NNP'),\n ('Magazine', 'PROPN', 'NNP'),\n ('of', 'ADP', 'IN'),\n ('Notre', 'PROPN', 'NNP'),\n ('dame', 'NOUN', 'NN'),\n ('begin', 'VERB', 'VBP'),\n ('publishing', 'VERB', 'VBG'),\n ('?', 'PUNCT', '.')]"
     },
     "metadata": {},
     "execution_count": 12
    }
   ],
   "source": [
    "[(token.text, token.pos_, token.tag_) for token in nlp(data[5]['question'])]"
   ]
  },
  {
   "cell_type": "code",
   "execution_count": 13,
   "metadata": {},
   "outputs": [],
   "source": [
    "ques = map(lambda x: x['question'], data)\n",
    "ques = nlp.pipe(ques, n_process=cfg.MAX_PARALLELISM)"
   ]
  },
  {
   "cell_type": "code",
   "execution_count": 14,
   "metadata": {},
   "outputs": [
    {
     "output_type": "error",
     "ename": "ValueError",
     "evalue": "weird",
     "traceback": [
      "\u001b[0;31m---------------------------------------------------------------------------\u001b[0m",
      "\u001b[0;31mValueError\u001b[0m                                Traceback (most recent call last)",
      "\u001b[0;32m<ipython-input-14-283912fb18dd>\u001b[0m in \u001b[0;36m<module>\u001b[0;34m\u001b[0m\n\u001b[1;32m     29\u001b[0m         \u001b[0midx\u001b[0m \u001b[0;34m=\u001b[0m \u001b[0mposnoun\u001b[0m \u001b[0;32mif\u001b[0m \u001b[0mposnoun\u001b[0m \u001b[0;34m!=\u001b[0m \u001b[0;34m-\u001b[0m\u001b[0;36m1\u001b[0m \u001b[0;32mand\u001b[0m \u001b[0;34m(\u001b[0m\u001b[0mpospropn\u001b[0m \u001b[0;34m==\u001b[0m \u001b[0;34m-\u001b[0m\u001b[0;36m1\u001b[0m \u001b[0;32mor\u001b[0m \u001b[0mposnoun\u001b[0m \u001b[0;34m<\u001b[0m \u001b[0mpospropn\u001b[0m\u001b[0;34m)\u001b[0m \u001b[0;32melse\u001b[0m \u001b[0mpospropn\u001b[0m\u001b[0;34m\u001b[0m\u001b[0;34m\u001b[0m\u001b[0m\n\u001b[1;32m     30\u001b[0m         \u001b[0;32mif\u001b[0m \u001b[0midx\u001b[0m \u001b[0;34m==\u001b[0m \u001b[0;34m-\u001b[0m\u001b[0;36m1\u001b[0m\u001b[0;34m:\u001b[0m\u001b[0;34m\u001b[0m\u001b[0;34m\u001b[0m\u001b[0m\n\u001b[0;32m---> 31\u001b[0;31m             \u001b[0;32mraise\u001b[0m \u001b[0mValueError\u001b[0m\u001b[0;34m(\u001b[0m\u001b[0;34m\"weird\"\u001b[0m\u001b[0;34m)\u001b[0m\u001b[0;34m\u001b[0m\u001b[0;34m\u001b[0m\u001b[0m\n\u001b[0m\u001b[1;32m     32\u001b[0m         \u001b[0mlength_till\u001b[0m\u001b[0;34m.\u001b[0m\u001b[0mappend\u001b[0m\u001b[0;34m(\u001b[0m\u001b[0midx\u001b[0m \u001b[0;34m+\u001b[0m \u001b[0;36m1\u001b[0m\u001b[0;34m)\u001b[0m\u001b[0;34m\u001b[0m\u001b[0;34m\u001b[0m\u001b[0m\n\u001b[1;32m     33\u001b[0m         \u001b[0mlength_after\u001b[0m\u001b[0;34m.\u001b[0m\u001b[0mappend\u001b[0m\u001b[0;34m(\u001b[0m\u001b[0mlen\u001b[0m\u001b[0;34m(\u001b[0m\u001b[0mpos\u001b[0m\u001b[0;34m)\u001b[0m \u001b[0;34m-\u001b[0m \u001b[0mlength_till\u001b[0m\u001b[0;34m[\u001b[0m\u001b[0;34m-\u001b[0m\u001b[0;36m1\u001b[0m\u001b[0;34m]\u001b[0m\u001b[0;34m)\u001b[0m\u001b[0;34m\u001b[0m\u001b[0;34m\u001b[0m\u001b[0m\n",
      "\u001b[0;31mValueError\u001b[0m: weird"
     ]
    }
   ],
   "source": [
    "has_vb = 0\n",
    "has_noun = 0\n",
    "noun = 'NOUN'\n",
    "propn = 'PROPN'\n",
    "verb = 'VERB'\n",
    "length_till = []\n",
    "length_after = []\n",
    "for i, q in enumerate(ques):\n",
    "    pos = [token.pos_ for token in q]\n",
    "    if noun in pos:\n",
    "        has_noun += 1\n",
    "    elif propn in pos:\n",
    "        has_noun += 1\n",
    "    if verb in pos:\n",
    "        has_vb += 1\n",
    "        length_till.append(pos.index(verb) + 1)\n",
    "        length_after.append(len(pos) - length_till[-1])\n",
    "    else:\n",
    "        posnoun = -1\n",
    "        pospropn = -1\n",
    "        try:\n",
    "            posnoun = pos.index(noun)\n",
    "        except:\n",
    "            pass\n",
    "        try:\n",
    "            pospropn = pos.index(propn)\n",
    "        except:\n",
    "            pass\n",
    "        idx = posnoun if posnoun != -1 and (pospropn == -1 or posnoun < pospropn) else pospropn\n",
    "        if idx == -1:\n",
    "            raise ValueError(\"weird\")\n",
    "        length_till.append(idx + 1)\n",
    "        length_after.append(len(pos) - length_till[-1])"
   ]
  },
  {
   "cell_type": "code",
   "execution_count": 17,
   "metadata": {},
   "outputs": [
    {
     "output_type": "execute_result",
     "data": {
      "text/plain": "['PRON', 'AUX', 'DET', 'ADJ', 'ADJ', 'PUNCT']"
     },
     "metadata": {},
     "execution_count": 17
    }
   ],
   "source": [
    "pos"
   ]
  },
  {
   "cell_type": "code",
   "execution_count": 29,
   "metadata": {},
   "outputs": [],
   "source": [
    "import numpy as np"
   ]
  },
  {
   "cell_type": "code",
   "execution_count": 59,
   "metadata": {},
   "outputs": [
    {
     "output_type": "execute_result",
     "data": {
      "text/plain": "10.0"
     },
     "metadata": {},
     "execution_count": 59
    }
   ],
   "source": [
    "np.percentile(np.array(length_till), 95)"
   ]
  },
  {
   "cell_type": "code",
   "execution_count": 54,
   "metadata": {},
   "outputs": [
    {
     "output_type": "execute_result",
     "data": {
      "text/plain": "{'context': 'In December 1901, Marconi successfully transmitted the letter S from England to Newfoundland, terminating Tesla\\'s relationship with Morgan.[improper synthesis?] Over the next five years, Tesla wrote over 50 letters to Morgan, pleading for and demanding additional funding to complete the construction of Wardenclyffe. Tesla continued the project for another nine months. The tower was erected to its full 187 feet (57 m). In July 1903, Tesla wrote to Morgan that in addition to wireless communication, Wardenclyffe would be capable of wireless transmission of electric power. On 14 October 1904, Morgan finally replied through his secretary, stating, \"It will be impossible for [me] to do anything in the matter,\" after Tesla had written to Morgan when the financier was meeting with the Archbishop of Canterbury in an attempt to appeal to his Christian spirit.',\n 'question': 'What happened in 1901?',\n 'answer': 'Marconi successfully transmitted the letter S from England to Newfoundland'}"
     },
     "metadata": {},
     "execution_count": 54
    }
   ],
   "source": [
    "data[1141]"
   ]
  },
  {
   "cell_type": "code",
   "execution_count": 61,
   "metadata": {},
   "outputs": [
    {
     "output_type": "execute_result",
     "data": {
      "text/plain": "63858"
     },
     "metadata": {},
     "execution_count": 61
    }
   ],
   "source": [
    "has_vb"
   ]
  },
  {
   "cell_type": "code",
   "execution_count": null,
   "metadata": {},
   "outputs": [],
   "source": []
  }
 ],
 "metadata": {
  "language_info": {
   "codemirror_mode": {
    "name": "ipython",
    "version": 3
   },
   "file_extension": ".py",
   "mimetype": "text/x-python",
   "name": "python",
   "nbconvert_exporter": "python",
   "pygments_lexer": "ipython3",
   "version": "3.6.9-final"
  },
  "orig_nbformat": 2,
  "kernelspec": {
   "name": "python3",
   "display_name": "Python 3"
  }
 },
 "nbformat": 4,
 "nbformat_minor": 2
}