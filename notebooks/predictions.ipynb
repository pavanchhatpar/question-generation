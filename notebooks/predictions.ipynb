{
 "cells": [
  {
   "cell_type": "code",
   "execution_count": 1,
   "metadata": {},
   "outputs": [],
   "source": [
    "import tensorflow as tf\n",
    "import argparse\n",
    "import numpy as np\n",
    "import ujson as json\n",
    "import logging\n",
    "\n",
    "from text_gan import cfg, cfg_from_file\n",
    "from text_gan.data.squad1_ca_q import Squad1_CA_Q\n",
    "from text_gan.features import FastText, GloVe, NERTagger, PosTagger\n",
    "from text_gan.models import QGAN, AttnGen, CA_Q_AttnQGen, CAZ_Q_Attn, CANPZ_Q"
   ]
  },
  {
   "cell_type": "code",
   "execution_count": 2,
   "metadata": {},
   "outputs": [],
   "source": [
    "gpus = tf.config.experimental.list_physical_devices('GPU')\n",
    "if gpus:\n",
    "    try:\n",
    "        tf.config.experimental.set_memory_growth(gpus[0], True)\n",
    "    except RuntimeError as e:\n",
    "        print(e)"
   ]
  },
  {
   "cell_type": "code",
   "execution_count": 3,
   "metadata": {},
   "outputs": [],
   "source": [
    "logging.basicConfig(\n",
    "    level=cfg.LOG_LVL,\n",
    "    filename=cfg.LOG_FILENAME,\n",
    "    format='%(asctime)s - %(name)s - %(levelname)s - %(message)s')"
   ]
  },
  {
   "cell_type": "code",
   "execution_count": 32,
   "metadata": {},
   "outputs": [],
   "source": [
    "def canpz_q():\n",
    "    RNG_SEED = 11\n",
    "    data = Squad1_CA_Q()\n",
    "    data = data.train.shuffle(\n",
    "        buffer_size=10000, seed=RNG_SEED, reshuffle_each_iteration=False)\n",
    "    to_gpu = tf.data.experimental.copy_to_device(\"/gpu:0\")\n",
    "    train = data.skip(1010).take(50)\\\n",
    "        .shuffle(buffer_size=100, seed=RNG_SEED)\\\n",
    "        .batch(1).apply(to_gpu)\n",
    "    val = data.take(1000).batch(10).apply(to_gpu)\n",
    "    with tf.device(\"/gpu:0\"):\n",
    "        train = train.prefetch(2)\n",
    "        val = val.prefetch(1)\n",
    "\n",
    "    if cfg.EMBS_TYPE == 'glove':\n",
    "        cembs = GloVe.load(cfg.EMBS_FILE, cfg.CSEQ_LEN, cfg.EMBS_CVOCAB)\n",
    "        qembs = GloVe.load(\n",
    "            cfg.EMBS_FILE, cfg.QSEQ_LEN, cfg.EMBS_QVOCAB, cembs.data)\n",
    "    elif cfg.EMBS_TYPE == 'fasttext':\n",
    "        cembs = FastText.load(cfg.EMBS_FILE, cfg.CSEQ_LEN, cfg.EMBS_CVOCAB)\n",
    "        qembs = FastText.load(\n",
    "            cfg.EMBS_FILE, cfg.QSEQ_LEN, cfg.EMBS_QVOCAB, cembs.data)\n",
    "    else:\n",
    "        raise ValueError(f\"Unsupported embeddings type {cfg.EMBS_TYPE}\")\n",
    "    ner = NERTagger(cfg.NER_TAGS_FILE, cfg.CSEQ_LEN)\n",
    "    pos = PosTagger(cfg.POS_TAGS_FILE, cfg.CSEQ_LEN)\n",
    "\n",
    "    model = CANPZ_Q(cembs, ner, pos, qembs)\n",
    "    model.load('/tf/data/canpz_q/')\n",
    "    pred, attn_weights = model.predict(train)\n",
    "    i = 0\n",
    "    cont = []\n",
    "    for X, y in train:\n",
    "        context = list(cembs.inverse_transform(X[0].numpy())[0])\n",
    "        answer = tf.reshape(X[0]*tf.cast(X[1], tf.int32), (-1,))\n",
    "        ogques = qembs.inverse_transform(y.numpy())[0]\n",
    "        ans = ''\n",
    "        for ai in answer:\n",
    "            if ai == 0:\n",
    "                continue\n",
    "            ans += cembs.inverse.get(ai.numpy(), cembs.UNK) + ' '\n",
    "        # context = list(filter(\n",
    "        #     lambda w: w != cembs.PAD, context))\n",
    "        try:\n",
    "            ogques = ogques[:ogques.index(qembs.END)]\n",
    "        except:\n",
    "            pass\n",
    "        ques = qembs.inverse_transform([pred[i].numpy()])[0]\n",
    "        try:\n",
    "            ques = ques[:ques.index(qembs.END)]\n",
    "        except:\n",
    "            pass\n",
    "        print(f\"Context:- {' '.join(context)}\")\n",
    "        print(f\"Answer:- {ans}\")\n",
    "        print(f\"OG Question:- {' '.join(ogques)}\")\n",
    "        print(f\"Question:- {' '.join(ques)}\")\n",
    "        print(f\"Attention Weights:- {attn_weights[i].numpy()}\")\n",
    "        print(\"\")\n",
    "        cont.append(context)\n",
    "        i += 1\n",
    "    return attn_weights, cont"
   ]
  },
  {
   "cell_type": "code",
   "execution_count": 33,
   "metadata": {
    "tags": [
     "outputPrepend",
     "outputPrepend",
     "outputPrepend",
     "outputPrepend",
     "outputPrepend"
    ]
   },
   "outputs": [
    {
     "output_type": "stream",
     "name": "stdout",
     "text": "hat may or may not exist today . Ethnohistory uses both historical and ethnographic data as its foundation . Its historical methods and materials go beyond the standard use of documents and manuscripts . Practitioners recognize the utility of such source material as maps , music , paintings , photography , folklore , oral tradition , site exploration , archaeological materials , museum collections , enduring customs , language , and place names . EOS PAD PAD PAD PAD PAD PAD PAD PAD PAD PAD PAD PAD PAD PAD PAD PAD PAD PAD PAD PAD PAD PAD PAD PAD PAD PAD PAD PAD PAD PAD PAD PAD PAD PAD PAD PAD PAD PAD PAD PAD PAD PAD PAD PAD PAD PAD PAD PAD PAD PAD PAD PAD PAD PAD PAD PAD PAD PAD PAD PAD PAD PAD PAD PAD PAD PAD PAD PAD PAD PAD PAD PAD PAD PAD PAD PAD PAD PAD PAD PAD PAD PAD PAD PAD PAD PAD PAD PAD PAD PAD PAD PAD PAD PAD PAD PAD PAD PAD PAD PAD PAD PAD PAD PAD PAD PAD PAD PAD PAD PAD PAD PAD PAD PAD PAD PAD PAD PAD PAD PAD PAD PAD PAD PAD PAD PAD PAD PAD PAD PAD PAD PAD PAD PAD PAD PAD PAD PAD PAD PAD PAD PAD PAD PAD PAD PAD PAD PAD\nAnswer:- manuscripts . Practitioners \nOG Question:- What do the methods of ethnohistory go beyond the standard use of ?\nQuestion:- <S> What is the UNKNOWN of the UNKNOWN of the UNKNOWN ?\nAttention Weights:- [[0.         0.         0.         ... 0.         0.         0.        ]\n [0.00449617 0.004449   0.00441289 ... 0.00416201 0.00450555 0.00515975]\n [0.00408435 0.00403958 0.00402706 ... 0.0045579  0.00475739 0.005105  ]\n ...\n [0.00398119 0.00396582 0.00395664 ... 0.00413683 0.00414388 0.00423186]\n [0.00389591 0.00387295 0.00385927 ... 0.00459718 0.00468664 0.00489292]\n [0.00398117 0.0039658  0.00395662 ... 0.00413684 0.00414389 0.00423186]]\n\nContext:- The length and nature of parental care varies widely amongst different orders and species . At one extreme , parental care in megapodes ends at hatching ; the newly hatched chick digs itself out of the nest mound without parental assistance and can fend for itself immediately . At the other extreme , many seabirds have extended periods of parental care , the longest being that of the great frigatebird , whose chicks take up to six months to fledge and are fed by the parents for up to an additional 14 months . The chick guard stage describes the period of breeding during which one of the adult birds is permanently present at the nest after chicks have hatched . The main purpose of the guard stage is to aid offspring to thermoregulate and protect them from predation . EOS PAD PAD PAD PAD PAD PAD PAD PAD PAD PAD PAD PAD PAD PAD PAD PAD PAD PAD PAD PAD PAD PAD PAD PAD PAD PAD PAD PAD PAD PAD PAD PAD PAD PAD PAD PAD PAD PAD PAD PAD PAD PAD PAD PAD PAD PAD PAD PAD PAD PAD PAD PAD PAD PAD PAD PAD PAD PAD PAD PAD PAD PAD PAD PAD PAD PAD PAD PAD PAD PAD PAD PAD PAD PAD PAD PAD PAD PAD PAD PAD PAD PAD PAD PAD PAD PAD PAD PAD PAD PAD PAD PAD PAD PAD PAD PAD PAD PAD PAD PAD PAD PAD PAD PAD PAD PAD PAD PAD PAD\nAnswer:- frigatebird \nOG Question:- What type of seabird has the longest period of parental care ?\nQuestion:- <S> What is the UNKNOWN of the UNKNOWN of the UNKNOWN ?\nAttention Weights:- [[0.         0.         0.         ... 0.         0.         0.        ]\n [0.003965   0.00410745 0.00404982 ... 0.00433677 0.0046296  0.00517488]\n [0.00391577 0.0039934  0.00393078 ... 0.0045806  0.00478102 0.00513026]\n ...\n [0.00376474 0.00385744 0.00379351 ... 0.0041886  0.00419619 0.00428602]\n [0.00371054 0.00377599 0.00372704 ... 0.00461272 0.00470242 0.0049093 ]\n [0.00376472 0.00385742 0.0037935  ... 0.00418861 0.0041962  0.00428602]]\n\nContext:- Hopkins ' column also drew criticism on Twitter , including from Russell Brand , to whom Hopkins responded by accusing Brand 's \" champagne socialist humanity \" of neglecting taxpayers . Simon Usborne , writing in The Independent , compared her use of the word \" cockroach \" to previous uses by the Nazis and just before the Rwandan Genocide by its perpetrators . He suspected that if any other contributor had written the piece it would not have been published and questioned her continued employment by the newspaper . Zoe Williams commented in The Guardian : \" It is no joke when people start talking like this . We are not ' giving her what she wants ' when we make manifest our disgust . It is not a free speech issue . I ’m not saying gag her : I ’m saying fight her \" . EOS PAD PAD PAD PAD PAD PAD PAD PAD PAD PAD PAD PAD PAD PAD PAD PAD PAD PAD PAD PAD PAD PAD PAD PAD PAD PAD PAD PAD PAD PAD PAD PAD PAD PAD PAD PAD PAD PAD PAD PAD PAD PAD PAD PAD PAD PAD PAD PAD PAD PAD PAD PAD PAD PAD PAD PAD PAD PAD PAD PAD PAD PAD PAD PAD PAD PAD PAD PAD PAD PAD PAD PAD PAD PAD PAD PAD PAD PAD PAD PAD PAD PAD PAD PAD PAD PAD PAD PAD PAD PAD PAD PAD PAD PAD PAD PAD PAD PAD PAD PAD PAD\nAnswer:- Usborne , \nOG Question:- Who wrote critically in The Independent about Hopkins ?\nQuestion:- <S> What is the UNKNOWN of the UNKNOWN of the UNKNOWN ?\nAttention Weights:- [[0.         0.         0.         ... 0.         0.         0.        ]\n [0.00453475 0.0047632  0.00475092 ... 0.00413523 0.00442635 0.00500394]\n [0.00404485 0.00417325 0.00416762 ... 0.00455606 0.00475546 0.00510291]\n ...\n [0.0039369  0.00404072 0.0040324  ... 0.00407765 0.00408487 0.00417203]\n [0.00378087 0.00388137 0.00387043 ... 0.00453624 0.00462446 0.00482793]\n [0.00393688 0.0040407  0.00403238 ... 0.00407766 0.00408488 0.00417203]]\n\nContext:- Jesuit missionary Eusebio Francisco Kino visited the Santa Cruz River valley in 1692 , and founded the Mission San Xavier del Bac in 1700 about 7 mi ( 11 km ) upstream from the site of the settlement of Tucson . A separate Convento settlement was founded downstream along the Santa Cruz River , near the base of what is now \" A \" mountain . Hugo O'Conor , the founding father of the city of Tucson , Arizona authorized the construction of a military fort in that location , Presidio San Agustín del Tucsón , on August 20 , 1775 ( near the present downtown Pima County Courthouse ) . During the Spanish period of the presidio , attacks such as the Second Battle of Tucson were repeatedly mounted by Apaches . Eventually the town came to be called \" Tucson \" and became a part of Sonora after Mexico gained independence from Spain in 1821 . EOS PAD PAD PAD PAD PAD PAD PAD PAD PAD PAD PAD PAD PAD PAD PAD PAD PAD PAD PAD PAD PAD PAD PAD PAD PAD PAD PAD PAD PAD PAD PAD PAD PAD PAD PAD PAD PAD PAD PAD PAD PAD PAD PAD PAD PAD PAD PAD PAD PAD PAD PAD PAD PAD PAD PAD PAD PAD PAD PAD PAD PAD PAD PAD PAD PAD PAD PAD PAD PAD PAD PAD PAD PAD PAD PAD PAD PAD PAD PAD PAD PAD PAD PAD PAD PAD PAD PAD PAD PAD PAD PAD\nAnswer:- O'Conor , \nOG Question:- Who is Tucson 's ' founding father ' ?\nQuestion:- <S> What is the UNKNOWN of the UNKNOWN of the UNKNOWN ?\nAttention Weights:- [[0.         0.         0.         ... 0.         0.         0.        ]\n [0.00365181 0.00377337 0.00381576 ... 0.00421623 0.00459069 0.00524035]\n [0.00388999 0.00395265 0.00397597 ... 0.00470169 0.0049556  0.00535519]\n ...\n [0.00377336 0.00385485 0.0038744  ... 0.00440773 0.00446226 0.00459271]\n [0.00380705 0.00387029 0.00389331 ... 0.0049074  0.0050505  0.00530914]\n [0.00377336 0.00385485 0.00387441 ... 0.00440777 0.00446229 0.00459274]]\n\nContext:- A working group consisting of Leon van de Kerkhof ( The Netherlands ) , Gerhard Stoll ( Germany ) , Leonardo Chiariglione ( Italy ) , Yves - François Dehery ( France ) , Karlheinz Brandenburg ( Germany ) and James D. Johnston ( USA ) took ideas from ASPEC , integrated the filter bank from Layer 2 , added some of their own ideas and created MP3 , which was designed to achieve the same quality at 128 kbit / s as MP2 at 192 kbit / s . EOS PAD PAD PAD PAD PAD PAD PAD PAD PAD PAD PAD PAD PAD PAD PAD PAD PAD PAD PAD PAD PAD PAD PAD PAD PAD PAD PAD PAD PAD PAD PAD PAD PAD PAD PAD PAD PAD PAD PAD PAD PAD PAD PAD PAD PAD PAD PAD PAD PAD PAD PAD PAD PAD PAD PAD PAD PAD PAD PAD PAD PAD PAD PAD PAD PAD PAD PAD PAD PAD PAD PAD PAD PAD PAD PAD PAD PAD PAD PAD PAD PAD PAD PAD PAD PAD PAD PAD PAD PAD PAD PAD PAD PAD PAD PAD PAD PAD PAD PAD PAD PAD PAD PAD PAD PAD PAD PAD PAD PAD PAD PAD PAD PAD PAD PAD PAD PAD PAD PAD PAD PAD PAD PAD PAD PAD PAD PAD PAD PAD PAD PAD PAD PAD PAD PAD PAD PAD PAD PAD PAD PAD PAD PAD PAD PAD PAD PAD PAD PAD PAD PAD PAD PAD PAD PAD PAD PAD PAD PAD\nAnswer:- MP3 \nOG Question:- What did the working group eventually create ?\nQuestion:- <S> What is the UNKNOWN of the UNKNOWN of the UNKNOWN ?\nAttention Weights:- [[0.         0.         0.         ... 0.         0.         0.        ]\n [0.00395694 0.00397718 0.0038643  ... 0.00401838 0.00435449 0.0050074 ]\n [0.00377499 0.00378797 0.00368027 ... 0.00447241 0.00466803 0.00500891]\n ...\n [0.00360457 0.00363093 0.00353361 ... 0.0040515  0.00405906 0.00414632]\n [0.00357973 0.00358411 0.00350391 ... 0.00448408 0.00457125 0.00477232]\n [0.00360456 0.00363091 0.00353359 ... 0.00405151 0.00405907 0.00414632]]\n\nContext:- Just as there is a need for tax shifting , there is also a need for subsidy shifting . Subsidies are not an inherently bad thing as many technologies and industries emerged through government subsidy schemes . The Stern Review explains that of 20 key innovations from the past 30 years , only one of the 14 was funded entirely by the private sector and nine were totally publicly funded . In terms of specific examples , the Internet was the result of publicly funded links among computers in government laboratories and research institutes . And the combination of the federal tax deduction and a robust state tax deduction in California helped to create the modern wind power industry . EOS PAD PAD PAD PAD PAD PAD PAD PAD PAD PAD PAD PAD PAD PAD PAD PAD PAD PAD PAD PAD PAD PAD PAD PAD PAD PAD PAD PAD PAD PAD PAD PAD PAD PAD PAD PAD PAD PAD PAD PAD PAD PAD PAD PAD PAD PAD PAD PAD PAD PAD PAD PAD PAD PAD PAD PAD PAD PAD PAD PAD PAD PAD PAD PAD PAD PAD PAD PAD PAD PAD PAD PAD PAD PAD PAD PAD PAD PAD PAD PAD PAD PAD PAD PAD PAD PAD PAD PAD PAD PAD PAD PAD PAD PAD PAD PAD PAD PAD PAD PAD PAD PAD PAD PAD PAD PAD PAD PAD PAD PAD PAD PAD PAD PAD PAD PAD PAD PAD PAD PAD PAD PAD PAD PAD PAD PAD PAD PAD PAD\nAnswer:- shifting . \nOG Question:- Besides tax shifting , what is another need ?\nQuestion:- <S> What is the UNKNOWN of the UNKNOWN of the UNKNOWN ?\nAttention Weights:- [[0.         0.         0.         ... 0.         0.         0.        ]\n [0.00407975 0.00405502 0.00402656 ... 0.00393066 0.00419786 0.00476251]\n [0.0038227  0.00381539 0.00380964 ... 0.00459853 0.00479974 0.00515037]\n ...\n [0.00377801 0.00376554 0.0037533  ... 0.00412596 0.00413332 0.00422162]\n [0.00365995 0.0036482  0.00363597 ... 0.00460766 0.00469728 0.00490397]\n [0.00377799 0.00376552 0.00375328 ... 0.00412597 0.00413334 0.00422162]]\n\nContext:- On 20 September 2013 , Queen + Adam Lambert performed at the iHeartRadio Music Festival at the MGM Grand Hotel & Casino in Las Vegas . On 6 March 2014 , the band announced on Good Morning America that Queen + Adam Lambert will tour North America in Summer 2014 . The band will also tour Australia and New Zealand in August / September 2014 . In an interview with Rolling Stone , May and Taylor said that although the tour with Lambert is a limited thing , they are open to him becoming an official member , and cutting new material with him . EOS PAD PAD PAD PAD PAD PAD PAD PAD PAD PAD PAD PAD PAD PAD PAD PAD PAD PAD PAD PAD PAD PAD PAD PAD PAD PAD PAD PAD PAD PAD PAD PAD PAD PAD PAD PAD PAD PAD PAD PAD PAD PAD PAD PAD PAD PAD PAD PAD PAD PAD PAD PAD PAD PAD PAD PAD PAD PAD PAD PAD PAD PAD PAD PAD PAD PAD PAD PAD PAD PAD PAD PAD PAD PAD PAD PAD PAD PAD PAD PAD PAD PAD PAD PAD PAD PAD PAD PAD PAD PAD PAD PAD PAD PAD PAD PAD PAD PAD PAD PAD PAD PAD PAD PAD PAD PAD PAD PAD PAD PAD PAD PAD PAD PAD PAD PAD PAD PAD PAD PAD PAD PAD PAD PAD PAD PAD PAD PAD PAD PAD PAD PAD PAD PAD PAD PAD PAD PAD PAD PAD PAD PAD PAD PAD\nAnswer:- 2013 , Queen \nOG Question:- When did Queen + Adam Lambert perform at the UNKNOWN Music Festival ?\nQuestion:- <S> What is the UNKNOWN of the UNKNOWN of the UNKNOWN ?\nAttention Weights:- [[0.         0.         0.         ... 0.         0.         0.        ]\n [0.00408028 0.00415345 0.004145   ... 0.00421789 0.00454073 0.00516662]\n [0.0038488  0.0038941  0.00388706 ... 0.00448721 0.00468354 0.00502567]\n ...\n [0.00357801 0.0036323  0.00363683 ... 0.00401358 0.00402082 0.00410683]\n [0.00358222 0.00361467 0.00360835 ... 0.00444878 0.00453529 0.00473481]\n [0.00357799 0.00363228 0.00363681 ... 0.00401359 0.00402082 0.00410683]]\n\nContext:- According to the U.S. Census Bureau , as of 2015 , Tennessee had an estimated population of 6,600,299 , which is an increase of 50,947 , from the prior year and an increase of 254,194 , or 4.01 % , since the year 2010 . This includes a natural increase since the last census of 142,266 people ( that is 493,881 births minus 351,615 deaths ) , and an increase from net migration of 219,551 people into the state . Immigration from outside the United States resulted in a net increase of 59,385 people , and migration within the country produced a net increase of 160,166 people . Twenty percent of Tennesseans were born outside the South in 2008 , compared to a figure of 13.5 % in 1990 . EOS PAD PAD PAD PAD PAD PAD PAD PAD PAD PAD PAD PAD PAD PAD PAD PAD PAD PAD PAD PAD PAD PAD PAD PAD PAD PAD PAD PAD PAD PAD PAD PAD PAD PAD PAD PAD PAD PAD PAD PAD PAD PAD PAD PAD PAD PAD PAD PAD PAD PAD PAD PAD PAD PAD PAD PAD PAD PAD PAD PAD PAD PAD PAD PAD PAD PAD PAD PAD PAD PAD PAD PAD PAD PAD PAD PAD PAD PAD PAD PAD PAD PAD PAD PAD PAD PAD PAD PAD PAD PAD PAD PAD PAD PAD PAD PAD PAD PAD PAD PAD PAD PAD PAD PAD PAD PAD PAD PAD PAD PAD PAD PAD PAD PAD PAD PAD PAD PAD PAD\nAnswer:- 219,551 \nOG Question:- How much of Tennessee 's population increase between 2010 and 2015 was due to migration ?\nQuestion:- <S> What is the UNKNOWN of the UNKNOWN of the UNKNOWN ?\nAttention Weights:- [[0.         0.         0.         ... 0.         0.         0.        ]\n [0.00397439 0.00418852 0.00433813 ... 0.00425593 0.00458126 0.00518369]\n [0.00373027 0.00386033 0.00395842 ... 0.00438495 0.0045768  0.0049111 ]\n ...\n [0.0035768  0.0037166  0.00377978 ... 0.00389662 0.00390357 0.00398695]\n [0.0034709  0.00358183 0.00366629 ... 0.0043199  0.00440391 0.00459767]\n [0.00357678 0.00371658 0.00377976 ... 0.00389662 0.00390357 0.00398695]]\n\nContext:- As the school suffered reduced income while still under construction , the completion and further development of the school has since depended to some extent on wealthy benefactors . Building resumed when Roger Lupton was Provost , around 1517 . His name is borne by the big gate - house in the west range of the cloisters , fronting School Yard , perhaps the most famous image of the school . This range includes the important interiors of the Parlour , Election Hall , and Election Chamber , where most of the 18th century \" leaving portraits \" are kept . EOS PAD PAD PAD PAD PAD PAD PAD PAD PAD PAD PAD PAD PAD PAD PAD PAD PAD PAD PAD PAD PAD PAD PAD PAD PAD PAD PAD PAD PAD PAD PAD PAD PAD PAD PAD PAD PAD PAD PAD PAD PAD PAD PAD PAD PAD PAD PAD PAD PAD PAD PAD PAD PAD PAD PAD PAD PAD PAD PAD PAD PAD PAD PAD PAD PAD PAD PAD PAD PAD PAD PAD PAD PAD PAD PAD PAD PAD PAD PAD PAD PAD PAD PAD PAD PAD PAD PAD PAD PAD PAD PAD PAD PAD PAD PAD PAD PAD PAD PAD PAD PAD PAD PAD PAD PAD PAD PAD PAD PAD PAD PAD PAD PAD PAD PAD PAD PAD PAD PAD PAD PAD PAD PAD PAD PAD PAD PAD PAD PAD PAD PAD PAD PAD PAD PAD PAD PAD PAD PAD PAD PAD PAD PAD PAD PAD PAD PAD PAD\nAnswer:- Chamber , where most of the 18th century \nOG Question:- Where are 18th century \" leaving portraits \" kept at Eton ?\nQuestion:- <S> What is the UNKNOWN of the UNKNOWN of the UNKNOWN ?\nAttention Weights:- [[0.         0.         0.         ... 0.         0.         0.        ]\n [0.00403198 0.00397758 0.00409176 ... 0.00415818 0.00442522 0.00500729]\n [0.0038574  0.00379932 0.00384518 ... 0.00468613 0.00489125 0.00524867]\n ...\n [0.00370305 0.00366717 0.00371128 ... 0.00422322 0.00423047 0.00432038]\n [0.00366508 0.00362391 0.00366996 ... 0.00468754 0.00477874 0.00498905]\n [0.00370303 0.00366715 0.00371127 ... 0.00422324 0.00423049 0.00432038]]\n\nContext:- When World War II started , tonnage levels at the port decreased and shipping activities were suspended ; however , the war did provide economic benefits for the city . Petrochemical refineries and manufacturing plants were constructed along the ship channel because of the demand for petroleum and synthetic rubber products by the defense industry during the war . Ellington Field , initially built during World War I , was revitalized as an advanced training center for bombardiers and navigators . The Brown Shipbuilding Company was founded in 1942 to build ships for the U.S. Navy during World War II . Due to the boom in defense jobs , thousands of new workers migrated to the city , both blacks and whites competing for the higher - paying jobs . President Roosevelt had established a policy of non - discrimination for defense contractors , and blacks gained some opportunities , especially in shipbuilding , although not without resistance from whites and increasing social tensions that erupted into occasional violence . Economic gains of blacks who entered defense industries continued in the postwar years . EOS PAD PAD PAD PAD PAD PAD PAD PAD PAD PAD PAD PAD PAD PAD PAD PAD PAD PAD PAD PAD PAD PAD PAD PAD PAD PAD PAD PAD PAD PAD PAD PAD PAD PAD PAD PAD PAD PAD PAD PAD PAD PAD PAD PAD PAD PAD PAD PAD PAD PAD PAD PAD PAD PAD PAD PAD PAD PAD PAD PAD PAD PAD PAD PAD PAD\nAnswer:- I , was revitalized \nOG Question:- When was UNKNOWN Field built ?\nQuestion:- <S> What is the UNKNOWN of the UNKNOWN of the UNKNOWN ?\nAttention Weights:- [[0.         0.         0.         ... 0.         0.         0.        ]\n [0.00456176 0.0046817  0.00501594 ... 0.00384321 0.00408998 0.00464234]\n [0.00400663 0.00405656 0.00423905 ... 0.00454311 0.00474195 0.00508844]\n ...\n [0.00387109 0.00395533 0.0041029  ... 0.00407374 0.00408087 0.00416783]\n [0.00385588 0.00388888 0.00402962 ... 0.00450258 0.00459017 0.00479217]\n [0.00387106 0.0039553  0.00410287 ... 0.00407375 0.00408088 0.00416784]]\n\nContext:- In 1994 , over a hundred intrusions were made by unidentified crackers into the Rome Laboratory , the US Air Force 's main command and research facility . Using trojan horses , hackers were able to obtain unrestricted access to Rome 's networking systems and remove traces of their activities . The intruders were able to obtain classified files , such as air tasking order systems data and furthermore able to penetrate connected networks of National Aeronautics and Space Administration 's Goddard Space Flight Center , Wright - Patterson Air Force Base , some Defense contractors , and other private sector organizations , by posing as a trusted Rome center user . EOS PAD PAD PAD PAD PAD PAD PAD PAD PAD PAD PAD PAD PAD PAD PAD PAD PAD PAD PAD PAD PAD PAD PAD PAD PAD PAD PAD PAD PAD PAD PAD PAD PAD PAD PAD PAD PAD PAD PAD PAD PAD PAD PAD PAD PAD PAD PAD PAD PAD PAD PAD PAD PAD PAD PAD PAD PAD PAD PAD PAD PAD PAD PAD PAD PAD PAD PAD PAD PAD PAD PAD PAD PAD PAD PAD PAD PAD PAD PAD PAD PAD PAD PAD PAD PAD PAD PAD PAD PAD PAD PAD PAD PAD PAD PAD PAD PAD PAD PAD PAD PAD PAD PAD PAD PAD PAD PAD PAD PAD PAD PAD PAD PAD PAD PAD PAD PAD PAD PAD PAD PAD PAD PAD PAD PAD PAD PAD PAD PAD PAD PAD PAD PAD PAD PAD PAD PAD\nAnswer:- user . EOS \nOG Question:- How were hackers able to penetrate connected networks ?\nQuestion:- <S> What is the UNKNOWN of the UNKNOWN of the UNKNOWN ?\nAttention Weights:- [[0.         0.         0.         ... 0.         0.         0.        ]\n [0.00412522 0.00405374 0.00383649 ... 0.0040021  0.00423043 0.00473562]\n [0.00388309 0.00382161 0.00372964 ... 0.00470195 0.00490774 0.00526633]\n ...\n [0.00368808 0.00364195 0.00355726 ... 0.0042202  0.00422743 0.00431723]\n [0.00371882 0.00367618 0.00359434 ... 0.00468377 0.00477492 0.00498507]\n [0.00368805 0.00364193 0.00355724 ... 0.00422022 0.00422744 0.00431723]]\n\n"
    }
   ],
   "source": [
    "attn_weights, cont = canpz_q()"
   ]
  },
  {
   "cell_type": "code",
   "execution_count": 37,
   "metadata": {},
   "outputs": [
    {
     "output_type": "execute_result",
     "data": {
      "text/plain": "<tf.Tensor: shape=(21, 250), dtype=float32, numpy=\narray([[0.        , 0.        , 0.        , ..., 0.        , 0.        ,\n        0.        ],\n       [0.00380346, 0.00375432, 0.00374713, ..., 0.0030784 , 0.00304931,\n        0.00529373],\n       [0.00397695, 0.0039255 , 0.00391625, ..., 0.00347874, 0.00347357,\n        0.00543915],\n       ...,\n       [0.00396752, 0.0039199 , 0.00392636, ..., 0.00317718, 0.0031203 ,\n        0.00481249],\n       [0.00391109, 0.00386831, 0.00385672, ..., 0.00351122, 0.00350127,\n        0.00537726],\n       [0.00396752, 0.0039199 , 0.00392636, ..., 0.00317719, 0.00312031,\n        0.00481251]], dtype=float32)>"
     },
     "metadata": {},
     "execution_count": 37
    }
   ],
   "source": [
    "attn_weights[0]"
   ]
  },
  {
   "cell_type": "code",
   "execution_count": 65,
   "metadata": {},
   "outputs": [
    {
     "output_type": "stream",
     "name": "stdout",
     "text": "[0.00529373 0.00468969 0.00464408 0.00461993 0.00459947 0.00458514\n 0.00458396 0.00458133 0.00458111 0.00457985] ['PAD' 'Pima' ',' 'PAD' 'and' '.' ',' 'Lakecrest' 'Neighborhoods' 'The']\n[0.00543915 0.00446042 0.00445024 0.00438882 0.00438667 0.00438279\n 0.00438044 0.00437524 0.00436722 0.00436267] ['PAD' 'PAD' 'PAD' 'PAD' 'PAD' 'PAD' '.' 'Opération' '2013' 'in']\n[0.00438997 0.00436893 0.00435375 0.00431877 0.00431229 0.00431209\n 0.00430922 0.00430878 0.00430542 0.00430114] ['as' 'known' 'overhunts' 'This' '.' 'phenomenon' 'of' 'coextinction' 'a'\n 'the']\n[0.00555489 0.00459274 0.00458958 0.00454261 0.00452969 0.00449071\n 0.00448709 0.00447945 0.00445896 0.00444994] ['PAD' 'PAD' 'PAD' 'PAD' 'PAD' 'PAD' 'PAD' 'PAD' 'PAD' 'PAD']\n[0.00447028 0.00446819 0.0044499  0.00444041 0.00443309 0.00442436\n 0.00441406 0.00441297 0.00440605 0.00440161] ['oriented' 'a' 'the' 'sizeable' 'Sufi' 'BJP' 'portion' 'up' 'ruling' 'of']\n[0.0045096  0.00450464 0.0044787  0.0044557  0.00444778 0.00444106\n 0.00443915 0.00443544 0.0044304  0.00442743] ['PAD' 'algebra' '140' 'PAD' 'and' 'pages' 'PAD' 'of' 'PAD' 'PAD']\n[0.00516576 0.0046507  0.00461384 0.00457401 0.00457161 0.00454882\n 0.0045419  0.00453413 0.00453014 0.00451992] ['PAD' 'PAD' 'PAD' 'PAD' 'PAD' 'gravity' ',' 'PAD' 'the' 'PAD']\n[0.00443063 0.00443043 0.00442398 0.00439952 0.00439362 0.00438591\n 0.00437703 0.00437623 0.00437352 0.00437006] ['to' 'to' 'PAD' 'his' 'Torii' 'PAD' 'loyalty' 'lord' 'PAD' 'PAD']\n[0.00449085 0.00447982 0.00444539 0.00443092 0.00442641 0.00440828\n 0.00440284 0.00440266 0.00440234 0.0043995 ] ['PAD' 'ceremony' 'PAD' \"'\" 'torch' 'of' 'lighting' 'PAD' 'disruption' ',']\n[0.00512303 0.00456181 0.00452422 0.00449219 0.00448267 0.00447763\n 0.00447627 0.00447386 0.00446379 0.00444449] ['PAD' 'PAD' 'PAD' 'in' 'PAD' 'PAD' 'style' '\"' 'PAD' 'the']\n[0.00438908 0.00438828 0.00438551 0.00435771 0.004356   0.00434064\n 0.00434054 0.00433895 0.00433393 0.00433345] ['longest' '.' 'PAD' 'Many' 'among' 'PAD' 'PAD' 'are' 'but' 'available']\n[0.00446945 0.00446068 0.00442609 0.00441048 0.00440984 0.00439114\n 0.00439039 0.00438882 0.00438156 0.00438138] ['PAD' 'Greece' 'PAD' 'settlements' 'Franchthi' '.' 'in' 'dating'\n 'Neolithic' 'Cave']\n[0.00543228 0.00440781 0.00439797 0.00439274 0.00436774 0.00435946\n 0.00435691 0.00435287 0.00433972 0.00433762] ['PAD' 'PAD' ',' 'PAD' 'by' 'late' 'takeover' 'following' 'PAD' 'PAD']\n[0.00482484 0.00446822 0.00446466 0.00442089 0.00441849 0.00441191\n 0.00441143 0.00439703 0.00438955 0.00438885] ['PAD' 'PAD' 'Persians' 'the' 'PAD' 'While' 'forces' 'invading' 'was' 'in']\n[0.00537737 0.00440012 0.00438876 0.00438502 0.00435686 0.00435012\n 0.00434761 0.00434323 0.00433297 0.00433125] ['PAD' 'PAD' ',' 'PAD' 'The' 'are' '.' 'erosion' 'PAD' 'PAD']\n[0.00481248 0.00446695 0.00446175 0.00441763 0.00441734 0.0044098\n 0.00440942 0.00439388 0.00438677 0.00438672] ['PAD' 'about' 'asphalt' 'and' 'which' ',' 'any' 'refined' 'This' 'diesel']\n[0.00537725 0.00440007 0.00438873 0.00438497 0.00435681 0.0043501\n 0.00434757 0.0043432  0.00433293 0.00433121] ['PAD' 'PAD' 'offered' 'PAD' ',' 'turn' 'stick' 'a' 'PAD' 'PAD']\n[0.00481249 0.00446692 0.00446173 0.00441762 0.00441731 0.00440979\n 0.0044094  0.00439386 0.00438674 0.00438671] ['PAD' 'PAD' 'controllers' 'multiple' 'PAD' 'USB' 'each' 'host' 'may'\n 'host']\n[0.00537726 0.00440007 0.00438873 0.00438496 0.00435681 0.0043501\n 0.00434757 0.0043432  0.00433293 0.00433121] ['PAD' 'PAD' 'were' 'PAD' 'with' 'of' 'conflicted' 'as' 'PAD' 'PAD']\n"
    }
   ],
   "source": [
    "for i in range(1, 20):\n",
    "    indices = attn_weights[0][i].numpy().argsort()[::-1]\n",
    "    print(attn_weights[0][i].numpy()[indices[:10]], np.array(cont[i])[indices[:10]])"
   ]
  },
  {
   "cell_type": "code",
   "execution_count": 53,
   "metadata": {},
   "outputs": [
    {
     "output_type": "execute_result",
     "data": {
      "text/plain": "TensorShape([21, 250])"
     },
     "metadata": {},
     "execution_count": 53
    }
   ],
   "source": [
    "attn_weights[0].shape"
   ]
  },
  {
   "cell_type": "code",
   "execution_count": 51,
   "metadata": {},
   "outputs": [
    {
     "output_type": "execute_result",
     "data": {
      "text/plain": "(21, 250)"
     },
     "metadata": {},
     "execution_count": 51
    }
   ],
   "source": [
    "indices.shape"
   ]
  },
  {
   "cell_type": "code",
   "execution_count": 31,
   "metadata": {},
   "outputs": [
    {
     "output_type": "execute_result",
     "data": {
      "text/plain": "['Several',\n 'Islamic',\n 'kingdoms',\n '(',\n 'sultanates',\n ')',\n 'under',\n 'both',\n 'foreign',\n 'and',\n ',',\n 'newly',\n 'converted',\n ',',\n 'Rajput',\n 'rulers',\n 'were',\n 'established',\n 'across',\n 'the',\n 'north',\n 'western',\n 'subcontinent',\n '(',\n 'Afghanistan',\n 'and',\n 'Pakistan',\n ')',\n 'over',\n 'a',\n 'period',\n 'of',\n 'a',\n 'few',\n 'centuries',\n '.',\n 'From',\n 'the',\n '10th',\n 'century',\n ',',\n 'Sindh',\n 'was',\n 'ruled',\n 'by',\n 'the',\n 'Rajput',\n 'Soomra',\n 'dynasty',\n ',',\n 'and',\n 'later',\n ',',\n 'in',\n 'the',\n 'mid-13th',\n 'century',\n 'by',\n 'the',\n 'Rajput',\n 'Samma',\n 'dynasty',\n '.',\n 'Additionally',\n ',',\n 'Muslim',\n 'trading',\n 'communities',\n 'flourished',\n 'throughout',\n 'coastal',\n 'south',\n 'India',\n ',',\n 'particularly',\n 'on',\n 'the',\n 'western',\n 'coast',\n 'where',\n 'Muslim',\n 'traders',\n 'arrived',\n 'in',\n 'small',\n 'numbers',\n ',',\n 'mainly',\n 'from',\n 'the',\n 'Arabian',\n 'peninsula',\n '.',\n 'This',\n 'marked',\n 'the',\n 'introduction',\n 'of',\n 'a',\n 'third',\n 'Abrahamic',\n 'Middle',\n 'Eastern',\n 'religion',\n ',',\n 'following',\n 'Judaism',\n 'and',\n 'Christianity',\n ',',\n 'often',\n 'in',\n 'puritanical',\n 'form',\n '.',\n 'Mahmud',\n 'of',\n 'Ghazni',\n 'in',\n 'the',\n 'early',\n '11th',\n 'century',\n 'raided',\n 'mainly',\n 'the',\n 'north',\n '-',\n 'western',\n 'parts',\n 'of',\n 'the',\n 'Indian',\n 'sub',\n '-',\n 'continent',\n '17',\n 'times',\n ',',\n 'but',\n 'he',\n 'did',\n 'not',\n 'seek',\n 'to',\n 'establish',\n '\"',\n 'permanent',\n 'dominion',\n '\"',\n 'in',\n 'those',\n 'areas',\n '.',\n 'EOS']"
     },
     "metadata": {},
     "execution_count": 31
    }
   ],
   "source": [
    "cont[0]"
   ]
  },
  {
   "cell_type": "code",
   "execution_count": null,
   "metadata": {},
   "outputs": [],
   "source": []
  }
 ],
 "metadata": {
  "language_info": {
   "codemirror_mode": {
    "name": "ipython",
    "version": 3
   },
   "file_extension": ".py",
   "mimetype": "text/x-python",
   "name": "python",
   "nbconvert_exporter": "python",
   "pygments_lexer": "ipython3",
   "version": "3.6.9-final"
  },
  "orig_nbformat": 2,
  "kernelspec": {
   "name": "python3",
   "display_name": "Python 3"
  }
 },
 "nbformat": 4,
 "nbformat_minor": 2
}